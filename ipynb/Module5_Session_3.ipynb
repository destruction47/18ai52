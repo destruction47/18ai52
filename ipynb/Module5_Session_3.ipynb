{
  "nbformat": 4,
  "nbformat_minor": 0,
  "metadata": {
    "colab": {
      "name": "Module5_Session 3.ipynb",
      "provenance": [],
      "collapsed_sections": []
    },
    "kernelspec": {
      "name": "python3",
      "display_name": "Python 3"
    }
  },
  "cells": [
    {
      "cell_type": "markdown",
      "metadata": {
        "id": "O-od2TV_oDFg"
      },
      "source": [
        "# **Working with PDF and Word Documents**\r\n",
        "\r\n",
        "PDF stands for Portable Document Format and uses the .pdf file extension.\r\n",
        "\r\n",
        "The module we’ll use to work with PDFs is PyPDF2.\r\n",
        "\r\n",
        "intall supporting wheel module and then install PyPDF2\r\n",
        "\r\n",
        "run `pip install wheel` and then\r\n",
        "\r\n",
        "To install it, run `pip install PyPDF2` from the command line\r\n",
        "\r\n",
        "if its not working, we can also try\r\n",
        "\r\n",
        "`py -3.7 -m pip install PyPDF2`"
      ]
    },
    {
      "cell_type": "code",
      "metadata": {
        "id": "OSogf04xpS8Z"
      },
      "source": [
        "C:\\Users\\Admin>pip install wheel\r\n",
        "Collecting wheel\r\n",
        "  Using cached wheel-0.36.2-py2.py3-none-any.whl (35 kB)\r\n",
        "Installing collected packages: wheel\r\n",
        "Successfully installed wheel-0.36.2\r\n",
        "\r\n",
        "C:\\Users\\Admin>pip install PyPDF2\r\n",
        "Collecting PyPDF2\r\n",
        "  Using cached PyPDF2-1.26.0.tar.gz (77 kB)\r\n",
        "Building wheels for collected packages: PyPDF2\r\n",
        "  Building wheel for PyPDF2 (setup.py) ... done\r\n",
        "  Created wheel for PyPDF2: filename=PyPDF2-1.26.0-py3-none-any.whl size=61085 sha256=8119520e57eea1151e21887d0bdbd091cb04a069ecd41652974cad818de76742\r\n",
        "  Stored in directory: c:\\users\\admin\\appdata\\local\\pip\\cache\\wheels\\d9\\dc\\ec\\72da68331f30074b9950c1737c23cb8a67484e61498bc9713d\r\n",
        "Successfully built PyPDF2\r\n",
        "Installing collected packages: PyPDF2\r\n",
        "Successfully installed PyPDF2-1.26.0\r\n",
        "\r\n",
        "C:\\Users\\Admin>py -3.7 -m pip install PyPDF2\r\n",
        "Collecting PyPDF2\r\n",
        "  Using cached https://files.pythonhosted.org/packages/b4/01/68fcc0d43daf4c6bdbc6b33cc3f77bda531c86b174cac56ef0ffdb96faab/PyPDF2-1.26.0.tar.gz\r\n",
        "Building wheels for collected packages: PyPDF2\r\n",
        "  Building wheel for PyPDF2 (setup.py) ... done\r\n",
        "  Created wheel for PyPDF2: filename=PyPDF2-1.26.0-cp37-none-any.whl size=61091 sha256=2b0ecbb0d01f167421e3dd7cd6cc41aa5d4e4323601ddabb30766994caaf3f1e\r\n",
        "  Stored in directory: C:\\Users\\Admin\\AppData\\Local\\pip\\Cache\\wheels\\53\\84\\19\\35bc977c8bf5f0c23a8a011aa958acd4da4bbd7a229315c1b7\r\n",
        "Successfully built PyPDF2\r\n",
        "Installing collected packages: PyPDF2\r\n",
        "Successfully installed PyPDF2-1.26.0"
      ],
      "execution_count": null,
      "outputs": []
    },
    {
      "cell_type": "markdown",
      "metadata": {
        "id": "yTa9e_wzpe1e"
      },
      "source": [
        "### **Extracting Text from PDFs**\r\n",
        "\r\n",
        "PyPDF2 does not have a way to extract images, charts, or other media from PDF documents, but it can extract text and return it as a Python string.\r\n",
        "\r\n",
        "Download this PDF from http://nostarch.com/automatestuff/, and enter\r\n",
        "the following into the interactive shell"
      ]
    },
    {
      "cell_type": "code",
      "metadata": {
        "id": "03tX-iKarr8l"
      },
      "source": [
        "import PyPDF2\r\n",
        "pdfFileObj = open('meetingminutes.pdf', 'rb')\r\n",
        "pdfReader = PyPDF2.PdfFileReader(pdfFileObj)\r\n",
        "pdfReader.numPages\r\n",
        "\r\n",
        "pageObj = pdfReader.getPage(0)\r\n",
        "print(pageObj.extractText())"
      ],
      "execution_count": null,
      "outputs": []
    },
    {
      "cell_type": "markdown",
      "metadata": {
        "id": "TGAXA3X903se"
      },
      "source": [
        "**Explanation:**\r\n",
        "\r\n",
        "First, import the PyPDF2 module. \r\n",
        "\r\n",
        "Then open meetingminutes.pdf in read binary mode and store it in pdfFileObj. \r\n",
        "\r\n",
        "To get a PdfFileReader object that represents this PDF, call PyPDF2.\r\n",
        "\r\n",
        "PdfFileReader() and pass it pdfFileObj. Store thisPdfFileReader object in pdfReader.\r\n",
        "\r\n",
        "`numPages` attribute of a PdfFileReader object contains number of pages in Pdf file.\r\n",
        "\r\n",
        "PyPDF2 uses a zero-based index for getting pages: The first page is page 0, the second is page 1, and so on.\r\n",
        "\r\n",
        "`extractText()` method to return a string of the page’s text\r\n",
        "\r\n"
      ]
    },
    {
      "cell_type": "markdown",
      "metadata": {
        "id": "dog8i22W2k0v"
      },
      "source": [
        "### **Decrypting PDFs**\r\n",
        "\r\n",
        "Some PDF documents have an encryption feature that will keep them from being read until whoever is opening the document provides a password.\r\n",
        "\r\n",
        "password rosebud"
      ]
    },
    {
      "cell_type": "code",
      "metadata": {
        "id": "BloFRIxu2zB5"
      },
      "source": [
        "import PyPDF2\r\n",
        "pdfReader = PyPDF2.PdfFileReader(open('encrypted.pdf', 'rb'))\r\n",
        "print(pdfReader.isEncrypted)\r\n",
        "\r\n",
        "pdfReader.getPage(0)\r\n",
        "\r\n",
        "pdfReader.decrypt('rosebud')    \r\n",
        "\r\n",
        "pageObj = pdfReader.getPage(0)\r\n",
        "\r\n",
        "pageObj.extractText()"
      ],
      "execution_count": null,
      "outputs": []
    },
    {
      "cell_type": "markdown",
      "metadata": {
        "id": "IGJWUyB75LAI"
      },
      "source": [
        "All PdfFileReader objects have an isEncrypted attribute that is True if the PDF is encrypted and False if it isn’t.\r\n",
        "\r\n",
        "Any attempt to call a function that reads the file before it has been decrypted with the correct password will result in an error\r\n",
        "\r\n",
        "To read an encrypted PDF, call the decrypt() function and pass the password\r\n",
        "as a string"
      ]
    },
    {
      "cell_type": "markdown",
      "metadata": {
        "id": "sM4UVL6i6ys5"
      },
      "source": [
        "### **Creating PDFs**\r\n",
        "\r\n",
        "PdfFileWriter objects can create new PDF files\r\n",
        "\r\n",
        "PyPDF2’s PDF-writing capabilities are limited to copying pages from other PDFs, rotating pages, overlaying pages, and encrypting files.\r\n",
        "\r\n",
        "PyPDF2 doesn’t allow you to directly edit a PDF. Instead, you have to create a new PDF and then copy content over from an existing document.\r\n",
        "\r\n",
        "General approach:\r\n",
        "\r\n",
        "1. Open one or more existing PDFs (the source PDFs) into PdfFileReader objects.\r\n",
        "2. Create a new PdfFileWriter object.\r\n",
        "3. Copy pages from the PdfFileReader objects into the PdfFileWriter object.\r\n",
        "4. Finally, use the PdfFileWriter object to write the output PDF.\r\n",
        "\r\n",
        "PdfFileWriter object doesn’t create the actual PDF file. For that, we need to use PdfFileWriter’s write() method. The write() method takes a regular File object that has been opened in write-binary mode."
      ]
    },
    {
      "cell_type": "markdown",
      "metadata": {
        "id": "BnDC7dlN9CkF"
      },
      "source": [
        "### **Copying Pages**\r\n",
        "\r\n",
        "We can use PyPDF2 to copy pages from one PDF document to another.\r\n",
        "\r\n"
      ]
    },
    {
      "cell_type": "code",
      "metadata": {
        "id": "RaOl5mRZ8_Dy"
      },
      "source": [
        "import PyPDF2\r\n",
        "pdf1File = open('meetingminutes.pdf', 'rb')\r\n",
        "pdf2File = open('meetingminutes2.pdf', 'rb')\r\n",
        "pdf1Reader = PyPDF2.PdfFileReader(pdf1File)\r\n",
        "pdf2Reader = PyPDF2.PdfFileReader(pdf2File)\r\n",
        "pdfWriter = PyPDF2.PdfFileWriter()\r\n",
        "for pageNum in range(pdf1Reader.numPages):\r\n",
        "  pageObj = pdf1Reader.getPage(pageNum)\r\n",
        "  pdfWriter.addPage(pageObj)\r\n",
        "for pageNum in range(pdf2Reader.numPages):\r\n",
        "  pageObj = pdf2Reader.getPage(pageNum)\r\n",
        "  pdfWriter.addPage(pageObj)\r\n",
        "pdfOutputFile = open('combinedminutes.pdf', 'wb')\r\n",
        "pdfWriter.write(pdfOutputFile)\r\n",
        "pdfOutputFile.close()\r\n",
        "pdf1File.close()\r\n",
        "pdf2File.close()"
      ],
      "execution_count": null,
      "outputs": []
    },
    {
      "cell_type": "markdown",
      "metadata": {
        "id": "pLS49Dxy-9iq"
      },
      "source": [
        "**Explanation:**\r\n",
        "\r\n",
        "1. Call PyPDF2.PdfFileReader() and pass it pdf1File to get a PdfFileReader object for meetingminutes.pdf\r\n",
        "2. Call it again and pass it pdf2File to get a PdfFileReader object for meetingminutes2.pdf\r\n",
        "3. Then create a new PdfFileWriter object, which represents a blank PDF\r\n",
        "document\r\n",
        "4. copy all the pages from the two source PDFs and add them to the PdfFileWriter object. Get the Page object by calling getPage() on a PdfFileReader object\r\n",
        "5. Then pass that Page object to your PdfFileWriter’s addPage() method\r\n",
        "6. When you’re done copying pages, write a new PDF called combinedminutes.pdf by passing a File object to the PdfFileWriter’s write() method"
      ]
    },
    {
      "cell_type": "markdown",
      "metadata": {
        "id": "p6Zh3lAjAGwg"
      },
      "source": [
        "### **Rotating Pages**\r\n",
        "\r\n",
        "The pages of a PDF can also be rotated in 90-degree increments with the rotateClockwise() and rotateCounterClockwise() methods. Pass one of the integers 90, 180, or 270 to these methods."
      ]
    },
    {
      "cell_type": "code",
      "metadata": {
        "id": "moFerplxAikW"
      },
      "source": [
        "import PyPDF2\r\n",
        "minutesFile = open('meetingminutes.pdf', 'rb')\r\n",
        "pdfReader = PyPDF2.PdfFileReader(minutesFile)\r\n",
        "page = pdfReader.getPage(0)\r\n",
        "page.rotateClockwise(90)\r\n",
        "\r\n",
        "pdfWriter = PyPDF2.PdfFileWriter()\r\n",
        "pdfWriter.addPage(page)\r\n",
        "resultPdfFile = open('rotatedPage.pdf', 'wb')\r\n",
        "pdfWriter.write(resultPdfFile)\r\n",
        "resultPdfFile.close()\r\n",
        "minutesFile.close()"
      ],
      "execution_count": null,
      "outputs": []
    },
    {
      "cell_type": "markdown",
      "metadata": {
        "id": "ubqhDzrLBeQP"
      },
      "source": [
        "Code Explanation:\r\n",
        "\r\n",
        "1. We use getPage(0) to select the first page of the PDF\r\n",
        "2. we call rotateClockwise(90) on that page\r\n",
        "3. We write a new PDF with the rotated page and save it as rotatedPage.pdf\r\n",
        "\r\n",
        "The resulting PDF will have one page, rotated 90 degrees clockwise. We can also use rotateCounterClockwise(90)"
      ]
    },
    {
      "cell_type": "markdown",
      "metadata": {
        "id": "33CiNs8aCEoS"
      },
      "source": [
        "### **Overlaying Pages**\r\n",
        "\r\n",
        "PyPDF2 can also overlay the contents of one page over another, which is useful for adding a logo, timestamp, or watermark to a page. "
      ]
    },
    {
      "cell_type": "code",
      "metadata": {
        "id": "8fJK81ryCi3H"
      },
      "source": [
        "import PyPDF2\r\n",
        "minutesFile = open('meetingminutes.pdf', 'rb')\r\n",
        "pdfReader = PyPDF2.PdfFileReader(minutesFile)\r\n",
        "minutesFirstPage = pdfReader.getPage(0)\r\n",
        "pdfWatermarkReader = PyPDF2.PdfFileReader(open('watermark.pdf', 'rb'))\r\n",
        "minutesFirstPage.mergePage(pdfWatermarkReader.getPage(0))\r\n",
        "pdfWriter = PyPDF2.PdfFileWriter()\r\n",
        "pdfWriter.addPage(minutesFirstPage)\r\n",
        "\r\n",
        "for pageNum in range(1, pdfReader.numPages):\r\n",
        "  pageObj = pdfReader.getPage(pageNum)\r\n",
        "  pdfWriter.addPage(pageObj)\r\n",
        "resultPdfFile = open('watermarkedCover.pdf', 'wb')\r\n",
        "pdfWriter.write(resultPdfFile)\r\n",
        "minutesFile.close()\r\n",
        "resultPdfFile.close()"
      ],
      "execution_count": null,
      "outputs": []
    },
    {
      "cell_type": "markdown",
      "metadata": {
        "id": "9dDUdvnPEWd8"
      },
      "source": [
        "**Explanation:**\r\n",
        "1. we make a PdfFileReader object of meetingminutes.pdf\r\n",
        "2. We call getPage(0) to get a Page object for the first page and store this object in minutesFirstPage\r\n",
        "3. We then make a PdfFileReader object for watermark.pdf\r\n",
        "4. call mergePage() on minutesFirstPage\r\n",
        "5. We make a PdfFileWriter object and add the watermarked first page\r\n",
        "6. Then we loop through the rest of the pages in meetingminutes.pdf and add them to the PdfFileWriter object.\r\n",
        "7. Finally, we open a new PDF called watermarkedCover.pdf and write the contents of the PdfFileWriter to the new PDF\r\n",
        "\r\n"
      ]
    },
    {
      "cell_type": "markdown",
      "metadata": {
        "id": "KwNpMmHDtYlx"
      },
      "source": [
        "### **Encrypting PDFs**\r\n",
        "\r\n",
        "A PdfFileWriter object can also add encryption to a PDF document"
      ]
    },
    {
      "cell_type": "code",
      "metadata": {
        "id": "cltckQ6itkzB"
      },
      "source": [
        "import PyPDF2\r\n",
        "pdfFile = open('meetingminutes.pdf', 'rb')\r\n",
        "pdfReader = PyPDF2.PdfFileReader(pdfFile)\r\n",
        "pdfWriter = PyPDF2.PdfFileWriter()\r\n",
        "for pageNum in range(pdfReader.numPages):\r\n",
        "  pdfWriter.addPage(pdfReader.getPage(pageNum))\r\n",
        "pdfWriter.encrypt('swordfish')\r\n",
        "resultPdf = open('encryptedminutes.pdf', 'wb')\r\n",
        "pdfWriter.write(resultPdf)\r\n",
        "resultPdf.close()"
      ],
      "execution_count": null,
      "outputs": []
    },
    {
      "cell_type": "markdown",
      "metadata": {
        "id": "WTVI04eMuQ2s"
      },
      "source": [
        "Before calling the write() method to save to a file, call the encrypt() method and pass it a password string.\r\n",
        "\r\n",
        "encrypt(userpassword, ownerpassword)\r\n",
        "\r\n",
        "1. userpassword: allow for only viewing content\r\n",
        "2. ownerpassword: allowing permission for printing, commenting,  extracting text, and other features.\r\n",
        "\r\n",
        "If only one parameter is sent encrypt() function, its considers as user password\r\n",
        "\r\n"
      ]
    },
    {
      "cell_type": "markdown",
      "metadata": {
        "id": "V6vBOYjvveZd"
      },
      "source": [
        "## **Project: Combining Select Pages from Many PDFs**\r\n",
        "\r\n",
        "There is a requirement of combing several PDF documents with selective pages into a single PDF.\r\n",
        "\r\n",
        "At a high level, here’s what the program will do:\r\n",
        "1. Find all PDF files in the current working directory.\r\n",
        "2. Sort the filenames so the PDFs are added in order.\r\n",
        "3. Write each page, excluding the first page, of each PDF to the output file.\r\n",
        "\r\n",
        "In terms of implementation, your code will need to do the following:\r\n",
        "1. Call os.listdir() to find all the files in the working directory and remove any non-PDF files.\r\n",
        "2. Call Python’s sort() list method to alphabetize the filenames.\r\n",
        "3. Create a PdfFileWriter object for the output PDF.\r\n",
        "4. Loop over each PDF file, creating a PdfFileReader object for it.\r\n",
        "5. Loop over each page (except the first) in each PDF file.\r\n",
        "6. Add the pages to the output PDF.\r\n",
        "7. Write the output PDF to a file named allminutes.pdf.\r\n",
        "\r\n",
        "For this project, open a new file editor window and save it as combinePdfs.py."
      ]
    },
    {
      "cell_type": "code",
      "metadata": {
        "id": "dluCFW7Jwq-q"
      },
      "source": [
        "import PyPDF2, os\r\n",
        "\r\n",
        "# Get all the PDF filenames.\r\n",
        "pdfFiles = []\r\n",
        "for filename in os.listdir('.'):\r\n",
        "  if filename.endswith('.pdf'):\r\n",
        "    pdfFiles.append(filename)\r\n",
        "pdfFiles.sort(key = str.lower)\r\n",
        "pdfWriter = PyPDF2.PdfFileWriter()\r\n",
        "\r\n",
        "# Loop through all the PDF files.\r\n",
        "for filename in pdfFiles:\r\n",
        "  pdfFileObj = open(filename, 'rb')\r\n",
        "  pdfReader = PyPDF2.PdfFileReader(pdfFileObj)\r\n",
        "\r\n",
        "  # Loop through all the pages (except the first) and add them.\r\n",
        "  for pageNum in range(1, pdfReader.numPages):\r\n",
        "    pageObj = pdfReader.getPage(pageNum)\r\n",
        "    pdfWriter.addPage(pageObj)\r\n",
        "\r\n",
        "# Save the resulting PDF to a file.\r\n",
        "pdfOutput = open('allminutes.pdf', 'wb')\r\n",
        "pdfWriter.write(pdfOutput)\r\n",
        "pdfOutput.close()"
      ],
      "execution_count": null,
      "outputs": []
    },
    {
      "cell_type": "markdown",
      "metadata": {
        "id": "sdrrAOggj1GT"
      },
      "source": [
        "## **Word Documents**\r\n",
        "\r\n",
        "Python can create and modify Word documents, which have the .docx file extension, with the python-docx module.\r\n",
        "\r\n",
        "To install python-docx module use `pip install python-docx`\r\n",
        "\r\n"
      ]
    },
    {
      "cell_type": "code",
      "metadata": {
        "id": "pE-_bCCQlF14"
      },
      "source": [
        "C:\\Users\\Admin>pip install python-docx\r\n",
        "Collecting python-docx\r\n",
        "  Downloading python-docx-0.8.10.tar.gz (5.5 MB)\r\n",
        "     |████████████████████████████████| 5.5 MB 87 kB/s\r\n",
        "Collecting lxml>=2.3.2\r\n",
        "  Downloading lxml-4.6.2-cp39-cp39-win_amd64.whl (3.5 MB)\r\n",
        "     |████████████████████████████████| 3.5 MB 121 kB/s\r\n",
        "Building wheels for collected packages: python-docx\r\n",
        "  Building wheel for python-docx (setup.py) ... done\r\n",
        "  Created wheel for python-docx: filename=python_docx-0.8.10-py3-none-any.whl size=184489 sha256=0c4a25feae1d7fb38043468797e7246215ecce3b96f1001aaea5d8fe83ab498b\r\n",
        "  Stored in directory: c:\\users\\admin\\appdata\\local\\pip\\cache\\wheels\\d0\\9f\\b0\\6c97fe84397519cce28035e638c5f2dac3409ba2df7c62d242\r\n",
        "Successfully built python-docx\r\n",
        "Installing collected packages: lxml, python-docx\r\n",
        "Successfully installed lxml-4.6.2 python-docx-0.8.10"
      ],
      "execution_count": null,
      "outputs": []
    },
    {
      "cell_type": "markdown",
      "metadata": {
        "id": "V1AJqjoikRZv"
      },
      "source": [
        "The full documentation for Python-Docx is available at https://python-docx.readthedocs.org/\r\n",
        "\r\n",
        "The Structure of Docx file is represented by three different data types in Python-Docx.\r\n",
        "\r\n",
        "`Document` object represents the entire document.\r\n",
        "\r\n",
        "`Paragraph` object: Document contains list of these objects\r\n",
        "\r\n",
        "`Run` objects: A paragraph contains a list of one or more run objects\r\n",
        "\r\n",
        "![image.png](data:image/png;base64,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)\r\n",
        "\r\n",
        "The Run objects identified in a Paragraph object.\r\n"
      ]
    },
    {
      "cell_type": "markdown",
      "metadata": {
        "id": "_faiTmUamDsV"
      },
      "source": [
        "A ***style*** is a collection of information like: font, size, color, other style associated information.\r\n",
        "\r\n",
        "A run object is a contiguous run of text with the same style. A new Run object is needed whenever the text style changes."
      ]
    },
    {
      "cell_type": "code",
      "metadata": {
        "id": "UmlLqqgXpecr"
      },
      "source": [
        "import docx\r\n",
        "doc = docx.Document('demo.docx')\r\n",
        "len(doc.paragraphs)\r\n",
        "7\r\n",
        "\r\n",
        "doc.paragraphs[0].text\r\n",
        "'Document Title'\r\n",
        "\r\n",
        "doc.paragraphs[1].text\r\n",
        "'A plain paragraph with some bold and some italic'\r\n",
        "\r\n",
        "len(doc.paragraphs[1].runs)\r\n",
        "4\r\n",
        "\r\n",
        "doc.paragraphs[1].runs[0].text\r\n",
        "'A plain paragraph with some '\r\n",
        "\r\n",
        "doc.paragraphs[1].runs[1].text\r\n",
        "'bold'\r\n",
        "\r\n",
        "doc.paragraphs[1].runs[2].text\r\n",
        "' and some '\r\n",
        "\r\n",
        "doc.paragraphs[1].runs[3].text\r\n",
        "'italic'"
      ],
      "execution_count": null,
      "outputs": []
    },
    {
      "cell_type": "markdown",
      "metadata": {
        "id": "ATDFuMbE2yeY"
      },
      "source": [
        "1. we open a .docx file in Python, call docx.Document(), and pass the filename demo.docx, it return Document object.\r\n",
        "\r\n",
        "Access paragraph attribute - list of Paragraph objects, len returns the number of paragraphs\r\n",
        "\r\n",
        "2. Each paragraph object has string of text - attribute text (without style information)\r\n",
        "3. Each Paragraph object run attribute - inturn run has text attribute \r\n",
        "\r\n"
      ]
    },
    {
      "cell_type": "markdown",
      "metadata": {
        "id": "mHjsH6A-4t4r"
      },
      "source": [
        "### **Getting the Full Text from a .docx File**\r\n",
        "\r\n",
        "getText() function accepts the file name of .docx and return single string values of its text. \r\n",
        "\r\n",
        "Store the below code in `readDocx.py`"
      ]
    },
    {
      "cell_type": "code",
      "metadata": {
        "id": "M9RQBYFx5QcO"
      },
      "source": [
        "import docx\r\n",
        "def getText(filename):\r\n",
        "  doc = docx.Document(filename)\r\n",
        "  fullText = []\r\n",
        "  for para in doc.paragraphs:\r\n",
        "    fullText.append(para.text)\r\n",
        "  return '\\n'.join(fullText)"
      ],
      "execution_count": null,
      "outputs": []
    },
    {
      "cell_type": "markdown",
      "metadata": {
        "id": "bWKsaQdZ5n7m"
      },
      "source": [
        "The getText() function opens the Word document, loops over all the Paragraph objects in the paragraphs list, and then appends their text to the list in fullText."
      ]
    },
    {
      "cell_type": "code",
      "metadata": {
        "id": "QBkSr1yB9HjO"
      },
      "source": [
        "import readDocx\r\n",
        "print(readDocx.getText('demo.docx'))"
      ],
      "execution_count": null,
      "outputs": []
    },
    {
      "cell_type": "markdown",
      "metadata": {
        "id": "_MC6f-p5_H25"
      },
      "source": [
        "### **Styling Paragraph and Run Objects**\r\n",
        "\r\n",
        "Style can be applied to all the paragraphs or certain paragrahs.\r\n",
        "\r\n",
        "For Word documents, there are three types of styles: \r\n",
        "1. Paragraph styles can be applied to Paragraph objects, \r\n",
        "2. character styles can be applied to Run objects, and \r\n",
        "3. linked styles can be applied to both kinds of objects\r\n",
        "\r\n",
        "![image.png](data:image/png;base64,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)\r\n",
        "\r\n",
        "for a Run object, you will need to add 'Char' to the end of its name\r\n",
        "\r\n",
        "Example:\r\n",
        "\r\n",
        "for a Paragraph object, you would use `paragraphObj.style = 'Quote'`\r\n",
        "\r\n",
        "but for a Run object, you would use `runObj.style = 'QuoteChar'`"
      ]
    },
    {
      "cell_type": "markdown",
      "metadata": {
        "id": "x9RbJ09OHMan"
      },
      "source": [
        "### **Run Attributes**\r\n",
        "\r\n",
        "Run text attributes can have 3 values: True, False, None\r\n",
        "\r\n",
        "Run Object text attributes are:\r\n",
        "\r\n",
        "![image.png](data:image/png;base64,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)"
      ]
    },
    {
      "cell_type": "markdown",
      "metadata": {
        "id": "PHle81iy71RH"
      },
      "source": [
        "For example, to change the styles of demo.docx, enter the following into\r\n",
        "the interactive shell:"
      ]
    },
    {
      "cell_type": "code",
      "metadata": {
        "id": "I3yE73UZ75zI"
      },
      "source": [
        "doc = docx.Document('demo.docx')\r\n",
        "doc.paragraphs[0].text\r\n",
        "'Document Title'\r\n",
        "\r\n",
        "doc.paragraphs[0].style\r\n",
        "'Title'\r\n",
        "\r\n",
        "doc.paragraphs[0].style = 'Normal'\r\n",
        "doc.paragraphs[1].text\r\n",
        "'A plain paragraph with some bold and some italic'\r\n",
        "\r\n",
        "(doc.paragraphs[1].runs[0].text, doc.paragraphs[1].runs[1].text, doc.paragraphs[1].runs[2].text, doc.paragraphs[1].runs[3].text)\r\n",
        "('A plain paragraph with some ', 'bold', ' and some ', 'italic')\r\n",
        "\r\n",
        "doc.paragraphs[1].runs[0].style = 'QuoteChar'\r\n",
        "doc.paragraphs[1].runs[1].underline = True\r\n",
        "doc.paragraphs[1].runs[3].underline = True\r\n",
        "doc.save('restyled.docx')"
      ],
      "execution_count": null,
      "outputs": []
    },
    {
      "cell_type": "markdown",
      "metadata": {
        "id": "P0hxo-ubDlQr"
      },
      "source": [
        "we use the text and style attributes to easily see what’s in the paragraphs in our document.\r\n",
        "\r\n",
        "The words Document Title at the top of restyled.docx will have the Normal style instead of the Title style, the Run object for the text A plain paragraph with some will have the QuoteChar style, and the two Run objects for the words bold and italic will have their underline attributes set to True."
      ]
    },
    {
      "cell_type": "markdown",
      "metadata": {
        "id": "wlF5BK9EEO3e"
      },
      "source": [
        "### **Writing Word Documents**\r\n",
        "\r\n",
        "To create your own .docx file, call docx.Document() to return a new, blank Word Document object.\r\n",
        "\r\n",
        "The add_paragraph() document method adds a new paragraph of text to the document and returns a reference to the Paragraph object that was added.\r\n",
        "\r\n",
        "And pass a filename string to the save() document method to save the Document object to a file.\r\n"
      ]
    },
    {
      "cell_type": "code",
      "metadata": {
        "id": "-QCe2LJJFZ6V"
      },
      "source": [
        "import docx\r\n",
        "doc = docx.Document()\r\n",
        "doc.add_paragraph('Hello world!')\r\n",
        "<docx.text.Paragraph object at 0x0000000003B56F60>\r\n",
        "\r\n",
        "doc.save('helloworld.docx')"
      ],
      "execution_count": null,
      "outputs": []
    },
    {
      "cell_type": "markdown",
      "metadata": {
        "id": "YUw-hrC5FY8S"
      },
      "source": [
        "add_run() can used to add text to the paragraph which is already existing"
      ]
    },
    {
      "cell_type": "code",
      "metadata": {
        "id": "hapBeS98Ff7K"
      },
      "source": [
        "import docx\r\n",
        "doc = docx.Document()\r\n",
        "doc.add_paragraph('Hello world!')\r\n",
        "<docx.text.Paragraph object at 0x000000000366AD30>\r\n",
        "\r\n",
        "paraObj1 = doc.add_paragraph('This is a second paragraph.')\r\n",
        "paraObj2 = doc.add_paragraph('This is a yet another paragraph.')\r\n",
        "paraObj1.add_run(' This text is being added to the second paragraph.')\r\n",
        "<docx.text.Run object at 0x0000000003A2C860>\r\n",
        "\r\n",
        "doc.save('multipleParagraphs.docx')"
      ],
      "execution_count": null,
      "outputs": []
    },
    {
      "cell_type": "markdown",
      "metadata": {
        "id": "lwthiZgpF25L"
      },
      "source": [
        "Note that the text This text is being added to the second paragraph. was added to the Paragraph object in `paraObj1`, which was the second paragraph added to doc.\r\n",
        "\r\n",
        "The `add_paragraph()` and `add_run()` functions return paragraph and Run objects, respectively"
      ]
    },
    {
      "cell_type": "markdown",
      "metadata": {
        "id": "EGTVHj7dJs9p"
      },
      "source": [
        "### **Adding Headings**\r\n",
        "\r\n",
        "add_heading() adds a paragraph with one of the heading styles"
      ]
    },
    {
      "cell_type": "code",
      "metadata": {
        "id": "hog1L1roJzlI"
      },
      "source": [
        ">>> doc = docx.Document()\r\n",
        ">>> doc.add_heading('Header 0', 0)\r\n",
        "<docx.text.Paragraph object at 0x00000000036CB3C8>\r\n",
        "\r\n",
        ">>> doc.add_heading('Header 1', 1)\r\n",
        "<docx.text.Paragraph object at 0x00000000036CB630>\r\n",
        "\r\n",
        ">>> doc.add_heading('Header 2', 2)\r\n",
        "<docx.text.Paragraph object at 0x00000000036CB828>\r\n",
        "\r\n",
        ">>> doc.add_heading('Header 3', 3)\r\n",
        "<docx.text.Paragraph object at 0x00000000036CB2E8>\r\n",
        "\r\n",
        ">>> doc.add_heading('Header 4', 4)\r\n",
        "<docx.text.Paragraph object at 0x00000000036CB3C8>\r\n",
        "\r\n",
        ">>> doc.save('headings.docx')"
      ],
      "execution_count": null,
      "outputs": []
    },
    {
      "cell_type": "markdown",
      "metadata": {
        "id": "5xL8Htw8KLJL"
      },
      "source": [
        "Heading 0, becomes the title and rest from 1 to 4 of various styles. The content of heading.docx will be\r\n",
        "\r\n",
        "![image.png](data:image/png;base64,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)"
      ]
    },
    {
      "cell_type": "markdown",
      "metadata": {
        "id": "LtCg5hggKftt"
      },
      "source": [
        "### **Adding Line and Page Breaks**\r\n",
        "\r\n",
        "add a line break (rather than starting a whole new paragraph), we can call the add_break() method on the Run object.\r\n",
        "\r\n",
        "To add page break, we need to pass `docx.text.WD_BREAK.PAGE` to add_break() method."
      ]
    },
    {
      "cell_type": "code",
      "metadata": {
        "id": "jbDLUAeTLIse"
      },
      "source": [
        ">>> doc = docx.Document()\r\n",
        ">>> doc.add_paragraph('This is on the first page!')\r\n",
        "<docx.text.Paragraph object at 0x0000000003785518>\r\n",
        "\r\n",
        ">>> doc.paragraphs[0].runs[0].add_break(docx.text.WD_BREAK.PAGE)\r\n",
        ">>> doc.add_paragraph('This is on the second page!')\r\n",
        "<docx.text.Paragraph object at 0x00000000037855F8>\r\n",
        "\r\n",
        ">>> doc.save('twoPage.docx')"
      ],
      "execution_count": null,
      "outputs": []
    },
    {
      "cell_type": "markdown",
      "metadata": {
        "id": "_pjCzyfVLT2k"
      },
      "source": [
        "This creates a two-page Word document with This is on the first page! on the first page and This is on the second page! on the second"
      ]
    },
    {
      "cell_type": "markdown",
      "metadata": {
        "id": "LP9YMKgoLXlO"
      },
      "source": [
        "### **Adding Pictures**\r\n",
        "\r\n",
        "add_picture() method will let us add an image at the end of the document.\r\n",
        "\r\n",
        "Adding `zophie.png` picture with width = 1 inch and height = 4 Cms"
      ]
    },
    {
      "cell_type": "code",
      "metadata": {
        "id": "BLRf4HsfMFKG"
      },
      "source": [
        ">>> doc.add_picture('zophie.png', width=docx.shared.Inches(1), height=docx.shared.Cm(4))\r\n",
        "<docx.shape.InlineShape object at 0x00000000036C7D30>"
      ],
      "execution_count": null,
      "outputs": []
    }
  ]
}
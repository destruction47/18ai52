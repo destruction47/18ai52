{
  "nbformat": 4,
  "nbformat_minor": 0,
  "metadata": {
    "colab": {
      "name": "Copy of Functions1.ipynb",
      "provenance": [],
      "collapsed_sections": []
    },
    "kernelspec": {
      "name": "python3",
      "display_name": "Python 3"
    }
  },
  "cells": [
    {
      "cell_type": "markdown",
      "metadata": {
        "id": "3k26TrSxPx7a",
        "colab_type": "text"
      },
      "source": [
        "**Two types of functions**\n",
        "\n",
        "1. Builtin functions\n",
        "2. User defined functons"
      ]
    },
    {
      "cell_type": "code",
      "metadata": {
        "id": "Fk0Q1vqGteRf",
        "colab_type": "code",
        "colab": {}
      },
      "source": [
        "def hello():          #Function definition begins here.....\n",
        "  print('Howdy!')\n",
        "  print('Howdy!!!')\n",
        "  print('Hello there.')"
      ],
      "execution_count": 2,
      "outputs": []
    },
    {
      "cell_type": "code",
      "metadata": {
        "id": "fxyITewmQQuz",
        "colab_type": "code",
        "colab": {
          "base_uri": "https://localhost:8080/",
          "height": 68
        },
        "outputId": "62921a94-739a-4a80-94d6-70d90b7b50e1"
      },
      "source": [
        "hello()       #function call"
      ],
      "execution_count": 3,
      "outputs": [
        {
          "output_type": "stream",
          "text": [
            "Howdy!\n",
            "Howdy!!!\n",
            "Hello there.\n"
          ],
          "name": "stdout"
        }
      ]
    },
    {
      "cell_type": "markdown",
      "metadata": {
        "id": "Sad__ZmAtgno",
        "colab_type": "text"
      },
      "source": [
        "Advantage : ***Deduplication*** makes your programs shorter, easier to read,\n",
        "and easier to update."
      ]
    },
    {
      "cell_type": "markdown",
      "metadata": {
        "id": "UNQMLYa3Sold",
        "colab_type": "text"
      },
      "source": [
        "def Statements with Parameters"
      ]
    },
    {
      "cell_type": "code",
      "metadata": {
        "id": "qjSudgn0SDkR",
        "colab_type": "code",
        "colab": {}
      },
      "source": [
        "def hello(name): #A parameter is a variable that an argument is stored in when a\n",
        "                  #function is called\n",
        "  print('Hello ' + name)\n",
        "\n",
        "hello('Alice') #function call with parameter 'Alice'\n",
        "hello('Bob')"
      ],
      "execution_count": null,
      "outputs": []
    },
    {
      "cell_type": "markdown",
      "metadata": {
        "id": "V2xnTkisTwI4",
        "colab_type": "text"
      },
      "source": [
        "**Return Values and return Statements**\n",
        "\n",
        "When creating a function using the def statement, you can specify what\n",
        "the return value should be with a return statement. A return statement consists of the following:\n",
        "\n",
        "• The return keyword\n",
        "\n",
        "• The value or expression that the function should return"
      ]
    },
    {
      "cell_type": "code",
      "metadata": {
        "id": "SSZSTiKJTpre",
        "colab_type": "code",
        "colab": {
          "base_uri": "https://localhost:8080/",
          "height": 34
        },
        "outputId": "a899f880-8ec8-47f3-b121-f8cdf4998731"
      },
      "source": [
        "import random        #import random module.....that supports randint() method\n",
        "def getAnswer(answerNumber):\n",
        "  if answerNumber == 1:\n",
        "    return 'It is certain'\n",
        "  elif answerNumber == 2:\n",
        "    return 'It is decidedly so'\n",
        "  elif answerNumber == 3:\n",
        "    return 'Yes'\n",
        "  elif answerNumber == 4:\n",
        "    return 'Reply hazy try again'\n",
        "  elif answerNumber == 5:\n",
        "    return 'Ask again later'\n",
        "  elif answerNumber == 6:\n",
        "    return 'Concentrate and ask again'\n",
        "  elif answerNumber == 7:\n",
        "    return 'My reply is no'\n",
        "  elif answerNumber == 8:\n",
        "    return 'Outlook not so good'\n",
        "  elif answerNumber == 9:\n",
        "    return 'Very doubtful'\n",
        "r = random.randint(1, 9)  #this method randomly generates numbers 1,2,3...8,9\n",
        "fortune = getAnswer(r) #return value gets stored in variable\n",
        "print(fortune)"
      ],
      "execution_count": 10,
      "outputs": [
        {
          "output_type": "stream",
          "text": [
            "Concentrate and ask again\n"
          ],
          "name": "stdout"
        }
      ]
    },
    {
      "cell_type": "markdown",
      "metadata": {
        "id": "7NNwE1z7gaQt",
        "colab_type": "text"
      },
      "source": [
        "**The None Value**\n",
        "\n",
        "In Python there is a value called None, which represents the absence of a value. None is the only value of the NoneType data type. \n",
        "\n",
        "None must be typed with a capital N."
      ]
    },
    {
      "cell_type": "code",
      "metadata": {
        "id": "iQoiLksTgqxZ",
        "colab_type": "code",
        "colab": {
          "base_uri": "https://localhost:8080/",
          "height": 34
        },
        "outputId": "97ec3aa5-8d43-48a6-95c0-f1141eab233a"
      },
      "source": [
        "spam = print('Hello!') #use a return statement without a value (that is, just the return keyword by itself), \n",
        "                       #then None is returned."
      ],
      "execution_count": 11,
      "outputs": [
        {
          "output_type": "stream",
          "text": [
            "Hello!\n"
          ],
          "name": "stdout"
        }
      ]
    },
    {
      "cell_type": "code",
      "metadata": {
        "id": "I-kKpInLhQqK",
        "colab_type": "code",
        "colab": {
          "base_uri": "https://localhost:8080/",
          "height": 34
        },
        "outputId": "bbf42090-b581-4f76-d89b-2a0ae3561628"
      },
      "source": [
        "print(spam)"
      ],
      "execution_count": 12,
      "outputs": [
        {
          "output_type": "stream",
          "text": [
            "None\n"
          ],
          "name": "stdout"
        }
      ]
    },
    {
      "cell_type": "code",
      "metadata": {
        "id": "4GL0jGFWhUmc",
        "colab_type": "code",
        "colab": {
          "base_uri": "https://localhost:8080/",
          "height": 34
        },
        "outputId": "8a565a4f-e70b-4b98-89d7-0c1266345a63"
      },
      "source": [
        "spam==None"
      ],
      "execution_count": 13,
      "outputs": [
        {
          "output_type": "execute_result",
          "data": {
            "text/plain": [
              "True"
            ]
          },
          "metadata": {
            "tags": []
          },
          "execution_count": 13
        }
      ]
    },
    {
      "cell_type": "markdown",
      "metadata": {
        "id": "VBise1yKisnO",
        "colab_type": "text"
      },
      "source": [
        "**Keyword Arguments and print()**"
      ]
    },
    {
      "cell_type": "code",
      "metadata": {
        "id": "JvLw5qZ4ivIn",
        "colab_type": "code",
        "colab": {}
      },
      "source": [
        "print('Hello')\n",
        "print('ants','bats','cats','dogs')"
      ],
      "execution_count": null,
      "outputs": []
    },
    {
      "cell_type": "code",
      "metadata": {
        "id": "8xjeqZ6njgqB",
        "colab_type": "code",
        "colab": {}
      },
      "source": [
        "print('ants')\n",
        "print('bats','cats','dogs')"
      ],
      "execution_count": null,
      "outputs": []
    },
    {
      "cell_type": "code",
      "metadata": {
        "id": "QDH-_AaSjAEg",
        "colab_type": "code",
        "colab": {}
      },
      "source": [
        "print('ants', end=' ')  #end is a keyword argument\n",
        "print('bats','cats','dogs')"
      ],
      "execution_count": null,
      "outputs": []
    },
    {
      "cell_type": "code",
      "metadata": {
        "id": "4C9LC0cikYle",
        "colab_type": "code",
        "colab": {}
      },
      "source": [
        "print('bats','cats','dogs',sep = ',') #seperator is a keyword argument"
      ],
      "execution_count": null,
      "outputs": []
    },
    {
      "cell_type": "code",
      "metadata": {
        "id": "RXAfNisC_xEk",
        "colab_type": "code",
        "colab": {}
      },
      "source": [
        "def add_numbers(x,y,z=None):\n",
        "    if (z==None):\n",
        "        return x+y\n",
        "    else:\n",
        "        return x+y+z\n",
        "\n",
        "print(add_numbers(1, 2))\n",
        "print(add_numbers(1, 2, 3))"
      ],
      "execution_count": null,
      "outputs": []
    },
    {
      "cell_type": "code",
      "metadata": {
        "id": "VPFupod6AbWf",
        "colab_type": "code",
        "colab": {}
      },
      "source": [
        "def add_numbers(x, y, z=None, flag=False):\n",
        "    if (flag):\n",
        "        print('Flag is true!')\n",
        "    if (z==None):\n",
        "        return x + y\n",
        "    else:\n",
        "        return x + y + z\n",
        "    \n",
        "print(add_numbers(1, 2, flag=True))"
      ],
      "execution_count": null,
      "outputs": []
    }
  ]
}
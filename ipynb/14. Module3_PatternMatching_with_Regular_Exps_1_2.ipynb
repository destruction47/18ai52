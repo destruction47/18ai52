{
  "nbformat": 4,
  "nbformat_minor": 0,
  "metadata": {
    "colab": {
      "name": "Copy of Module3_PatternMatching_with_Regular_Exps_1_2.ipynb",
      "provenance": []
    },
    "kernelspec": {
      "name": "python3",
      "display_name": "Python 3"
    }
  },
  "cells": [
    {
      "cell_type": "markdown",
      "metadata": {
        "id": "9Rdw9mLAdwBZ"
      },
      "source": [
        "# **Pattern Matching with Regular Expressions**\n",
        "\n",
        "Regular expressions allow one to specify a pattern of text to search for.\n",
        "\n",
        "# **Finding Patterns of Text Without Regular Expressions**\n",
        "\n",
        "To find a phone number in a string. You know the pattern: '+' symbol, 2 numbers,a hyphen, five numbers, a hyphen, and five numbers.\n",
        "Here’s an example: +91-77555-94242.\n",
        "Let’s use a function named isPhoneNumber() to check whether a string matches this pattern, returning either True or False. \n",
        "\n",
        "Open a new file editor window and enter the following code:"
      ]
    },
    {
      "cell_type": "code",
      "metadata": {
        "id": "bLiXa44tfIWu"
      },
      "source": [
        "def isPhoneNumber(text):\n",
        "  if len(text) != 15:\n",
        "     return 'False'\n",
        "  if text[0] != '+':\n",
        "      return 'False'\n",
        "  for i in range(1, 3):\n",
        "        if not text[i].isdecimal():\n",
        "           return 'False'\n",
        "  if text[3] != '-':\n",
        "           return 'False'\n",
        "  for i in range(4, 9):\n",
        "        if not text[i].isdecimal():\n",
        "           return 'False'\n",
        "  if text[9] != '-':\n",
        "           return 'False'\n",
        "  for i in range(10, 15):\n",
        "        if not text[i].isdecimal():\n",
        "           return 'False'\n",
        "  return 'True'\n",
        "print('Is +91-77555-94242 a Mobile phone number?:')\n",
        "Result = isPhoneNumber('+91-77555-94242')\n",
        "print(Result)\n",
        "print('Is Hello world a Mobile phone number?:')\n",
        "Result = isPhoneNumber('Hello world')\n",
        "print(Result)"
      ],
      "execution_count": null,
      "outputs": []
    },
    {
      "cell_type": "markdown",
      "metadata": {
        "id": "qqo0MLD0pRXk"
      },
      "source": [
        "# **Modification in the Program:**\n",
        "\n",
        "Modify the above Program to Accept the Phone Number or some string and declare \n",
        "\n",
        "whether the entered string is a Mobile Number?"
      ]
    },
    {
      "cell_type": "code",
      "metadata": {
        "id": "k8ROKj9Jp6ab"
      },
      "source": [
        "def isPhoneNumber(text):\n",
        "  if len(text) != 15:\n",
        "     return 'False'\n",
        "  if text[0] != '+':\n",
        "      return 'False'\n",
        "  for i in range(1, 3):\n",
        "        if not text[i].isdecimal():\n",
        "           return 'False'\n",
        "  if text[3] != '-':\n",
        "           return 'False'\n",
        "  for i in range(4, 9):\n",
        "        if not text[i].isdecimal():\n",
        "           return 'False'\n",
        "  if text[9] != '-':\n",
        "           return 'False'\n",
        "  for i in range(10, 15):\n",
        "        if not text[i].isdecimal():\n",
        "           return 'False'\n",
        "  return 'True'\n",
        "\n",
        "print('\\nEnter a Mobile number in the format +91-00000-99999')\n",
        "textString = str(input())\n",
        "print('\\nIs ', textString, 'a Mobile phone number?:')\n",
        "Result = isPhoneNumber(textString)\n",
        "print(Result)\n"
      ],
      "execution_count": null,
      "outputs": []
    },
    {
      "cell_type": "markdown",
      "metadata": {
        "id": "kvAey90ErugB"
      },
      "source": [
        "# **Modification in above Program**\n",
        "\n",
        "To add even more code to find this pattern of text in a larger string. \n",
        "\n",
        "Replace the last four print() function calls in the above program with the following:\n",
        "\n",
        "message = 'Call me at +91-76899-446177 tomorrow. +91-76899-446177 is my Mobile.'\n",
        "\n",
        "for i in range(len(message)):\n",
        "    \n",
        "    chunk = message[i:i+12]\n",
        "    \n",
        "    if isPhoneNumber(chunk):\n",
        "       \n",
        "       print('Phone number found: ' + chunk)\n",
        "\n",
        "print('Done')"
      ]
    },
    {
      "cell_type": "code",
      "metadata": {
        "id": "ph0oxrkit3BL"
      },
      "source": [
        "def isPhoneNumber(text):\n",
        "  if len(text) != 15:\n",
        "     return 'False'\n",
        "  if text[0] != '+':\n",
        "      return 'False'\n",
        "  for i in range(1, 3):\n",
        "        if not text[i].isdecimal():\n",
        "           return 'False'\n",
        "  if text[3] != '-':\n",
        "           return 'False'\n",
        "  for i in range(4, 9):\n",
        "        if not text[i].isdecimal():\n",
        "           return 'False'\n",
        "  if text[9] != '-':\n",
        "           return 'False'\n",
        "  for i in range(10, 15):\n",
        "        if not text[i].isdecimal():\n",
        "           return 'False'\n",
        "  return 'True'\n",
        "\n",
        "message = 'Call me at +91-76899-44617 tomorrow. +91-80284-44689 is my Office Number.'\n",
        "print('\\nThe original Message is given as follows: ')\n",
        "print('\\n', message)\n",
        "chunk = message.split()\n",
        "print('\\nMessage when split into various words in the string looks as follows : ')\n",
        "print('\\n', chunk)\n",
        "for j in range(len(chunk)):\n",
        "  print('\\nIs ', '\"', chunk[j], '\"', ' a Mobile Phone number?:')\n",
        "  Result = isPhoneNumber(chunk[j]) \n",
        "  if Result == 'True' : \n",
        "        print('\\nPhone number ', '\"', chunk[j], '\"', ' is found in the string.')\n",
        "  else : \n",
        "        print('\\n', '\"', chunk[j], '\"', ' is NOT a Mobile number')\n",
        "\n",
        "print('\\nDone')"
      ],
      "execution_count": null,
      "outputs": []
    },
    {
      "cell_type": "markdown",
      "metadata": {
        "id": "uLtgmnuYbdc8"
      },
      "source": [
        "**Classroom Exercise**: If the given word is not a mobile number or phone number then nothing should be printed. \n",
        "\n",
        "Modify the above program suitably to incorporate this change.\n",
        "\n",
        "Further, print how many occurences of Phone numbers are there in the given message?"
      ]
    },
    {
      "cell_type": "markdown",
      "metadata": {
        "id": "Rmh5xuXds08V"
      },
      "source": [
        "# ***REGULAR EXPRESSIONS: ***\n",
        "\n",
        "## Regular expressions, called \"*regexes*\" for short, are descriptions for a pattern of text. \n",
        "\n",
        "**For example**, a '\\d' in a regex stands for a digit character—that is, any single numeral 0 to 9. \n",
        "\n",
        "The regex '\\d\\d-\\d\\d\\d\\d\\d-\\d\\d\\d\\d\\d' is used by Python to match the same text the previous isPhoneNumber() function did:\n",
        "a string of three numbers, a hyphen, three more numbers, another hyphen, and four numbers. \n",
        "\n",
        "Any other string would not match the '\\d\\d-\\d\\d\\d\\d\\d-\\d\\d\\d\\d\\d' regex.\n",
        "\n",
        "But regular expressions can be much more sophisticated. \n",
        "\n",
        "For example, adding a 3 in curly brackets ({3}) after a pattern is like saying, “Match this pattern three times.” \n",
        "\n",
        "So the slightly shorter regex \\d{2}-\\d{5}-\\d{5} also matches the correct phone number format."
      ]
    },
    {
      "cell_type": "markdown",
      "metadata": {
        "id": "pCRDltuYvOV1"
      },
      "source": [
        "# **Creating Regex Objects**\n",
        "All the regex functions in Python are in the re module. \n",
        "\n",
        "Enter the following into the interactive shell to import this module:\n",
        "\n",
        ">>> import re\n",
        "\n",
        "**Note:** Remember to import it at the beginning of any script you write or any time you restart IDLE.\n",
        "\n",
        "Otherwise, you’ll get a **NameError: name 're' is not defined error message**."
      ]
    },
    {
      "cell_type": "markdown",
      "metadata": {
        "id": "37f8b7rEw3TO"
      },
      "source": [
        "Passing a string value representing your regular expression to re.compile()\n",
        "returns a Regex pattern object (or simply, a Regex object).\n",
        "\n",
        "To create a Regex object that matches the phone number pattern, enter the following into the interactive shell. \n",
        "\n",
        "(Remember that **\\d means “a digit character”** and \\d\\d-\\d\\d\\d\\d\\d-\\d\\d\\d\\d\\d is the regular expression for the correct phone number pattern +91-00000-99999.) \n",
        "\n",
        ">>> phoneNumRegex = re.compile(r'\\d\\d-\\d\\d\\d\\d\\d-\\d\\d\\d\\d\\d')"
      ]
    },
    {
      "cell_type": "code",
      "metadata": {
        "id": "7rHC0gClyJ-w"
      },
      "source": [
        "import re\n",
        "phoneNumRegex = re.compile(r'\\d\\d-\\d\\d\\d\\d\\d-\\d\\d\\d\\d\\d')"
      ],
      "execution_count": 6,
      "outputs": []
    },
    {
      "cell_type": "markdown",
      "metadata": {
        "id": "EeTrAU_WyjQ0"
      },
      "source": [
        "# **Matching Regex Objects**\n",
        "A Regex object’s search() method searches the string it is passed for any\n",
        "matches to the regex. \n",
        "\n",
        "The search() method will return None if the regex pattern is not found in the string. If the pattern is found, the search() method returns a Match object. Match objects have a group() method that will return the actual matched text from the searched string. \n",
        "\n",
        "For example, enter the following into the interactive shell:"
      ]
    },
    {
      "cell_type": "code",
      "metadata": {
        "id": "2gSNuqAGyz3v",
        "outputId": "06d268a7-2902-4020-9645-fe37032ef948",
        "colab": {
          "base_uri": "https://localhost:8080/"
        }
      },
      "source": [
        "import re\n",
        "phoneNumRegex = re.compile('\\d\\d-\\d\\d\\d\\d\\d-\\d\\d\\d\\d\\d')\n",
        "#phoneNumRegex = re.compile('\\d{2}-\\d{5}-\\d{5}')\n",
        "# creating a mobile object \"mo\"\n",
        "mo = phoneNumRegex.search('My number is 91-98166-55116')\n",
        "print('Phone number found: ' + mo.group())"
      ],
      "execution_count": 8,
      "outputs": [
        {
          "output_type": "stream",
          "text": [
            "Phone number found: 91-98166-55116\n"
          ],
          "name": "stdout"
        }
      ]
    },
    {
      "cell_type": "markdown",
      "metadata": {
        "id": "0VKDCBWf3kLo"
      },
      "source": [
        "# **Review of Regular Expression Matching**\n",
        "\n",
        "While there are several steps to using regular expressions in Python, each\n",
        "step is fairly simple.\n",
        "\n",
        "1. Import the regex module with **import re**.\n",
        "\n",
        "2. Create a Regex object with the **re.compile()** function. (Remember to use a\n",
        "   raw string.)\n",
        "\n",
        "3. Pass the string to be searched into the Regex object’s search() method.\n",
        "   This returns a Match object.\n",
        "\n",
        "4. Call the Match object’s group() method to return a string of the actual\n",
        "   matched text."
      ]
    },
    {
      "cell_type": "markdown",
      "metadata": {
        "id": "fuYqwbx74ahT"
      },
      "source": [
        "# **Grouping with Parentheses**\n",
        "To separate the Country code from the rest of the phone number.\n",
        "\n",
        "Adding parentheses will create groups in the regex: \n",
        "**(\\d\\d)-(\\d\\d\\d\\d\\d-\\d\\d\\d\\d\\d)**.\n",
        "Then  the group() match object method can be used  to get the matching text from just one group.\n",
        "\n",
        "The first set of parentheses in a regex string will be group 1. \n",
        "\n",
        "The second set will be group 2. \n",
        "\n",
        "By passing the integer 1 or 2 to the group() match object method, different parts of the matched text can be obtained. \n",
        "\n",
        "Passing 0 or nothing to the group() method will return the entire matched text. \n",
        "\n",
        "Enter the following into the interactive shell:"
      ]
    },
    {
      "cell_type": "code",
      "metadata": {
        "id": "sUXRlrwA5lRA"
      },
      "source": [
        "import re\n",
        "phoneNumRegex = re.compile(r'(\\d\\d)-(\\d\\d\\d\\d\\d)-(\\d\\d\\d\\d\\d)')\n",
        "mo = phoneNumRegex.search('My number is 91-99555-94242.')\n",
        "#mo.group(1)\n",
        "#mo.group(2)\n",
        "mo.group(3)\n",
        "#mo.group(0)\n",
        "#mo.group()"
      ],
      "execution_count": null,
      "outputs": []
    },
    {
      "cell_type": "markdown",
      "metadata": {
        "id": "P18k0EVb60zf"
      },
      "source": [
        "To retrieve all the groups at once, use the groups() method—note the plural form for the name. "
      ]
    },
    {
      "cell_type": "code",
      "metadata": {
        "id": "wZTbCjAS67Wd"
      },
      "source": [
        "mo.groups()\n",
        "countryCode, mainNumber1, mainNumber2 = mo.groups()\n",
        "#print(mainNumber)\n",
        "print(countryCode)"
      ],
      "execution_count": null,
      "outputs": []
    },
    {
      "cell_type": "markdown",
      "metadata": {
        "id": "reuIVJwE8B4h"
      },
      "source": [
        "Parentheses have a special meaning in regular expressions, but what is to be done if there is a need to match a parenthesis in the text? \n",
        "\n",
        "For instance, maybe the phone numbers you are trying to match have the Country code set in parentheses.\n",
        "\n",
        "In this case,  escape the ( and ) characters with a backslash needs to be used.\n",
        "\n",
        "Enter the following into the interactive shell:"
      ]
    },
    {
      "cell_type": "code",
      "metadata": {
        "id": "BOG7Camh8sNB"
      },
      "source": [
        "import re\n",
        "phoneNumRegex = re.compile(r'(\\(\\d\\d\\)) (\\d\\d\\d\\d\\d-\\d\\d\\d\\d\\d)')\n",
        "mo = phoneNumRegex.search('My phone number is (91) 98555-74242.')\n",
        "#mo.group(1)\n",
        "mo.group(2)"
      ],
      "execution_count": null,
      "outputs": []
    },
    {
      "cell_type": "markdown",
      "metadata": {
        "id": "QL0bzWzb-xoA"
      },
      "source": [
        "# ***Matching Multiple Groups with the Pipe***\n",
        "The '|' character is called a pipe (see Character just above Enter key). \n",
        "\n",
        "'|' the pipe; can be used anywhere to match one of many expressions. \n",
        "\n",
        "For example, the regular expression r'Batman|Tina Fey' will match either 'Batman' or 'Tina Fey'.\n",
        "\n",
        "When both Batman and Tina Fey occur in the searched string, the first\n",
        "occurrence of matching text will be returned as the Match object. \n",
        "\n",
        "Enter the following into the interactive shell:"
      ]
    },
    {
      "cell_type": "code",
      "metadata": {
        "id": "y1kB_9Af_ei2"
      },
      "source": [
        "heroRegex = re.compile (r'Batman|Tina Fey')\n",
        "mo1 = heroRegex.search('Batman and Tina Fey.')\n",
        "mo1.group()"
      ],
      "execution_count": null,
      "outputs": []
    },
    {
      "cell_type": "code",
      "metadata": {
        "id": "tBiRiEPb_sWP"
      },
      "source": [
        "mo2 = heroRegex.search('Tina Fey and Batman.')\n",
        "mo2.group()"
      ],
      "execution_count": null,
      "outputs": []
    },
    {
      "cell_type": "markdown",
      "metadata": {
        "id": "59Ur7xHjA45h"
      },
      "source": [
        " Also, the pipe to match one of several patterns can be used  as part of the regex. \n",
        "\n",
        "For example, to match any of the strings 'Batman', 'Batmobile', 'Batcopter', and 'Bathat'. \n",
        "\n",
        "Since all these strings start with Bat, it would be nice if it could be specified that prefix only once. \n",
        "\n",
        "This can be done with parentheses. \n",
        "\n",
        "Enter the following into the interactive shell:"
      ]
    },
    {
      "cell_type": "code",
      "metadata": {
        "id": "kLU1rHfGBp2-",
        "outputId": "81ae5783-8ed5-447e-b26b-fbc3acd17ae9",
        "colab": {
          "base_uri": "https://localhost:8080/",
          "height": 35
        }
      },
      "source": [
        "batRegex = re.compile(r'Bat(man|mobile|copter|hat)')\n",
        "mo = batRegex.search('Batman lost a pen')\n",
        "#mo.group()\n",
        "mo.group(0)"
      ],
      "execution_count": 15,
      "outputs": [
        {
          "output_type": "execute_result",
          "data": {
            "application/vnd.google.colaboratory.intrinsic+json": {
              "type": "string"
            },
            "text/plain": [
              "'Batman'"
            ]
          },
          "metadata": {
            "tags": []
          },
          "execution_count": 15
        }
      ]
    },
    {
      "cell_type": "markdown",
      "metadata": {
        "id": "o45p26p7CbtX"
      },
      "source": [
        "# **Explanation**\n",
        "\n",
        "The method call mo.group() returns the full matched text 'Batmobile', while mo.group(1) returns just the part of the matched text inside the first\n",
        "parentheses group, 'mobile'. \n",
        "\n",
        "By using the pipe character '|' and grouping parentheses, can be specified several alternative patterns that the regex has to match.\n",
        "\n",
        "**Note**: If there is a need to match an actual pipe character, then escape it with a backslash, like '\\\\|'."
      ]
    },
    {
      "cell_type": "markdown",
      "metadata": {
        "id": "spz9jZxCGgwK"
      },
      "source": [
        "# **Optional Matching with the Question Mark**\n",
        "Sometimes there is a pattern that has to be matched only optionally. \n",
        "\n",
        "That is, the regex should find a match whether or not that bit of text is there.\n",
        "\n",
        "\n",
        "The '?' character flags the group that precedes it as an optional part of the\n",
        "pattern. \n",
        "\n",
        "For example, enter the following into the interactive shell:"
      ]
    },
    {
      "cell_type": "code",
      "metadata": {
        "id": "x6-WvLvaHF6-",
        "outputId": "958ff94d-e937-473d-9ca6-0e19c69473a1",
        "colab": {
          "base_uri": "https://localhost:8080/",
          "height": 35
        }
      },
      "source": [
        "batRegex = re.compile(r'Bat(wo)?man')\n",
        "#mo1 = batRegex.search('The Adventures of Batman')\n",
        "#mo1.group()\n",
        "\n",
        "mo2 = batRegex.search('The Adventures of Batman and Batwoman')\n",
        "mo2.group()"
      ],
      "execution_count": null,
      "outputs": [
        {
          "output_type": "execute_result",
          "data": {
            "application/vnd.google.colaboratory.intrinsic+json": {
              "type": "string"
            },
            "text/plain": [
              "'Batman'"
            ]
          },
          "metadata": {
            "tags": []
          },
          "execution_count": 38
        }
      ]
    },
    {
      "cell_type": "markdown",
      "metadata": {
        "id": "rhhzN7ztH2aR"
      },
      "source": [
        "**Explanation**: The (wo)? part of the regular expression means that the pattern wo is an optional group. \n",
        "\n",
        "The regex will match text that has zero instances or one instance of wo in it. \n",
        "\n",
        "This is why the regex matches both 'Batwoman' and 'Batman'."
      ]
    },
    {
      "cell_type": "markdown",
      "metadata": {
        "id": "GBObBb-mJCca"
      },
      "source": [
        "# **Modification in Phone Example:**\n",
        "\n",
        "Using the earlier phone number example,  the regex  can be made to look\n",
        "for phone numbers that do or do not have a Country code. \n",
        "\n",
        "Enter the following into the interactive shell:"
      ]
    },
    {
      "cell_type": "code",
      "metadata": {
        "id": "4iWlgvQiJdVt",
        "outputId": "6d5a31a6-74b0-4802-fd79-a3fc3fbf101b",
        "colab": {
          "base_uri": "https://localhost:8080/"
        }
      },
      "source": [
        "phoneRegex = re.compile(r'(\\d\\d-)?\\d\\d\\d\\d\\d-\\d\\d\\d\\d\\d')\n",
        "mo1 = phoneRegex.search('My number is +91-99555-94242')\n",
        "print(mo1.group())\n",
        "#mo2 = phoneRegex.search('My number is 99555-94242')\n",
        "#print(mo2.group())\n"
      ],
      "execution_count": 18,
      "outputs": [
        {
          "output_type": "stream",
          "text": [
            "91-99555-94242\n",
            "99555-94242\n"
          ],
          "name": "stdout"
        }
      ]
    }
  ]
}
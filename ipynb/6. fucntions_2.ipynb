{
  "nbformat": 4,
  "nbformat_minor": 0,
  "metadata": {
    "colab": {
      "name": "fucntions 2.ipynb",
      "provenance": [],
      "collapsed_sections": []
    },
    "kernelspec": {
      "name": "python3",
      "display_name": "Python 3"
    }
  },
  "cells": [
    {
      "cell_type": "code",
      "metadata": {
        "id": "7iS1c0G1cJbx",
        "colab_type": "code",
        "colab": {}
      },
      "source": [
        ""
      ],
      "execution_count": null,
      "outputs": []
    },
    {
      "cell_type": "markdown",
      "metadata": {
        "id": "EcC_h8utcKiF",
        "colab_type": "text"
      },
      "source": [
        "#Local and Global Scope\n",
        "\n",
        "Parameters and variables that are assigned in a called function are said to exist in that function’s local scope. - **Local Variables**\n",
        "\n",
        "Variables that are assigned outside all functions are said to exist in the global scope - **Global Variables**\n",
        "\n",
        "\n",
        "**A local scope is created whenever a function is called**\n",
        "\n",
        "**Code in the global scope cannot use any local variables.**\n",
        "\n",
        "**However, a local scope can access global variables.**\n",
        "\n",
        "**if the variable is used in an assignment statement in the function, it is a local variable**\n",
        "\n",
        "\n",
        "\n",
        "\n"
      ]
    },
    {
      "cell_type": "code",
      "metadata": {
        "id": "K2xmcsD_g7ja",
        "colab_type": "code",
        "colab": {}
      },
      "source": [
        "def spam():\n",
        "  global eggs\n",
        "  eggs = 'spam' # this is the global"
      ],
      "execution_count": null,
      "outputs": []
    },
    {
      "cell_type": "code",
      "metadata": {
        "id": "Nw-f-ltmhINv",
        "colab_type": "code",
        "colab": {}
      },
      "source": [
        "def bacon():\n",
        "  eggs = 'bacon' # this is a local"
      ],
      "execution_count": null,
      "outputs": []
    },
    {
      "cell_type": "code",
      "metadata": {
        "id": "crK9jtXchN4M",
        "colab_type": "code",
        "colab": {}
      },
      "source": [
        "def ham():\n",
        "  print(eggs) # this is the global"
      ],
      "execution_count": null,
      "outputs": []
    },
    {
      "cell_type": "code",
      "metadata": {
        "id": "pVrJjRhYhP54",
        "colab_type": "code",
        "colab": {
          "base_uri": "https://localhost:8080/",
          "height": 34
        },
        "outputId": "c8088ae2-bcc6-4185-c9ee-caab6d8adf03"
      },
      "source": [
        "eggs = 42 # this is the global\n",
        "spam()\n",
        "print(eggs)"
      ],
      "execution_count": null,
      "outputs": [
        {
          "output_type": "stream",
          "text": [
            "spam\n"
          ],
          "name": "stdout"
        }
      ]
    },
    {
      "cell_type": "code",
      "metadata": {
        "id": "xHdz4xQkif1_",
        "colab_type": "code",
        "colab": {
          "base_uri": "https://localhost:8080/",
          "height": 35
        },
        "outputId": "b0daa891-4d3f-48a4-cd53-0b541a269fb9"
      },
      "source": [
        "eggs"
      ],
      "execution_count": null,
      "outputs": [
        {
          "output_type": "execute_result",
          "data": {
            "application/vnd.google.colaboratory.intrinsic+json": {
              "type": "string"
            },
            "text/plain": [
              "'spam'"
            ]
          },
          "metadata": {
            "tags": []
          },
          "execution_count": 17
        }
      ]
    },
    {
      "cell_type": "markdown",
      "metadata": {
        "id": "wG0PJvD7jxan",
        "colab_type": "text"
      },
      "source": [
        "If you ever want to modify the value stored in a global variable from in a function, you must use a global statement on that variable.\n",
        "\n",
        "If you try to use a local variable in a function before you assign a value to it, as in the following program, Python will give you an error."
      ]
    },
    {
      "cell_type": "code",
      "metadata": {
        "id": "taoYm0XMjkiA",
        "colab_type": "code",
        "colab": {}
      },
      "source": [
        "def spam():\n",
        "  print(eggs) # ERROR!\n",
        "  eggs = 'spam local"
      ],
      "execution_count": null,
      "outputs": []
    },
    {
      "cell_type": "code",
      "metadata": {
        "id": "dhZhkGT6li5R",
        "colab_type": "code",
        "colab": {}
      },
      "source": [
        "eggs = 'global'\n",
        "spam()"
      ],
      "execution_count": null,
      "outputs": []
    },
    {
      "cell_type": "markdown",
      "metadata": {
        "id": "TXEUaCSzpcmu",
        "colab_type": "text"
      },
      "source": [
        "#Exception Handling\n",
        "\n",
        "Runtime error can be caught by the programmer and necessary action can be taken using `try` and `except` combination."
      ]
    },
    {
      "cell_type": "code",
      "metadata": {
        "id": "62loOQb_sSX0",
        "colab_type": "code",
        "colab": {}
      },
      "source": [
        "def spam(divideBy):\n",
        "  return 42 / divideBy"
      ],
      "execution_count": null,
      "outputs": []
    },
    {
      "cell_type": "code",
      "metadata": {
        "id": "aEiBSsafqUvw",
        "colab_type": "code",
        "colab": {}
      },
      "source": [
        "def spam(divideBy):\n",
        "  try:\n",
        "    return 42 / divideBy\n",
        "  except ZeroDivisionError:\n",
        "    print('Error: Invalid argument.')"
      ],
      "execution_count": null,
      "outputs": []
    },
    {
      "cell_type": "code",
      "metadata": {
        "id": "9dMTDKYXsO0d",
        "colab_type": "code",
        "colab": {}
      },
      "source": [
        "print(spam(2))\n",
        "print(spam(12))\n",
        "print(spam(0))\n",
        "print(spam(1))"
      ],
      "execution_count": null,
      "outputs": []
    },
    {
      "cell_type": "markdown",
      "metadata": {
        "id": "WBrvVrYZs8Zd",
        "colab_type": "text"
      },
      "source": [
        "*Any errors that occur in function calls in a try block will also be caught*"
      ]
    },
    {
      "cell_type": "code",
      "metadata": {
        "id": "6zLaHCtItBmj",
        "colab_type": "code",
        "colab": {}
      },
      "source": [
        "try:\n",
        "  print(spam(2))\n",
        "  print(spam(12))\n",
        "  print(spam(0))\n",
        "  print(spam(1))\n",
        "except ZeroDivisionError:\n",
        "  print('Error: Invalid argument.')"
      ],
      "execution_count": null,
      "outputs": []
    },
    {
      "cell_type": "markdown",
      "metadata": {
        "id": "gb1ZjPX4tWTA",
        "colab_type": "text"
      },
      "source": [
        "once the execution jumps to the code in the except clause, it does not return to the try clause. Instead, it just continues moving down as normal"
      ]
    },
    {
      "cell_type": "markdown",
      "metadata": {
        "id": "ETGZd4gHtrv9",
        "colab_type": "text"
      },
      "source": [
        "#Guess the Number\n",
        "\n",
        "I am thinking of a number between 1 and 20.\n",
        "\n",
        "Take a guess.\n",
        "\n",
        "10\n",
        "\n",
        "Your guess is too low.\n",
        "\n",
        "Take a guess.\n",
        "\n",
        "15\n",
        "\n",
        "Your guess is too low.\n",
        "\n",
        "Take a guess.\n",
        "\n",
        "17\n",
        "\n",
        "Your guess is too high.\n",
        "\n",
        "Take a guess.\n",
        "\n",
        "16\n",
        "\n",
        "Good job! You guessed my number in 4 guesses!"
      ]
    },
    {
      "cell_type": "code",
      "metadata": {
        "id": "neGopucbt5wQ",
        "colab_type": "code",
        "colab": {}
      },
      "source": [
        "# This is a guess the number game.\n",
        "import random\n",
        "secretNumber = random.randint(1, 20)\n",
        "print('I am thinking of a number between 1 and 20.')\n",
        "# Ask the player to guess 6 times.\n",
        "for guessesTaken in range(1, 7):\n",
        "  print('Take a guess.')\n",
        "  guess = int(input())\n",
        "  if guess < secretNumber:\n",
        "    print('Your guess is too low.')\n",
        "  elif guess > secretNumber:\n",
        "    print('Your guess is too high.')\n",
        "  else:\n",
        "    break # This condition is the correct guess!\n",
        "if guess == secretNumber:\n",
        "  print('Good job! You guessed my number in ' + str(guessesTaken) + ' guesses!')\n",
        "else:\n",
        "  print('Nope. The number I was thinking of was ' + str(secretNumber))"
      ],
      "execution_count": null,
      "outputs": []
    }
  ]
}
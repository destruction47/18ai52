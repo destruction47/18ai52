{
 "cells": [
  {
   "cell_type": "markdown",
   "metadata": {
    "id": "lnIEoAxNHdmp"
   },
   "source": [
    "# **Project: Generating Random Quiz Files**\n",
    "Suppose there is a Geography teacher with 65 students in the class and she wants to give a pop up quiz on US State Capitals. \n",
    "\n",
    "There is no guarantee that the students will not cheat. \n",
    "\n",
    "Teacher plans to randomize the order of questions so that each quiz is unique, making it impossible for anyone to crib answers from anyone else. \n",
    "\n",
    "Of course, doing this task by hand would be a lengthy and boring. \n",
    "\n",
    "Fortunately, this can be achived through Python.\n",
    "\n",
    "Here is what the program does:\n",
    "\n",
    "  • Creates 35 different quizzes.\n",
    "\n",
    "  • Creates 50 multiple-choice questions for each quiz, in random order.\n",
    "\n",
    "  • Provides the correct answer and three random wrong answers for each question, in   random order.\n",
    "\n",
    "  • Writes the quizzes to 35 text files.\n",
    "\n",
    "  • Writes the answer keys to 35 text files.\n",
    "\n",
    "This means the code will need to do the following:\n",
    "\n",
    "  • Store the states and their capitals in a dictionary.\n",
    "\n",
    "  • Call open(), write(), and close() for the quiz and answer key text files.\n",
    "\n",
    "  • Use **random.shuffle()** to randomize the order of the questions and multiple-choice     options."
   ]
  },
  {
   "cell_type": "markdown",
   "metadata": {
    "id": "koIcupETMQaX"
   },
   "source": [
    "# **Step 1: Store the Quiz Data in a Dictionary**\n",
    "The first step is to create a skeleton script and fill it with your quiz data.\n",
    "\n",
    "Create a file named randomQuizGenerator.py, and make it look like the following:"
   ]
  },
  {
   "cell_type": "code",
   "execution_count": null,
   "metadata": {
    "id": "ibX_LeuoMXdI"
   },
   "outputs": [],
   "source": [
    "#! python3\n",
    "# randomQuizGenerator.py - Creates quizzes with questions and answers in\n",
    "# random order, along with the answer key.\n",
    "import random\n",
    "# The quiz data. Keys are states and values are their capitals.\n",
    "capitals = {'Alabama': 'Montgomery', 'Alaska': 'Juneau', 'Arizona': 'Phoenix',\n",
    "'Arkansas': 'Little Rock', 'California': 'Sacramento', 'Colorado': 'Denver',\n",
    "'Connecticut': 'Hartford', 'Delaware': 'Dover', 'Florida': 'Tallahassee',\n",
    "'Georgia': 'Atlanta', 'Hawaii': 'Honolulu', 'Idaho': 'Boise', 'Illinois':\n",
    "'Springfield', 'Indiana': 'Indianapolis', 'Iowa': 'Des Moines', 'Kansas':\n",
    "'Topeka', 'Kentucky': 'Frankfort', 'Louisiana': 'Baton Rouge', 'Maine':\n",
    "'Augusta', 'Maryland': 'Annapolis', 'Massachusetts': 'Boston', 'Michigan':\n",
    "'Lansing', 'Minnesota': 'Saint Paul', 'Mississippi': 'Jackson', 'Missouri':\n",
    "'Jefferson City', 'Montana': 'Helena', 'Nebraska': 'Lincoln', 'Nevada':\n",
    "'Carson City', 'New Hampshire': 'Concord', 'New Jersey': 'Trenton', 'New\n",
    "Mexico': 'Santa Fe', 'New York': 'Albany', 'North Carolina': 'Raleigh',\n",
    "'North Dakota': 'Bismarck', 'Ohio': 'Columbus', 'Oklahoma': 'Oklahoma City',\n",
    "'Oregon': 'Salem', 'Pennsylvania': 'Harrisburg', 'Rhode Island': 'Providence',\n",
    "'South Carolina': 'Columbia', 'South Dakota': 'Pierre', 'Tennessee':\n",
    "'Nashville', 'Texas': 'Austin', 'Utah': 'Salt Lake City', 'Vermont':\n",
    "'Montpelier', 'Virginia': 'Richmond', 'Washington': 'Olympia', 'West\n",
    "Virginia': 'Charleston', 'Wisconsin': 'Madison', 'Wyoming': 'Cheyenne'}\n",
    "# Generate 35 quiz files.\n",
    "for quizNum in range(35):\n",
    "  # TODO: Create the quiz and answer key files.\n",
    "  # TODO: Write out the header for the quiz.\n",
    "  # TODO: Shuffle the order of the states.\n",
    "  # TODO: Loop through all 50 states, making a question for each."
   ]
  },
  {
   "cell_type": "markdown",
   "metadata": {
    "id": "OlFuXlPKMzM7"
   },
   "source": [
    "# **Explanation:** \n",
    "Since this program will  randomly be ordering the questions and answers. Hence the program needs to import the random module (1). to make use of its functions. \n",
    "\n",
    "The capitals variable (2). contains a dictionary with US states as keys and their capitals as values. \n",
    "\n",
    "And since 35 quizzes are to be created, the code that actually generates the quiz and answer key files (marked with TODO comments for now) will go inside a for loop that loops 35 times (3). \n",
    "\n",
    "(This number can be changed to generate any number of quiz files.)"
   ]
  },
  {
   "cell_type": "markdown",
   "metadata": {
    "id": "uO84sTYGNc8r"
   },
   "source": [
    "# **Step 2: Create the Quiz File and Shuffle the Question Order**\n",
    "Now it’s time to start filling in those TO DOs.\n",
    "\n",
    "The code in the loop will be repeated 35 times — **once for each quiz** — \n",
    "\n",
    "So, only one quiz will be created at a time within the loop. \n",
    "\n",
    "First creating the actual quiz file. \n",
    "\n",
    "It needs to have a unique filename and should also have some kind of standard header in it, with places for the student to fill in a name, date, and class period. \n",
    "\n",
    "Then the program will need to get a list of states in randomized order, which can be used later to create the questions and answers for the quiz.\n",
    "\n",
    "Add the following lines of code to randomQuizGenerator.py:"
   ]
  },
  {
   "cell_type": "code",
   "execution_count": null,
   "metadata": {
    "id": "-SsAHriVRBoX"
   },
   "outputs": [],
   "source": [
    "#! python3\n",
    "# randomQuizGenerator.py - Creates quizzes with questions and answers in\n",
    "# random order, along with the answer key.\n",
    "--snip--\n",
    "# Generate 35 quiz files.\n",
    "for quizNum in range(35):\n",
    "  # Create the quiz and answer key files.\n",
    "  quizFile = open('capitalsquiz%s.txt' % (quizNum + 1), 'w')\n",
    "  answerKeyFile = open('capitalsquiz_answers%s.txt' % (quizNum + 1), 'w')\n",
    "  # Write out the header for the quiz.\n",
    "  quizFile.write('Name:\\n\\nDate:\\n\\nPeriod:\\n\\n')\n",
    "  quizFile.write((' ' * 20) + 'State Capitals Quiz (Form %s)' % (quizNum + 1))\n",
    "  quizFile.write('\\n\\n')\n",
    "  # Shuffle the order of the states.\n",
    "  states = list(capitals.keys())\n",
    "  random.shuffle(states)\n",
    "  # TODO: Loop through all 50 states, making a question for each."
   ]
  },
  {
   "cell_type": "markdown",
   "metadata": {
    "id": "UAQFJ44oRtqH"
   },
   "source": [
    "# **Explanation:** \n",
    "The filenames for the quizzes will be **capitalsquiz<N>.txt**, where **<N>** is\n",
    "a unique number for the quiz that comes from quizNum, the for loop’s counter.\n",
    "\n",
    "The answer key for **capitalsquiz<N>.txt** will be stored in a text file named\n",
    "**capitalsquiz_answers<N>.txt**. \n",
    "\n",
    "Each time through the loop, the %s placeholder in '**capitalsquiz%s.txt**' and '**capitalsquiz_answers%s.txt**' will be replaced by (quizNum + 1), so the first quiz and answer key created will be **capitalsquiz1.txt** and \n",
    "**capitalsquiz_answers1.txt**. \n",
    "\n",
    "These files will be created with calls to the **open()** function at 1 and 2, with '3' as the second argument to open them in write mode.\n",
    "\n",
    "The **write()** statements at 3 create a quiz header for the student to fill out. \n",
    "\n",
    "Finally, a randomized list of US states is created with the help of the \n",
    "**random.shuffle()** function x, which randomly reorders the values in any list\n",
    "that is passed to it."
   ]
  },
  {
   "cell_type": "markdown",
   "metadata": {
    "id": "XmOJsCb0TAAD"
   },
   "source": [
    "# **Step 3: Create the Answer Options**\n",
    "Now it's time to generate the answer options for each question, which will\n",
    "be multiple choice from A to D. \n",
    "\n",
    "So program is required to create another for loop—this one to generate the content for each of the 50 questions on the quiz. \n",
    "\n",
    "Then there will be a third for loop nested inside to generate the multiple-choice options for each question. \n",
    "\n",
    "Make your code look like the following:"
   ]
  },
  {
   "cell_type": "code",
   "execution_count": null,
   "metadata": {
    "id": "cCrJ9290TlWB"
   },
   "outputs": [],
   "source": [
    "#! python3\n",
    "# randomQuizGenerator.py - Creates quizzes with questions and answers in\n",
    "# random order, along with the answer key.\n",
    "--snip--\n",
    "# Loop through all 50 states, making a question for each.\n",
    "for questionNum in range(50):\n",
    "  # Get right and wrong answers.\n",
    "  1 correctAnswer = capitals[states[questionNum]]\n",
    "  2 wrongAnswers = list(capitals.values())\n",
    "  3 del wrongAnswers[wrongAnswers.index(correctAnswer)]\n",
    "  4 wrongAnswers = random.sample(wrongAnswers, 3)\n",
    "  5 answerOptions = wrongAnswers + [correctAnswer]\n",
    "  6 random.shuffle(answerOptions)\n",
    "  # TODO: Write the question and answer options to the quiz file.\n",
    "  # TODO: Write the answer key to a file."
   ]
  },
  {
   "cell_type": "markdown",
   "metadata": {
    "id": "l8orOCvwT-0l"
   },
   "source": [
    "# **Explanation:**\n",
    "The correct answer is easy to get—it’s stored as a value in the capitals\n",
    "dictionary **1**. \n",
    "\n",
    "This loop will loop through the states in the shuffled states list, from \n",
    "**states[0]** to **states[49]**, find each state in capitals, and store that state’s corresponding capital in correctAnswer.\n",
    "\n",
    "The list of possible wrong answers is trickier. \n",
    "\n",
    "This can be achived, by duplicating all the values in the capitals dictionary **2**, deleting the correct answer **3**, and selecting three random values from this list **4**. \n",
    "\n",
    "The **random.sample()** function makes it easy to do this selection. \n",
    "\n",
    "Its first argument is the list that has to be selected from; the second argument is the number of values which are to be selected. \n",
    "\n",
    "The full list of answer options is the combination of these three wrong answers with the correct answers **5**. \n",
    "\n",
    "Finally, the answers need to be randomized **6** so that the correct response isn’t always choice D."
   ]
  },
  {
   "cell_type": "markdown",
   "metadata": {
    "id": "J8Q5sL9mVcMz"
   },
   "source": [
    "# **Step 4: Write Content to the Quiz and Answer Key Files**\n",
    "All that is left is to write the question to the quiz file and the answer to\n",
    "the answer key file. \n",
    "\n",
    "Make the code look like the following:"
   ]
  },
  {
   "cell_type": "code",
   "execution_count": null,
   "metadata": {
    "id": "cb8_74vrVkiH"
   },
   "outputs": [],
   "source": [
    "#! python3\n",
    "# randomQuizGenerator.py - Creates quizzes with questions and answers in\n",
    "# random order, along with the answer key.\n",
    "--snip--\n",
    "# Loop through all 50 states, making a question for each.\n",
    "for questionNum in range(50):\n",
    "--snip--\n",
    "  # Write the question and the answer options to the quiz file.\n",
    "  quizFile.write('%s. What is the capital of %s?\\n' % (questionNum + 1, states[questionNum]))\n",
    "  1 for i in range(4):\n",
    "  2   quizFile.write(' %s. %s\\n' % ('ABCD'[i], answerOptions[i]))\n",
    "      quizFile.write('\\n')\n",
    "    # Write the answer key to a file.\n",
    "  3 answerKeyFile.write('%s. %s\\n' % (questionNum + 1, 'ABCD'[answerOptions.index(correctAnswer)]))\n",
    "quizFile.close()\n",
    "answerKeyFile.close()"
   ]
  },
  {
   "cell_type": "markdown",
   "metadata": {
    "id": "rmUYSMGZWSUm"
   },
   "source": [
    "# ***Explanation:*** \n",
    "\n",
    "For loop that goes through integers 0 to 3 will write the answer options in the answerOptions list **1**. \n",
    "\n",
    "The expression 'ABCD'[i] at **2** treats the string 'ABCD' as an array and will evaluate to 'A','B', 'C', and then 'D' on each respective iteration through the loop.\n",
    "\n",
    "In the final line **3**, the expression answerOptions.index(correctAnswer) will find the integer index of the correct answer in the randomly ordered answer options, and 'ABCD'[answerOptions.index(correctAnswer)] will evaluate to the correct answer’s letter to be written to the answer key file.\n",
    "\n",
    "After the program is run , this is how the **capitalsquiz1.txt** file will look. \n",
    "\n",
    "Though, the questions and answer options may be different from those shown here, depending on the outcome of the **random.shuffle()** calls:"
   ]
  },
  {
   "cell_type": "markdown",
   "metadata": {
    "id": "Kk1ESrAwXScL"
   },
   "source": [
    "Name:\n",
    "\n",
    "Date:\n",
    "\n",
    "Period:\n",
    "\n",
    "##                                **State Capitals Quiz (Form 1)**\n",
    "\n",
    "1. What is the capital of West Virginia?\n",
    "\n",
    "    A. Hartford\n",
    "\n",
    "    B. Santa Fe\n",
    "\n",
    "    C. Harrisburg\n",
    "\n",
    "    D. Charleston\n",
    "\n",
    "2. What is the capital of Colorado?\n",
    "\n",
    "    A. Raleigh\n",
    "\n",
    "    B. Harrisburg\n",
    "\n",
    "    C. Denver\n",
    "\n",
    "    D. Lincoln\n",
    "\n",
    "--snip--\n",
    "\n",
    "The corresponding **capitalsquiz_answers1.txt** text file will look like this:\n",
    "\n",
    "    1. D\n",
    "    2. C\n",
    "    3. A\n",
    "    4. C\n",
    "--snip--"
   ]
  },
  {
   "cell_type": "markdown",
   "metadata": {
    "id": "37xYswxdaGil"
   },
   "source": [
    "# **Class Exercise (Time 30 Minutes)**:\n",
    "\n",
    "Recreate the whole program and execute the same for 5 Students getting five different Quizzes. \n",
    "\n",
    "Show the execution of the program."
   ]
  }
 ],
 "metadata": {
  "colab": {
   "collapsed_sections": [],
   "name": "Module3_Session7_Files.ipynb",
   "provenance": []
  },
  "kernelspec": {
   "display_name": "Python 3 (ipykernel)",
   "language": "python",
   "name": "python3"
  },
  "language_info": {
   "codemirror_mode": {
    "name": "ipython",
    "version": 3
   },
   "file_extension": ".py",
   "mimetype": "text/x-python",
   "name": "python",
   "nbconvert_exporter": "python",
   "pygments_lexer": "ipython3",
   "version": "3.9.13"
  }
 },
 "nbformat": 4,
 "nbformat_minor": 1
}

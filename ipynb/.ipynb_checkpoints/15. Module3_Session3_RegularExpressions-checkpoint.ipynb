{
 "cells": [
  {
   "cell_type": "code",
   "execution_count": 2,
   "metadata": {
    "colab": {
     "base_uri": "https://localhost:8080/"
    },
    "executionInfo": {
     "elapsed": 1983,
     "status": "ok",
     "timestamp": 1604917550823,
     "user": {
      "displayName": "Janardhan Singh",
      "photoUrl": "https://lh3.googleusercontent.com/a-/AOh14GgYIXR37vLwtdVL5x_swdVKLkOhj_Hrkyb61zSc=s64",
      "userId": "17935816752203629466"
     },
     "user_tz": -330
    },
    "id": "9TeEpCnjKD4C",
    "outputId": "918847d9-9d0c-4ebd-e102-ca61b708c721"
   },
   "outputs": [
    {
     "name": "stdout",
     "output_type": "stream",
     "text": [
      "This is my email: abc@xyz.com\n"
     ]
    }
   ],
   "source": [
    "import re\n",
    "emailRegex = re.compile(r'\\D+@\\D+\\.\\D+')\n",
    "mo = emailRegex.search(\"This is my email: abc@xyz.com\")\n",
    "print(mo.group())\n"
   ]
  },
  {
   "cell_type": "markdown",
   "metadata": {
    "id": "KN12BnIiCYxM"
   },
   "source": [
    "# **Matching One or More with the Plus**\n",
    "While * means “match zero or more,” the + (or plus) means “match one or\n",
    "more.” \n",
    "\n",
    "Unlike the star, which does not require its group to appear in the matched string, the group preceding a plus must appear at least once. It is not optional.\n",
    " \n",
    "Enter the following into the interactive shell, and compare it with the star regexes:"
   ]
  },
  {
   "cell_type": "code",
   "execution_count": null,
   "metadata": {
    "colab": {
     "base_uri": "https://localhost:8080/",
     "height": 35
    },
    "executionInfo": {
     "elapsed": 1425,
     "status": "ok",
     "timestamp": 1604726356556,
     "user": {
      "displayName": "Janardhan Singh",
      "photoUrl": "https://lh3.googleusercontent.com/a-/AOh14GgYIXR37vLwtdVL5x_swdVKLkOhj_Hrkyb61zSc=s64",
      "userId": "17935816752203629466"
     },
     "user_tz": -330
    },
    "id": "5reE2UU_Cyd_",
    "outputId": "d7792a2c-1f73-431a-c6a0-afb8073f3ce1"
   },
   "outputs": [
    {
     "data": {
      "application/vnd.google.colaboratory.intrinsic+json": {
       "type": "string"
      },
      "text/plain": [
       "'Batwoman'"
      ]
     },
     "execution_count": 33,
     "metadata": {
      "tags": []
     },
     "output_type": "execute_result"
    }
   ],
   "source": [
    "import re\n",
    "batRegex = re.compile(r'Bat(wo)*man')\n",
    "mo1 = batRegex.search('The Adventures of Batwoman')\n",
    "mo1.group()"
   ]
  },
  {
   "cell_type": "code",
   "execution_count": null,
   "metadata": {
    "colab": {
     "base_uri": "https://localhost:8080/",
     "height": 35
    },
    "executionInfo": {
     "elapsed": 1134,
     "status": "ok",
     "timestamp": 1604726301316,
     "user": {
      "displayName": "Janardhan Singh",
      "photoUrl": "https://lh3.googleusercontent.com/a-/AOh14GgYIXR37vLwtdVL5x_swdVKLkOhj_Hrkyb61zSc=s64",
      "userId": "17935816752203629466"
     },
     "user_tz": -330
    },
    "id": "XgjOt55eDBvH",
    "outputId": "03599960-9166-44a8-988b-95cf34482557"
   },
   "outputs": [
    {
     "data": {
      "application/vnd.google.colaboratory.intrinsic+json": {
       "type": "string"
      },
      "text/plain": [
       "'Batwowowowoman'"
      ]
     },
     "execution_count": 31,
     "metadata": {
      "tags": []
     },
     "output_type": "execute_result"
    }
   ],
   "source": [
    "mo2 = batRegex.search('The Adventures of Batwowowowoman')\n",
    "mo2.group()\n"
   ]
  },
  {
   "cell_type": "code",
   "execution_count": null,
   "metadata": {
    "colab": {
     "base_uri": "https://localhost:8080/"
    },
    "executionInfo": {
     "elapsed": 1146,
     "status": "ok",
     "timestamp": 1604726359940,
     "user": {
      "displayName": "Janardhan Singh",
      "photoUrl": "https://lh3.googleusercontent.com/a-/AOh14GgYIXR37vLwtdVL5x_swdVKLkOhj_Hrkyb61zSc=s64",
      "userId": "17935816752203629466"
     },
     "user_tz": -330
    },
    "id": "yt835IEXD8M2",
    "outputId": "58db2cb1-ca83-439d-9642-ca65bc174905"
   },
   "outputs": [
    {
     "data": {
      "text/plain": [
       "False"
      ]
     },
     "execution_count": 34,
     "metadata": {
      "tags": []
     },
     "output_type": "execute_result"
    }
   ],
   "source": [
    "mo3 = batRegex.search('The Adventures of Batman')\n",
    "mo3 == None"
   ]
  },
  {
   "cell_type": "markdown",
   "metadata": {
    "id": "d8VEU2kRDlbs"
   },
   "source": [
    "Note: The regex Bat(wo)+man will not match the string 'The Adventures of\n",
    "Batman' because at least one wo is required by the plus sign.\n",
    "\n",
    "If there is a need to match an actual plus sign character, prefix the plus sign\n",
    "with a backslash to escape it: \\\\+."
   ]
  },
  {
   "cell_type": "markdown",
   "metadata": {
    "id": "VGoNm-I5ELLM"
   },
   "source": [
    "# **Matching Specific Repetitions with Curly Brackets**\n",
    "If there is a group that has to repeat a specific number of times, follow\n",
    "the group in the regex with a number in curly brackets. \n",
    "\n",
    "**For example**: the regex (Ha){3} will match the string 'HaHaHa', but it will not match 'HaHa', since the latter has only two repeats of the (Ha) group.\n",
    "\n",
    "Instead of one number, that can specify a range by writing a **minimum**, a **comma**, and a **maximum** in between the **curly brackets** e.g.: {2,5}. \n",
    "\n",
    "**For example**: The regex (Ha){3,5} will match 'HaHaHa', 'HaHaHaHa', and 'HaHaHaHaHa'.\n",
    "\n",
    "**Note**: To leave the minimum or maximum unbounded the first or second number in the curly brackets can be omitted (left out) i.e. {a , } to accept any number of occurnces of the Regular Expressions >= a and { , b} to accept any number of occurnces of the Regular Expressions <= b.\n",
    ". \n",
    "\n",
    "**For example**: **(Ha){3,}** will match **three or more** instances of the (Ha) group, while **(Ha){,5}** will match **zero to five instances** of Ha. Curly brackets can help make the regular expressions shorter. \n",
    "\n",
    "These two regular expressions match identical patterns:"
   ]
  },
  {
   "cell_type": "code",
   "execution_count": null,
   "metadata": {
    "id": "E_M-VKIOGqqN"
   },
   "outputs": [],
   "source": [
    "(Ha){3, }\n",
    "\n",
    "(Ha)(Ha)(Ha)"
   ]
  },
  {
   "cell_type": "code",
   "execution_count": null,
   "metadata": {
    "id": "9FJ0cQfkGwSf"
   },
   "outputs": [],
   "source": [
    "(Ha){3,5}\n",
    "((Ha)(Ha)(Ha))|((Ha)(Ha)(Ha)(Ha))|((Ha)(Ha)(Ha)(Ha)(Ha))"
   ]
  },
  {
   "cell_type": "markdown",
   "metadata": {
    "id": "Gj6EEkC4G7L7"
   },
   "source": [
    "Enter the following into the interactive shell:"
   ]
  },
  {
   "cell_type": "code",
   "execution_count": null,
   "metadata": {
    "id": "HgxG6njEG9XC"
   },
   "outputs": [],
   "source": [
    "import re\n",
    "haRegex = re.compile(r'(Ha){3,5}')\n",
    "mo1 = haRegex.search('HaHaHaHaHaHaHa')\n",
    "mo1.group()"
   ]
  },
  {
   "cell_type": "code",
   "execution_count": null,
   "metadata": {
    "id": "2WcIi7GyHRmB"
   },
   "outputs": [],
   "source": [
    "mo2 = haRegex.search('Ha')\n",
    "mo2 == None\n",
    "#print(mo2.group())"
   ]
  },
  {
   "cell_type": "markdown",
   "metadata": {
    "id": "v10ymlW6HiC7"
   },
   "source": [
    "**Note**: Here, (Ha){3} matches 'HaHaHa' but not 'Ha'. Since it doesn’t match 'Ha', search() returns None."
   ]
  },
  {
   "cell_type": "markdown",
   "metadata": {
    "id": "nVHm0AkUHprc"
   },
   "source": [
    "# **Greedy and Nongreedy Matching**\n",
    "Since (Ha){3,5} can match three, four, or five instances of Ha in the string\n",
    "'HaHaHaHaHa'.\n",
    "Python’s regular expressions are greedy by default, which means that in\n",
    "ambiguous situations they will match the longest string possible. \n",
    "\n",
    "The nongreedy version of the curly brackets, which matches the shortest string possible, has the closing curly bracket followed by a question mark.\n",
    "\n",
    "Enter the following into the interactive shell, and notice the difference\n",
    "between the greedy and nongreedy forms of the curly brackets searching the same string:"
   ]
  },
  {
   "cell_type": "code",
   "execution_count": null,
   "metadata": {
    "colab": {
     "base_uri": "https://localhost:8080/",
     "height": 35
    },
    "executionInfo": {
     "elapsed": 1209,
     "status": "ok",
     "timestamp": 1604727475557,
     "user": {
      "displayName": "Janardhan Singh",
      "photoUrl": "https://lh3.googleusercontent.com/a-/AOh14GgYIXR37vLwtdVL5x_swdVKLkOhj_Hrkyb61zSc=s64",
      "userId": "17935816752203629466"
     },
     "user_tz": -330
    },
    "id": "tl9XGZtgIV7H",
    "outputId": "45be8da2-e73f-45a3-a00e-1344cc135655"
   },
   "outputs": [
    {
     "data": {
      "application/vnd.google.colaboratory.intrinsic+json": {
       "type": "string"
      },
      "text/plain": [
       "'HaHaHaHaHa'"
      ]
     },
     "execution_count": 56,
     "metadata": {
      "tags": []
     },
     "output_type": "execute_result"
    }
   ],
   "source": [
    "greedyHaRegex = re.compile(r'(Ha){3,5}')\n",
    "mo1 = greedyHaRegex.search('HaHaHaHaHa')\n",
    "mo1.group()"
   ]
  },
  {
   "cell_type": "code",
   "execution_count": null,
   "metadata": {
    "colab": {
     "base_uri": "https://localhost:8080/",
     "height": 35
    },
    "executionInfo": {
     "elapsed": 1134,
     "status": "ok",
     "timestamp": 1604727563777,
     "user": {
      "displayName": "Janardhan Singh",
      "photoUrl": "https://lh3.googleusercontent.com/a-/AOh14GgYIXR37vLwtdVL5x_swdVKLkOhj_Hrkyb61zSc=s64",
      "userId": "17935816752203629466"
     },
     "user_tz": -330
    },
    "id": "0a591gulIjgJ",
    "outputId": "5f4e0e4c-6a0c-4ae8-ec7b-228ed57725b5"
   },
   "outputs": [
    {
     "data": {
      "application/vnd.google.colaboratory.intrinsic+json": {
       "type": "string"
      },
      "text/plain": [
       "'HaHaHaHaHa'"
      ]
     },
     "execution_count": 60,
     "metadata": {
      "tags": []
     },
     "output_type": "execute_result"
    }
   ],
   "source": [
    "nongreedyHaRegex = re.compile(r'(Ha){3,5}?') #Please note the presence of ? in the string\n",
    "mo2 = nongreedyHaRegex.search('HaHaHaHaHa')\n",
    "mo2.group()"
   ]
  },
  {
   "cell_type": "markdown",
   "metadata": {
    "id": "AMi_zfwFJTMK"
   },
   "source": [
    "# **The findall() Method**\n",
    "In addition to the **search()** method, Regex objects also have a **findall()**\n",
    "method. \n",
    "\n",
    "While search() will return a Match object of the first matched text in the searched string, the findall() method will return the strings of every\n",
    "match in the searched string. \n",
    "\n",
    "To see how search() returns a Match object only on the first instance of matching text, enter the following into the interactive shell:"
   ]
  },
  {
   "cell_type": "code",
   "execution_count": null,
   "metadata": {
    "colab": {
     "base_uri": "https://localhost:8080/",
     "height": 35
    },
    "executionInfo": {
     "elapsed": 1149,
     "status": "ok",
     "timestamp": 1604728064053,
     "user": {
      "displayName": "Janardhan Singh",
      "photoUrl": "https://lh3.googleusercontent.com/a-/AOh14GgYIXR37vLwtdVL5x_swdVKLkOhj_Hrkyb61zSc=s64",
      "userId": "17935816752203629466"
     },
     "user_tz": -330
    },
    "id": "DG-2BIvRJnwm",
    "outputId": "5b986cd8-6681-4245-e7d9-7427a9cdf23a"
   },
   "outputs": [
    {
     "data": {
      "application/vnd.google.colaboratory.intrinsic+json": {
       "type": "string"
      },
      "text/plain": [
       "'91-55542-99991'"
      ]
     },
     "execution_count": 61,
     "metadata": {
      "tags": []
     },
     "output_type": "execute_result"
    }
   ],
   "source": [
    "phoneNumRegex = re.compile(r'\\d\\d-\\d\\d\\d\\d\\d-\\d\\d\\d\\d\\d')\n",
    "mo = phoneNumRegex.search('Cell: 91-55542-99991 Work: 91-55541-00008')\n",
    "mo.group()"
   ]
  },
  {
   "cell_type": "markdown",
   "metadata": {
    "id": "Kj7LJcNvKZCJ"
   },
   "source": [
    "On the other hand, **findall()** will not return a Match object but a list of\n",
    "strings—as long as there are no groups in the regular expression. \n",
    "\n",
    "Each string in the list is a piece of the searched text that matched the regular expression.\n",
    "\n",
    "Enter the following into the interactive shell:"
   ]
  },
  {
   "cell_type": "code",
   "execution_count": null,
   "metadata": {
    "colab": {
     "base_uri": "https://localhost:8080/"
    },
    "executionInfo": {
     "elapsed": 1218,
     "status": "ok",
     "timestamp": 1604728086495,
     "user": {
      "displayName": "Janardhan Singh",
      "photoUrl": "https://lh3.googleusercontent.com/a-/AOh14GgYIXR37vLwtdVL5x_swdVKLkOhj_Hrkyb61zSc=s64",
      "userId": "17935816752203629466"
     },
     "user_tz": -330
    },
    "id": "-gkMtZ2JKq7m",
    "outputId": "2eda2535-2e7a-4a01-af92-5784d515aa3e"
   },
   "outputs": [
    {
     "data": {
      "text/plain": [
       "['91-98555-99999', '91-80555-00271', '91-78900-25299']"
      ]
     },
     "execution_count": 62,
     "metadata": {
      "tags": []
     },
     "output_type": "execute_result"
    }
   ],
   "source": [
    "import re\n",
    "phoneNumRegex = re.compile(r'(\\d{2})-\\d{5}-\\d{5}') # The Regular Expression string has has no groups\n",
    "phoneNumRegex.findall('Cell: 91-98555-99999 Work: 91-80555-00271 Another: 91-78900-25299')"
   ]
  },
  {
   "cell_type": "markdown",
   "metadata": {
    "id": "9iH6C6-kLmwg"
   },
   "source": [
    "**Note**: If there are groups in the regular expression, then findall() will return\n",
    "a list of tuples. \n",
    "\n",
    "Each tuple represents a found match, and its items are the matched strings for each group in the regex. \n",
    "\n",
    "To see findall() in action.\n",
    "\n",
    "Enter the following into the interactive shell (notice that the regular expression being compiled now has groups in parentheses):"
   ]
  },
  {
   "cell_type": "code",
   "execution_count": null,
   "metadata": {
    "colab": {
     "base_uri": "https://localhost:8080/"
    },
    "executionInfo": {
     "elapsed": 1046,
     "status": "ok",
     "timestamp": 1604728317140,
     "user": {
      "displayName": "Janardhan Singh",
      "photoUrl": "https://lh3.googleusercontent.com/a-/AOh14GgYIXR37vLwtdVL5x_swdVKLkOhj_Hrkyb61zSc=s64",
      "userId": "17935816752203629466"
     },
     "user_tz": -330
    },
    "id": "kFZtxBHnL_Sg",
    "outputId": "8fe6aaf6-28e2-4ce1-bfbb-09a98d453ad9"
   },
   "outputs": [
    {
     "name": "stdout",
     "output_type": "stream",
     "text": [
      "80555\n"
     ]
    }
   ],
   "source": [
    "phoneNumRegex = re.compile(r'(\\d{2})-(\\d{5})-(\\d{5})') # It has groups\n",
    "listoutput=phoneNumRegex.findall('Cell: 91-98555-99999 Work: 91-80555-00271')\n",
    "print(listoutput[1][1])"
   ]
  },
  {
   "cell_type": "code",
   "execution_count": null,
   "metadata": {
    "id": "OPqdM_r8R0BG"
   },
   "outputs": [],
   "source": [
    "import re\n",
    "pattern = re.compile(\"\\s\\w+@\\D+.\\D+\")\n",
    "ans = pattern.search(input())\n",
    "print(ans.group())\n"
   ]
  },
  {
   "cell_type": "markdown",
   "metadata": {
    "id": "VPQRUsRYMu5e"
   },
   "source": [
    "# **Character Classes**\n",
    "In the earlier phone number regex example, you learned that \\d could\n",
    "stand for any numeric digit. \n",
    "\n",
    "That is, \\d is shorthand for the regular expression (0|1|2|3|4|5|6|7|8|9).\n",
    "There are many such shorthand character classes, as shown in Table below:-\n",
    "\n",
    "![image.png](data:image/png;base64,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)"
   ]
  },
  {
   "cell_type": "markdown",
   "metadata": {
    "id": "rwZsnsutNTDp"
   },
   "source": [
    "Character classes are nice for shortening regular expressions. The character\n",
    "class [0-5] will match only the numbers 0 to 5; this is much shorter\n",
    "than typing (0|1|2|3|4|5).\n",
    "\n",
    "For example, enter the following into the interactive shell:"
   ]
  },
  {
   "cell_type": "code",
   "execution_count": null,
   "metadata": {
    "colab": {
     "base_uri": "https://localhost:8080/"
    },
    "executionInfo": {
     "elapsed": 1085,
     "status": "ok",
     "timestamp": 1604729022786,
     "user": {
      "displayName": "Janardhan Singh",
      "photoUrl": "https://lh3.googleusercontent.com/a-/AOh14GgYIXR37vLwtdVL5x_swdVKLkOhj_Hrkyb61zSc=s64",
      "userId": "17935816752203629466"
     },
     "user_tz": -330
    },
    "id": "vAj5BQF3Nfmo",
    "outputId": "b1c685b7-f1d1-4011-d7b7-5b43d951be2c"
   },
   "outputs": [
    {
     "data": {
      "text/plain": [
       "['123 5drummer_s',\n",
       " '11 pip_ers',\n",
       " '10 lords',\n",
       " '9 ladies',\n",
       " '8 maids',\n",
       " '7 swans',\n",
       " '6 geese',\n",
       " '5 rings',\n",
       " '4 birds',\n",
       " '3 hens',\n",
       " '2 doves',\n",
       " '1 partridge']"
      ]
     },
     "execution_count": 74,
     "metadata": {
      "tags": []
     },
     "output_type": "execute_result"
    }
   ],
   "source": [
    "xmasRegex = re.compile(r'\\d+\\s\\w+')\n",
    "xmasRegex.findall('123 5drummer_s, 11 pip_ers, 10 lords, 9 ladies, 8 maids, 7 swans, 6 geese, 5 rings, 4 birds, 3 hens, 2 doves, 1 partridge')"
   ]
  },
  {
   "cell_type": "markdown",
   "metadata": {
    "id": "KD0lEbDwN-dQ"
   },
   "source": [
    "**Explanation**: The regular expression \\d+\\s\\w+ will match text that has one or more numeric digits (\\d+), followed by a whitespace character (\\s), followed by one or more `letter/digit/underscore` characters (\\w+). \n",
    "\n",
    "The findall() method returns all matching strings of the regex pattern in a list."
   ]
  },
  {
   "cell_type": "markdown",
   "metadata": {
    "id": "k-_3u0gQOM5_"
   },
   "source": [
    "# **Making Your Own Character Classes**\n",
    "There are times when there is a need to match a set of characters but the shorthand character classes (\\d, \\w, \\s, and so on) are too broad. \n",
    "\n",
    "In such cases we can define our own character class using square brackets. \n",
    "\n",
    "**For example**: The character class [aeiouAEIOU] will match any vowel, both lowercase and uppercase. \n",
    "\n",
    "Enter the following into the interactive shell:"
   ]
  },
  {
   "cell_type": "code",
   "execution_count": null,
   "metadata": {
    "colab": {
     "base_uri": "https://localhost:8080/"
    },
    "executionInfo": {
     "elapsed": 1223,
     "status": "ok",
     "timestamp": 1604729285417,
     "user": {
      "displayName": "Janardhan Singh",
      "photoUrl": "https://lh3.googleusercontent.com/a-/AOh14GgYIXR37vLwtdVL5x_swdVKLkOhj_Hrkyb61zSc=s64",
      "userId": "17935816752203629466"
     },
     "user_tz": -330
    },
    "id": "j69aiOQ2P3Xm",
    "outputId": "b3bd22e7-fc0f-4ae5-9797-9bfdc0533ce1"
   },
   "outputs": [
    {
     "data": {
      "text/plain": [
       "['o', 'o', 'o', 'e', 'a', 'a', 'o', 'o', 'A', 'O', 'O']"
      ]
     },
     "execution_count": 76,
     "metadata": {
      "tags": []
     },
     "output_type": "execute_result"
    }
   ],
   "source": [
    "vowelRegex = re.compile(r'[aeiouAEIOU]')\n",
    "vowelRegex.findall('RoboCop eats baby food. BABY FOOD.')\n"
   ]
  },
  {
   "cell_type": "code",
   "execution_count": null,
   "metadata": {
    "id": "dU9mH1UDh03E"
   },
   "outputs": [],
   "source": [
    "ConsoRegex = re.compile(r'[a-zA-Z0-9]')\n",
    "ConsoRegex.findall('RoboCop 123 eats baby DOG food. BABY FOOD.')"
   ]
  },
  {
   "cell_type": "markdown",
   "metadata": {
    "id": "La1ckJLtR6fW"
   },
   "source": [
    "A range of letters or numbers can also be included  by using a hyphen.\n",
    "\n",
    "**For example**: the character class [a-zA-Z0-9] will match all lowercase letters, uppercase letters, and numbers.\n",
    "\n",
    "Note: Inside the square brackets, the normal regular expression symbols are not interpreted as such. \n",
    "\n",
    "This means there is no need to escape the ., *, ?, or () characters with a preceding backslash. \n",
    "\n",
    "**For example**: The character class [0-5.] will match digits 0 to 5 and a period. There is no need to write it as [0-5\\.].\n",
    "\n",
    "By placing a caret character (^) just after the character class’s opening\n",
    "bracket, it can make a negative character class. \n",
    "\n",
    "A negative character class will match all the characters that are not in the character class. \n",
    "\n",
    "**For example**: Enter the following into the interactive shell:"
   ]
  },
  {
   "cell_type": "code",
   "execution_count": null,
   "metadata": {
    "colab": {
     "base_uri": "https://localhost:8080/"
    },
    "executionInfo": {
     "elapsed": 1070,
     "status": "ok",
     "timestamp": 1604729518826,
     "user": {
      "displayName": "Janardhan Singh",
      "photoUrl": "https://lh3.googleusercontent.com/a-/AOh14GgYIXR37vLwtdVL5x_swdVKLkOhj_Hrkyb61zSc=s64",
      "userId": "17935816752203629466"
     },
     "user_tz": -330
    },
    "id": "6j9cXKyUTvSS",
    "outputId": "93af930a-c337-489e-ef9f-a5d51b170eb0"
   },
   "outputs": [
    {
     "data": {
      "text/plain": [
       "['R',\n",
       " 'b',\n",
       " 'C',\n",
       " 'p',\n",
       " ' ',\n",
       " 't',\n",
       " 's',\n",
       " ' ',\n",
       " 'b',\n",
       " 'b',\n",
       " 'y',\n",
       " ' ',\n",
       " 'f',\n",
       " 'd',\n",
       " '.',\n",
       " ' ',\n",
       " 'B',\n",
       " 'B',\n",
       " 'Y',\n",
       " ' ',\n",
       " 'F',\n",
       " 'D',\n",
       " '.']"
      ]
     },
     "execution_count": 80,
     "metadata": {
      "tags": []
     },
     "output_type": "execute_result"
    }
   ],
   "source": [
    "consonantRegex = re.compile(r'[^aeiouAEIOU]')\n",
    "consonantRegex.findall('RoboCop eats baby food. BABY FOOD.')"
   ]
  },
  {
   "cell_type": "markdown",
   "metadata": {
    "id": "Z7jK7f-yT_ph"
   },
   "source": [
    "**Note**: Here, instead of matching every vowel, we’re matching every character\n",
    "that isn’t a vowel."
   ]
  },
  {
   "cell_type": "markdown",
   "metadata": {
    "id": "BiFEofRaUT6J"
   },
   "source": [
    "# **The Caret and Dollar Sign Characters**\n",
    " The caret symbol (^) can also be used  at the start of a regex to indicate that\n",
    "a match must occur at the beginning of the searched text. \n",
    "\n",
    "Likewise,  a dollar sign $ can be put at the end of the regex to indicate the string must end with this regex pattern. \n",
    "\n",
    "And the ^ and $  when used together indicate that the entire string must match the regex—that is, it’s not enough for a match to be made on some subset of the string.\n",
    "\n",
    "**For example**: the r'^Hello' regular expression string matches strings\n",
    "that begin with 'Hello'. \n",
    "\n",
    "Enter the following into the interactive shell:\n",
    "\n"
   ]
  },
  {
   "cell_type": "markdown",
   "metadata": {
    "id": "AHJlloNqWxPi"
   },
   "source": [
    "import re\n",
    "beginsWithHello = re.compile(r'^Hello')\n",
    "resutl=beginsWithHello.search('Hello')"
   ]
  },
  {
   "cell_type": "code",
   "execution_count": null,
   "metadata": {
    "id": "qLLR09CIw1ZH"
   },
   "outputs": [],
   "source": [
    "import re\n",
    "beginsWithHello = re.compile(r'^Hello')\n",
    "beginsWithHello.search('Hello world')"
   ]
  },
  {
   "cell_type": "code",
   "execution_count": null,
   "metadata": {
    "id": "5pEe7d2DxbsC"
   },
   "outputs": [],
   "source": [
    "beginsWithHello.search('He said hello.') == None"
   ]
  },
  {
   "cell_type": "markdown",
   "metadata": {
    "id": "hlqnhtAwXI9T"
   },
   "source": [
    "beginsWithHello.search('He said hello.') == None"
   ]
  },
  {
   "cell_type": "markdown",
   "metadata": {
    "id": "XNolPnEtXNwA"
   },
   "source": [
    "The r'\\d$' regular expression string matches strings that end with a\n",
    "numeric character from 0 to 9. \n",
    "\n",
    "Enter the following into the interactive shell:"
   ]
  },
  {
   "cell_type": "code",
   "execution_count": null,
   "metadata": {
    "id": "fhEkDG8yXUp1"
   },
   "outputs": [],
   "source": [
    "endsWithNumber = re.compile(r'\\d$')\n",
    "endsWithNumber.search('Your number is 42')"
   ]
  },
  {
   "cell_type": "code",
   "execution_count": null,
   "metadata": {
    "id": "smdUE7jUXcad"
   },
   "outputs": [],
   "source": [
    "endsWithNumber.search('Your number is forty two.') == None"
   ]
  },
  {
   "cell_type": "markdown",
   "metadata": {
    "id": "iQJ2nNg1XgpZ"
   },
   "source": [
    "The r'^\\d+$' regular expression string matches strings that both begin\n",
    "and end with one or more numeric characters. \n",
    "\n",
    "Enter the following into the interactive shell:"
   ]
  },
  {
   "cell_type": "code",
   "execution_count": null,
   "metadata": {
    "id": "RsCfN9WqXnfU"
   },
   "outputs": [],
   "source": [
    "wholeStringIsNum = re.compile(r'^\\w\\d+$')\n",
    "wholeStringIsNum.search('a1234567890')\n"
   ]
  },
  {
   "cell_type": "code",
   "execution_count": null,
   "metadata": {
    "id": "K5-y0KDdX0Dw"
   },
   "outputs": [],
   "source": [
    "wholeStringIsNum.search('12345xyz67890') == None"
   ]
  },
  {
   "cell_type": "code",
   "execution_count": null,
   "metadata": {
    "id": "J1yuHQRdX4Ay"
   },
   "outputs": [],
   "source": [
    "wholeStringIsNum.search('12 34567890') == None"
   ]
  },
  {
   "cell_type": "markdown",
   "metadata": {
    "id": "zUf-3kujX_aH"
   },
   "source": [
    "**Explanation**: The last two search() calls in the previous interactive shell example demonstrate how the entire string must match the regex if ^ and $ are used.\n",
    "\n",
    "There is always a confusion about the meanings of these two symbols, so a  mnemonic can be used  “Carrots cost dollars” to remind one that the caret ^ comes first and the dollar sign $ comes last."
   ]
  },
  {
   "cell_type": "markdown",
   "metadata": {
    "id": "1iYoIDlMZG2W"
   },
   "source": [
    "# **The Wildcard Character**\n",
    "The . (or dot) character in a regular expression is called a wildcard and will\n",
    "match any character except for a newline. \n",
    "\n",
    "For example, enter the following into the interactive shell:"
   ]
  },
  {
   "cell_type": "code",
   "execution_count": null,
   "metadata": {
    "id": "m-3nRzUcZRfG"
   },
   "outputs": [],
   "source": [
    "atRegex = re.compile(r'.at')\n",
    "atRegex.findall('The cat in the hat sat on the flat mat.')"
   ]
  },
  {
   "cell_type": "markdown",
   "metadata": {
    "id": "rL2cM8SqZcrs"
   },
   "source": [
    "**Note**: Remember that the dot character will match just one character, which\n",
    "is why the match for the text flat in the previous example matched only last.\n",
    "\n",
    "To match an actual dot, escape the dot with a backslash: \\.."
   ]
  },
  {
   "cell_type": "markdown",
   "metadata": {
    "id": "YPb8YSzqZ9a9"
   },
   "source": [
    "# **Matching Everything with Dot-Star**\n",
    "Sometimes you will want to match everything and anything. \n",
    "\n",
    "**For example**: say you want to match the string 'First Name:', followed by any and all text, followed by 'Last Name:', and then followed by anything again. \n",
    "\n",
    "The dot-star (.*)  can be used  to stand in for that “anything.” \n",
    "\n",
    "**Remember** that the dot character means \n",
    "“any single character except the newline,” and the star character means “zero or more of the preceding character.”\n",
    "\n",
    "Enter the following into the interactive shell:"
   ]
  },
  {
   "cell_type": "code",
   "execution_count": null,
   "metadata": {
    "id": "Uumh3Vpfaf1J"
   },
   "outputs": [],
   "source": [
    "nameRegex = re.compile(r'First Name: (.*) Last Name: (.*)')\n",
    "mo = nameRegex.search('First Name: Al Last Name: Sweigart')\n",
    "mo.group(0)"
   ]
  },
  {
   "cell_type": "code",
   "execution_count": null,
   "metadata": {
    "id": "cHrFAAkzasfy"
   },
   "outputs": [],
   "source": [
    "mo.group(2)"
   ]
  },
  {
   "cell_type": "markdown",
   "metadata": {
    "id": "3SgW-kkZazuj"
   },
   "source": [
    "**The dot-star uses greedy mode**: It will always try to match as much text as\n",
    "possible. To match any and all text in a nongreedy fashion, use the dot, star,\n",
    "and question mark (.*?). \n",
    "\n",
    "Like with curly brackets, the question mark tells Python to match in a nongreedy way. \n",
    "\n",
    "Enter the following into the interactive shell to see the difference between the greedy and nongreedy versions:"
   ]
  },
  {
   "cell_type": "code",
   "execution_count": 4,
   "metadata": {
    "colab": {
     "base_uri": "https://localhost:8080/",
     "height": 35
    },
    "executionInfo": {
     "elapsed": 3090,
     "status": "ok",
     "timestamp": 1604917572641,
     "user": {
      "displayName": "Janardhan Singh",
      "photoUrl": "https://lh3.googleusercontent.com/a-/AOh14GgYIXR37vLwtdVL5x_swdVKLkOhj_Hrkyb61zSc=s64",
      "userId": "17935816752203629466"
     },
     "user_tz": -330
    },
    "id": "gwWWAlEGa9eW",
    "outputId": "2df76338-842e-4f65-8781-baf0cfe71e2b"
   },
   "outputs": [
    {
     "data": {
      "application/vnd.google.colaboratory.intrinsic+json": {
       "type": "string"
      },
      "text/plain": [
       "'<To serve man>'"
      ]
     },
     "execution_count": 4,
     "metadata": {
      "tags": []
     },
     "output_type": "execute_result"
    }
   ],
   "source": [
    "nongreedyRegex = re.compile(r'<.*?>')\n",
    "mo = nongreedyRegex.search('<To serve man> for dinner.>')\n",
    "mo.group()"
   ]
  },
  {
   "cell_type": "code",
   "execution_count": 5,
   "metadata": {
    "colab": {
     "base_uri": "https://localhost:8080/",
     "height": 35
    },
    "executionInfo": {
     "elapsed": 2053,
     "status": "ok",
     "timestamp": 1604917578127,
     "user": {
      "displayName": "Janardhan Singh",
      "photoUrl": "https://lh3.googleusercontent.com/a-/AOh14GgYIXR37vLwtdVL5x_swdVKLkOhj_Hrkyb61zSc=s64",
      "userId": "17935816752203629466"
     },
     "user_tz": -330
    },
    "id": "S2tX1bGrbKCg",
    "outputId": "09c5ca7f-2442-46e3-d9d0-d946fb123f1c"
   },
   "outputs": [
    {
     "data": {
      "application/vnd.google.colaboratory.intrinsic+json": {
       "type": "string"
      },
      "text/plain": [
       "'<To serve man> for dinner.>'"
      ]
     },
     "execution_count": 5,
     "metadata": {
      "tags": []
     },
     "output_type": "execute_result"
    }
   ],
   "source": [
    "greedyRegex = re.compile(r'<.*>')\n",
    "mo = greedyRegex.search('<To serve man> for dinner.>')\n",
    "mo.group()"
   ]
  },
  {
   "cell_type": "markdown",
   "metadata": {
    "id": "sbF29s17bVj2"
   },
   "source": [
    "**Explanation**: Both regexes roughly translate to “Match an opening angle bracket, followed by anything, followed by a closing angle bracket.” \n",
    "\n",
    "But the string '<To serve man> for dinner.>' has two possible matches for the closing angle bracket. \n",
    "\n",
    "In the nongreedy version of the regex, Python matches the shortest possible string: '<To serve man>'. \n",
    "\n",
    "In the greedy version, Python matches the longest possible string: '<To serve man> for dinner.>'. \n",
    "It reads To serve man for dinner.\n",
    "\n"
   ]
  },
  {
   "cell_type": "markdown",
   "metadata": {
    "id": "ZjWy4Lj6cY2k"
   },
   "source": [
    "# **Matching Newlines with the Dot Character**\n",
    "The dot-star will match everything except a newline. \n",
    "\n",
    "By passing re.DOTALL as the second argument to re.compile(), it can make the dot character match all characters, including the newline character.\n",
    "\n",
    "Enter the following into the interactive shell:"
   ]
  },
  {
   "cell_type": "code",
   "execution_count": null,
   "metadata": {
    "id": "vykfNRX6csB8"
   },
   "outputs": [],
   "source": [
    "noNewlineRegex = re.compile('.*')\n",
    "noNewlineRegex.search('Serve the public trust.\\nProtect the innocent.\\nUphold the law.').group()"
   ]
  },
  {
   "cell_type": "code",
   "execution_count": null,
   "metadata": {
    "id": "szFsnt6dc1wQ"
   },
   "outputs": [],
   "source": [
    "newlineRegex = re.compile('.*', re.DOTALL)\n",
    "newlineRegex.search('Serve the public trust.\\nProtect the innocent.\\nUphold the law.').group()"
   ]
  },
  {
   "cell_type": "markdown",
   "metadata": {
    "id": "uHxJJUqEdIFZ"
   },
   "source": [
    "**Explanation**: The regex noNewlineRegex, which did not have re.DOTALL passed to the re.compile() call that created it, will match everything only up to the first newline character, whereas newlineRegex, which did have re.DOTALL passed to re.compile(), matches everything. \n",
    "\n",
    "This is why the newlineRegex.search() call matches the full string, including its newline characters."
   ]
  }
 ],
 "metadata": {
  "colab": {
   "name": "Copy of Module3_Session3_RegularExpressions.ipynb",
   "provenance": [
    {
     "file_id": "1KZCC4oASUBRkSjTeRrwFXGd8krdEJKg1",
     "timestamp": 1604292520359
    }
   ]
  },
  "kernelspec": {
   "display_name": "Python 3 (ipykernel)",
   "language": "python",
   "name": "python3"
  },
  "language_info": {
   "codemirror_mode": {
    "name": "ipython",
    "version": 3
   },
   "file_extension": ".py",
   "mimetype": "text/x-python",
   "name": "python",
   "nbconvert_exporter": "python",
   "pygments_lexer": "ipython3",
   "version": "3.9.13"
  }
 },
 "nbformat": 4,
 "nbformat_minor": 1
}

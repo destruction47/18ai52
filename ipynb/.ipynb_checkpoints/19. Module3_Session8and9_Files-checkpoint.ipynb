{
 "cells": [
  {
   "cell_type": "markdown",
   "metadata": {
    "id": "vY5ZauInhQKl"
   },
   "source": [
    "# **Project: Multiclipboard**\n",
    "Suppose there is a tedious and boring task of filling out many forms in a web page or software with several text fields. \n",
    "\n",
    "The clipboard saves one from typing the same text over and over again. \n",
    "\n",
    "But only one thing can be on the clipboard at a time. \n",
    "\n",
    "If there are several different pieces of text that require to copy and pasted, then one has to keep highlighting and copying the same few things over and over again.\n",
    "\n",
    "A Python program can be written  to keep track of multiple pieces of text.\n",
    "\n",
    "\n",
    "This “multiclipboard” will be named **mcb.pyw** (since “**mcb**” is shorter to type than “**multiclipboard**”). \n",
    "\n",
    "The **.pyw** extension means that Python won’t show a Terminal window when it runs this program. \n",
    "\n",
    "**Note**: See **Appendix B** for more details.\n",
    "\n",
    "\n",
    "The program will save each piece of clipboard text under a keyword.\n",
    "\n",
    "\n",
    "**For example**: When py mcb.pyw save spam is run , the current contents of the\n",
    "clipboard will be saved with the keyword **spam**. \n",
    "\n",
    "This text can later be loaded to the clipboard again by running py mcb.pyw spam. \n",
    "\n",
    "And if the user forgets what keywords they have, they can run py mcb.pyw list to copy a list of all keywords to the clipboard.\n",
    "\n",
    "\n",
    "Here’s what the program does:\n",
    "\n",
    "• The command line argument for the keyword is checked.\n",
    "\n",
    "• If the argument is save, then the clipboard contents are saved to the keyword.\n",
    "\n",
    "• If the argument is list, then all the keywords are copied to the clipboard.\n",
    "\n",
    "• Otherwise, the text for the keyword is copied to the keyboard.\n",
    "\n",
    "This means the code will need to do the following:\n",
    "\n",
    "• Read the command line arguments from **sys.argv**.\n",
    "\n",
    "• Read and write to the clipboard.\n",
    "\n",
    "• Save and load to a shelf file.\n",
    "\n",
    "If  Windows is being used, then we can easily run this script from the Run… window by creating a batch file named **mcb.bat** with the following content:"
   ]
  },
  {
   "cell_type": "code",
   "execution_count": null,
   "metadata": {
    "id": "mQF6G-Tn3bJT"
   },
   "outputs": [],
   "source": [
    "@pyw.exe C:\\Python34\\mcb.pyw %*"
   ]
  },
  {
   "cell_type": "markdown",
   "metadata": {
    "id": "XldsORZ93eY_"
   },
   "source": [
    "# **Step 1: Comments and Shelf Setup**\n",
    "Let’s start by making a skeleton script with some comments and basic setup.\n",
    "\n",
    "Make program code look like the following:"
   ]
  },
  {
   "cell_type": "code",
   "execution_count": null,
   "metadata": {
    "id": "_Kp3xVq13tEY"
   },
   "outputs": [],
   "source": [
    "#! python3\n",
    "# mcb.pyw - Saves and loads pieces of text to the clipboard.\n",
    "# 1. Usage: py.exe mcb.pyw save <keyword> - Saves clipboard to keyword.\n",
    "# py.exe mcb.pyw <keyword> - Loads keyword to clipboard.\n",
    "# py.exe mcb.pyw list - Loads all keywords to clipboard.\n",
    "import shelve, pyperclip, sys # 2.\n",
    "mcbShelf = shelve.open('mcb') #3\n",
    "# TODO: Save clipboard content.\n",
    "# TODO: List keywords and load content.\n",
    "mcbShelf.close()"
   ]
  },
  {
   "cell_type": "markdown",
   "metadata": {
    "id": "2rpax-NG4MjD"
   },
   "source": [
    "# **Explanation:**\n",
    "\n",
    "It’s common practice to put general usage information in comments at the top of the file **1**. \n",
    "\n",
    "If one forgets how to run the script, then these comments can always be looked at, as a reminder. \n",
    "\n",
    "Then import the modules **2.** Copying and pasting will require the pyperclip module, and reading the command line arguments will require the **sys** module. \n",
    "\n",
    "The **shelve** module will also come in handy: Whenever the user wants to save a new piece of clipboard text, he/she will save it to a shelf file. \n",
    "\n",
    "Then, when the user wants to paste the text back to their clipboard, he/she will open the shelf file and load it back into the program. \n",
    "\n",
    "The shelf file will be named with the prefix **mcb** **3**. open the shelf file and load it back into the program. \n",
    "\n",
    "The shelf file will be named with the prefix **mcb** **3**.\n"
   ]
  },
  {
   "cell_type": "markdown",
   "metadata": {
    "id": "YpIru_th7Fl4"
   },
   "source": [
    "# **Step 2: Save Clipboard Content with a Keyword**\n",
    "The program does different things depending on whether the user wants to save text to a keyword, load text into the clipboard, or list all the existing\n",
    "keywords. \n",
    "\n",
    "Let us deal with that first case. \n",
    "\n",
    "Make program code look like the following:"
   ]
  },
  {
   "cell_type": "code",
   "execution_count": null,
   "metadata": {
    "id": "5A_gmxxO7mHP"
   },
   "outputs": [],
   "source": [
    "#! python3\n",
    "# mcb.pyw - Saves and loads pieces of text to the clipboard.\n",
    "\n",
    "--snip--\n",
    "\n",
    "# Save clipboard content.\n",
    "\n",
    "if len(sys.argv) == 3 and sys.argv[1].lower() == 'save':   #1\n",
    "  mcbShelf[sys.argv[2]] = pyperclip.paste()                 #2\n",
    "elif len(sys.argv) == 2:\n",
    " # 3. TODO: List keywords and load content.\n",
    "  mcbShelf.close()"
   ]
  },
  {
   "cell_type": "markdown",
   "metadata": {
    "id": "pU7BKgI77_iQ"
   },
   "source": [
    "# **Explanation: **\n",
    "\n",
    "If the first command line argument (which will always be at index 1 of the sys.argv list) is 'save' **1.**, the second command line argument is the keyword for the current content of the clipboard. \n",
    "\n",
    "The keyword will be used as the key for **mcbShelf**, and the value will be the text currently on the clipboard **2.**\n",
    "\n",
    "\n",
    "If there is only one command line argument, the assuming it to be either 'list' or a keyword to load content onto the clipboard. \n",
    "\n",
    "The code will be implemented later. \n",
    "\n",
    "For now, just put a TODO comment there **3.**"
   ]
  },
  {
   "cell_type": "markdown",
   "metadata": {
    "id": "0jD4jw0KH5mg"
   },
   "source": [
    "# **Step 3: List Keywords and Load a Keyword’s Content**\n",
    "Finally, implementing the two remaining cases: \n",
    "\n",
    "Case 1. The user wants to load clipboard text in from a keyword, or \n",
    "\n",
    "Case2. The  user wants a list of all available keywords.\n",
    "\n",
    "Make the program code look like the following:"
   ]
  },
  {
   "cell_type": "code",
   "execution_count": null,
   "metadata": {
    "id": "xoGSJVUZIY0m"
   },
   "outputs": [],
   "source": [
    "#! python3\n",
    "# mcb.pyw - Saves and loads pieces of text to the clipboard.\n",
    "--snip--\n",
    "# Save clipboard content.\n",
    "if len(sys.argv) == 3 and sys.argv[1].lower() == 'save':\n",
    "  mcbShelf[sys.argv[2]] = pyperclip.paste()\n",
    "elif len(sys.argv) == 2:\n",
    "  # List keywords and load content.\n",
    "  if sys.argv[1].lower() == 'list':                 #1.\n",
    "      pyperclip.copy(str(list(mcbShelf.keys())))    #2.\n",
    "  elif sys.argv[1] in mcbShelf:\n",
    "      pyperclip.copy(mcbShelf[sys.argv[1]])         #3.\n",
    "mcbShelf.close()"
   ]
  },
  {
   "cell_type": "markdown",
   "metadata": {
    "id": "VTsVv64LJWSc"
   },
   "source": [
    "# **Explanation:**\n",
    "\n",
    "If there is only one command line argument, first let’s check whether it’s 'list' **1.** \n",
    "\n",
    "If so, a string representation of the list of shelf keys will be copied to the clipboard **2.** \n",
    "\n",
    "The user can paste this list into an open text editor to read it.\n",
    "\n",
    "Otherwise, it can be assumed that the command line argument is a keyword.\n",
    "\n",
    "If this keyword exists in the mcbShelf shelf as a key, then the value onto the clipboard can be loaded  **3.**\n",
    "\n",
    "And that’s it! Launching this program has different steps depending on what operating system the computer uses. \n",
    "\n",
    "**Note: **See Appendix B for details about the operating system installed.\n",
    "\n",
    "\n",
    "Recall the password locker program that was created in Module-2 that stored the passwords in a dictionary. \n",
    "\n",
    "Updating the passwords required changing the source code of the program. \n",
    "\n",
    "This isn’t ideal because average users don’t feel comfortable changing source code to update their software.\n",
    "\n",
    "Also, every time the source code to a program is modified , there is a risk of accidentally introducing new bugs. \n",
    "\n",
    "By storing the data for a program in a different place than the code, the programs can be made easier for others to use and more resistant to bugs."
   ]
  },
  {
   "cell_type": "markdown",
   "metadata": {
    "id": "YLOeWzRsQBFb"
   },
   "source": [
    "# **Organizing Files**\n",
    "\n",
    "# **The shutil Module**\n",
    "The shutil (or shell utilities) module has functions  allows one to copy, move,\n",
    "rename, and delete files in the Python programs. \n",
    "\n",
    "To use the shutil functions,it is required to **import shutil**.\n",
    "\n",
    "**Copying Files and Folders**\n",
    "\n",
    "The shutil module provides functions for copying files, as well as entire folders.\n",
    "\n",
    "Calling **shutil.copy(source, destination)** will copy the file at the path source to the folder at the path destination. \n",
    "\n",
    "**Note:** Both source and destination are strings. \n",
    "\n",
    "If destination is a filename, it will be used as the new name of the copied file. \n",
    "\n",
    "This function returns a string of the path of the copied file.\n",
    "\n",
    "Enter the following into the interactive shell to see how **shutil.copy()** works:"
   ]
  },
  {
   "cell_type": "code",
   "execution_count": null,
   "metadata": {
    "id": "tEbIe6HRR0xu"
   },
   "outputs": [],
   "source": [
    "import shutil, os\n",
    "os.chdir('C:\\\\')\n",
    "\n",
    "shutil.copy('C:\\\\spam.txt', 'C:\\\\delicious')   #1.\n",
    " \n",
    "shutil.copy('eggs.txt', 'C:\\\\delicious\\\\eggs2.txt')  #2.\n"
   ]
  },
  {
   "cell_type": "markdown",
   "metadata": {
    "id": "ljJy33lBSTGz"
   },
   "source": [
    "The ouputs will look as follows:\n",
    "1. 'C:\\\\delicious\\\\spam.txt'\n",
    "2. 'C:\\\\delicious\\\\eggs2.txt'"
   ]
  },
  {
   "cell_type": "markdown",
   "metadata": {
    "id": "yPcuR3rZSqDX"
   },
   "source": [
    "# **Explanation:**\n",
    "\n",
    "The first **shutil.copy()** call copies the file at **C:\\spam.txt** to the folder **C:\\delicious**. \n",
    "\n",
    "The return value is the path of the newly copied file. \n",
    "\n",
    "**Note**: Since a folder was specified as the destination **1.**, the original \n",
    "**spam.txt** filename is used for the new, copied file’s filename. \n",
    "\n",
    "The second **shutil.copy()** call **2.** also copies the file at **C:\\eggs.txt** to the folder **C:\\delicious** but gives the copied file the name \n",
    "**eggs2.txt**."
   ]
  },
  {
   "cell_type": "markdown",
   "metadata": {
    "id": "-hQfq8p-TWzX"
   },
   "source": [
    "While **shutil.copy()** will copy a single file, **shutil.copytree()** will copy an entire folder and every folder and file contained in it. \n",
    "\n",
    "Calling **shutil.copytree(source, destination)** will copy the folder at the path source, along with all of its files and subfolders, to the folder at the path destination.\n",
    "\n",
    "The source and destination parameters are both strings. \n",
    "\n",
    "The function returns a string of the path of the copied folder.\n",
    "\n",
    "Enter the following into the interactive shell:"
   ]
  },
  {
   "cell_type": "code",
   "execution_count": null,
   "metadata": {
    "id": "v-J8Xr2yTut8"
   },
   "outputs": [],
   "source": [
    "import shutil, os\n",
    "os.chdir('C:\\\\')\n",
    "shutil.copytree('C:\\\\bacon', 'C:\\\\bacon_backup')\n"
   ]
  },
  {
   "cell_type": "markdown",
   "metadata": {
    "id": "aKy2ytksT3lm"
   },
   "source": [
    "The output of above 3 statements will be as shown below:\n",
    "\n",
    "**'C:\\\\bacon_backup'**\n",
    "\n",
    "**Explanation:**\n",
    "\n",
    "The **shutil.copytree()** call creates a new folder named bacon_backup with\n",
    "the same content as the original bacon folder. \n",
    "\n",
    "The Folder bacon and it's contents have now  been safely backed up.\n",
    "\n",
    "# **Moving and Renaming Files and Folders**\n",
    "Calling **shutil.move(source, destination) ** will move the file or folder at the path source to the path destination and will return a string of the absolute path of the new location.\n",
    "\n",
    "\n",
    "If destination points to a folder, the source file gets moved into destination\n",
    "and keeps its current filename. \n",
    "\n",
    "**For example**: Enter the following into the interactive shell:\n"
   ]
  },
  {
   "cell_type": "code",
   "execution_count": null,
   "metadata": {
    "id": "STqS9xzDVAb1"
   },
   "outputs": [],
   "source": [
    "import shutil\n",
    "import os\n",
    "shutil.move('C:\\\\bacon.txt', 'C:\\\\eggs')"
   ]
  },
  {
   "cell_type": "markdown",
   "metadata": {
    "id": "jR0Kz3kJVJJ8"
   },
   "source": [
    "The output of above 2 lines of code will be:\n",
    "\n",
    "**'C:\\\\eggs\\\\bacon.txt'**\n",
    "\n",
    "Assuming a folder named **eggs** already exists in the **C:\\ directory**, this\n",
    "**shutil.move()** calls says, **“Move C:\\bacon.txt** into the folder **C:\\eggs**.”\n",
    "\n",
    "\n",
    "If there had been a **bacon.txt** file already in **C:\\eggs**, it would have been overwritten. \n",
    "\n",
    "Since it’s easy to accidentally overwrite files in this way, some care should be taken  when using move().\n",
    "\n",
    "The destination path can also specify a filename. \n",
    "\n",
    "In the following example, the source file is moved and renamed."
   ]
  },
  {
   "cell_type": "code",
   "execution_count": null,
   "metadata": {
    "id": "QSNn-wFCV_0A"
   },
   "outputs": [],
   "source": [
    "shutil.move('C:\\\\bacon.txt', 'C:\\\\eggs\\\\new_bacon.txt')"
   ]
  },
  {
   "cell_type": "markdown",
   "metadata": {
    "id": "7_JHHpYLWEyC"
   },
   "source": [
    "The output of above 2 lines of code will be:\n",
    "\n",
    "**'C:\\\\eggs\\\\new_bacon.txt'**\n",
    "\n",
    "Explanation:\n",
    "\n",
    "This line says, “Move C:\\bacon.txt into the folder C:\\eggs, and while\n",
    "you’re at it, rename that bacon.txt file to new_bacon.txt.”\n",
    "\n",
    "\n",
    "Both of the previous examples worked under the assumption that there was a folder eggs in the C:\\ directory. \n",
    "\n",
    "But if there is no eggs folder, then move() will rename bacon.txt to a file named eggs."
   ]
  },
  {
   "cell_type": "code",
   "execution_count": null,
   "metadata": {
    "id": "_osigJ6WaAqx"
   },
   "outputs": [],
   "source": [
    "shutil.move('C:\\\\bacon.txt', 'C:\\\\eggs')"
   ]
  },
  {
   "cell_type": "markdown",
   "metadata": {
    "id": "MbbbwvwTaCjQ"
   },
   "source": [
    "The output of the statement above will be as follows:\n",
    "\n",
    "**'C:\\\\eggs'**\n",
    "\n",
    "**Explanation:**\n",
    "\n",
    "Here, move() can’t find a folder named eggs in the C:\\ directory and so assumes that destination must be specifying a filename, not a folder. \n",
    "\n",
    "So the bacon.txt text file is renamed to eggs (a text file without the .txt file extension)— probably not what you wanted! \n",
    "\n",
    "This can be a tough-to-spot bug in your programs since  call to the move()  can do something that might be quite different from what was expected. \n",
    "\n",
    "This is yet another reason to be careful when using move().\n",
    "\n",
    "\n",
    "Finally, the folders that make up the destination must already exist,\n",
    "or else Python will throw an exception. Enter the following into the interactive\n",
    "shell:"
   ]
  },
  {
   "cell_type": "code",
   "execution_count": null,
   "metadata": {
    "id": "lrC39rU8cG-C"
   },
   "outputs": [],
   "source": [
    "shutil.move('spam.txt', 'c:\\\\does_not_exist\\\\eggs\\\\ham')"
   ]
  },
  {
   "cell_type": "markdown",
   "metadata": {
    "id": "hgJhX2v0cISU"
   },
   "source": [
    "The above code when executed will result into an error:\n",
    "\n",
    "Traceback (most recent call last):\n",
    "\n",
    "File \"C:\\Python34\\lib\\shutil.py\", line 521, in move os.rename(src, real_dst)\n",
    "\n",
    "FileNotFoundError: [WinError 3] The system cannot find the path specified:\n",
    "'spam.txt' -> 'c:\\\\does_not_exist\\\\eggs\\\\ham'\n",
    "\n",
    "\n",
    "During handling of the above exception, another exception occurred:\n",
    "\n",
    "\n",
    "Traceback (most recent call last):\n",
    "\n",
    "File \"<pyshell#29>\", line 1, in <module>\n",
    "\n",
    "shutil.move('spam.txt', 'c:\\\\does_not_exist\\\\eggs\\\\ham')\n",
    "\n",
    "File \"C:\\Python34\\lib\\shutil.py\", line 533, in move copy2(src, real_dst)\n",
    "\n",
    "File \"C:\\Python34\\lib\\shutil.py\", line 244, in copy2 copyfile(src, dst, follow_symlinks=follow_symlinks)\n",
    "\n",
    "File \"C:\\Python34\\lib\\shutil.py\", line 108, in copyfile with open(dst, 'wb') as fdst:\n",
    "\n",
    "FileNotFoundError: [Errno 2] No such file or directory: 'c:\\\\does_not_exist\\\\\n",
    "eggs\\\\ham'\n",
    "\n",
    "**Note:** Python looks for eggs and ham inside the directory does_not_exist. \n",
    "\n",
    "It doesn’t find the nonexistent directory, so it can’t move spam.txt to the path\n",
    "you specified."
   ]
  },
  {
   "cell_type": "markdown",
   "metadata": {
    "id": "f6peUP2BhlEg"
   },
   "source": [
    "# **Permanently Deleting Files and Folders**\n",
    "A single file or a single empty folder can be deleted  with functions in the\n",
    "os module, whereas to delete a folder and all of its contents, using the shutil module.\n",
    "\n",
    "  • Calling **os.unlink(path)** will delete the file at path.\n",
    "\n",
    "  • Calling **os.rmdir(path)** will delete the folder at path. \n",
    "    **This folder must be empty of any files or folders**.\n",
    "\n",
    "  • Calling shutil.rmtree(path) will remove the folder at path, and all files\n",
    "    and folders it contains will also be deleted.\n",
    " \n",
    " Be careful when using these functions in the programs! \n",
    "\n",
    "It’s often a good idea to first run the program with these calls commented out and with **print()** calls added to show the files that would be deleted. \n",
    "\n",
    "\n",
    "Here is a Python program that was intended to delete files that have the \n",
    "**.txt** file extension but has a typo (highlighted in bold) that causes it to delete **.rxt** files instead:"
   ]
  },
  {
   "cell_type": "code",
   "execution_count": null,
   "metadata": {
    "id": "nrBio9bXi2vH"
   },
   "outputs": [],
   "source": [
    "import os\n",
    "for filename in os.listdir():\n",
    "  if filename.endswith('.rxt'):\n",
    "      os.unlink(filename)"
   ]
  },
  {
   "cell_type": "markdown",
   "metadata": {
    "id": "BYMQ4m6zi9Jk"
   },
   "source": [
    "If there are any important files ending with **.rxt**, they would have been\n",
    "accidentally, permanently deleted. \n",
    "\n",
    "Instead, run the program first  like this:"
   ]
  },
  {
   "cell_type": "code",
   "execution_count": null,
   "metadata": {
    "id": "1TU_gk1AjRK0"
   },
   "outputs": [],
   "source": [
    "import os\n",
    "for filename in os.listdir():\n",
    "    if filename.endswith('.rxt'):\n",
    "        #os.unlink(filename)\n",
    "        print(filename)"
   ]
  },
  {
   "cell_type": "markdown",
   "metadata": {
    "id": "29y5HVqsjYcY"
   },
   "source": [
    "Now the **os.unlink()** call is commented, so Python ignores it. \n",
    "\n",
    "Instead, the filename of the file will be printed that would have been deleted.\n",
    "\n",
    "Running this version of the program first will show that you’ve accidentally told the program to delete **.rxt** files instead of **.txt** files.\n",
    "\n",
    "Be certain that the program works as intended, delete the print(filename) line and uncomment the **os.unlink(filename)** line. \n",
    "\n",
    "Then run the program again to actually delete the files."
   ]
  },
  {
   "cell_type": "markdown",
   "metadata": {
    "id": "2BL1osOO-eQZ"
   },
   "source": [
    "# **Safe Deletes with the send2trash Module**\n",
    "Since Python’s built-in **shutil.rmtree() function irreversibly deletes files**\n",
    "and folders, it can be dangerous to use. \n",
    "\n",
    "A much better way to delete files and folders is with the third-party send2trash module. \n",
    "\n",
    "**send2trash** module can be installed by running **pip install send2trash** from a Terminal window. \n",
    "\n",
    "**Note**: See **Appendix A** for a more in-depth explanation of how to install third-party modules.\n",
    "\n",
    "Using send2trash is much safer than Python’s regular delete functions, because it will send folders and files to the computer’s trash or recycle bin instead of permanently deleting them. \n",
    "\n",
    "If a bug in the program deletes something with send2trash and there was no intension to delete it, then it can be restored later from the **recycle bin**.\n",
    "\n",
    "After send2trash has been installed , enter the following into the interactive\n",
    "shell:"
   ]
  },
  {
   "cell_type": "code",
   "execution_count": null,
   "metadata": {
    "id": "rZo-80hHBB8f"
   },
   "outputs": [],
   "source": [
    "import send2trash\n",
    "baconFile = open('bacon.txt', 'a') # creates the file\n",
    "baconFile.write('Bacon is not a vegetable.')\n",
    "\n",
    "baconFile.close()\n",
    "send2trash.send2trash('bacon.txt')"
   ]
  },
  {
   "cell_type": "markdown",
   "metadata": {
    "id": "-XJtO9A5A_Ca"
   },
   "source": [
    "In general, it is always suggested to use the **send2trash.send2trash()** function to delete files and folders. \n",
    "\n",
    "But while sending files to the recycle bin lets one to recover them later, it will not free up disk space like permanently deleting them does. \n",
    "\n",
    "If you want your program to free up disk space, use the os and shutil functions for deleting files and folders. \n",
    "\n",
    "Note that the **send2trash()** function can only **send files to the recycle bin**; but it **cannot pull files out of it**."
   ]
  },
  {
   "cell_type": "markdown",
   "metadata": {
    "id": "Hd5vZ3ppC4F3"
   },
   "source": [
    "# **Walking a Directory Tree**\n",
    "Say there is a need to rename every file in some folder and also every file in every subfolder of that folder. \n",
    "\n",
    "That is, we wish to walk through the directory tree, touching each file as we go. \n",
    "\n",
    "Writing a program to do this could get tricky; fortunately, Python provides a function to handle this process.\n",
    "\n",
    "Let’s look at the C:\\delicious folder with its contents, shown in Figure below:\n",
    "\n",
    "![image.png](data:image/png;base64,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)"
   ]
  },
  {
   "cell_type": "markdown",
   "metadata": {
    "id": "ysDob157DSug"
   },
   "source": [
    "Here is an example program that uses the os.walk() function on the\n",
    "directory tree from Figure 9-1:"
   ]
  },
  {
   "cell_type": "code",
   "execution_count": null,
   "metadata": {
    "id": "wfLVzDyiE5JI"
   },
   "outputs": [],
   "source": [
    "import os\n",
    "for folderName, subfolders, filenames in os.walk('C:\\\\delicious'):\n",
    "  print('The current folder is ' + folderName)\n",
    "  for subfolder in subfolders:\n",
    "    print('SUBFOLDER OF ' + folderName + ': ' + subfolder)\n",
    "  for filename in filenames:\n",
    "    print('FILE INSIDE ' + folderName + ': '+ filename)\n",
    "print('')"
   ]
  },
  {
   "cell_type": "markdown",
   "metadata": {
    "id": "8taWWuwQHrQl"
   },
   "source": [
    "The os.walk() function is passed a single string value: the path of a folder.\n",
    "\n",
    "os.walk() can be used  in a for loop statement to walk a directory tree, similar to use of the range() function to walk over a range of numbers.\n",
    "\n",
    "Unlike range(), the os.walk() function will return three values on each iteration through the loop:\n",
    "\n",
    "    1. A string of the current folder’s name\n",
    "    2. A list of strings of the folders in the current folder\n",
    "    3. A list of strings of the files in the current folder\n",
    "\n",
    "**Note**: By current folder, we mean the folder for the current iteration of the for loop. \n",
    "\n",
    "The current working directory of the program is not changed by os.walk()."
   ]
  },
  {
   "cell_type": "markdown",
   "metadata": {
    "id": "5_OuT_kOKUcf"
   },
   "source": [
    "# **Compressing Files with the zipfile Module**\n",
    "The ZIP files (with the .zip file extension), which can hold the compressed contents of many other files. \n",
    "\n",
    "Compressing a file reduces its size, which is useful when transferring it over the Internet. \n",
    "\n",
    "And since a ZIP file can also contain multiple files and subfolders, it’s a handy way to package several files into one. This single file, called an archive file, can then be, say, attached to an email.\n",
    "\n",
    "Your Python programs can both create and open (or extract) ZIP files using functions in the zipfile module. Say you have a ZIP file named example.zip that has the contents shown in Figure 9-2.\n",
    "\n",
    "You can download this ZIP file from http://nostarch.com/automatestuff/ or just follow along using a ZIP file already on your computer.\n",
    "\n",
    "![image.png](data:image/png;base64,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)"
   ]
  },
  {
   "cell_type": "markdown",
   "metadata": {
    "id": "eYzy9e8zLpS8"
   },
   "source": [
    "# **Reading ZIP Files**\n",
    "To read the contents of a ZIP file, first a ZipFile object must be created  (note the capital letters Z and F). \n",
    "\n",
    "ZipFile objects are conceptually similar to the File objects which can be accessed by the open() function in the previous chapter: They are values through which the program interacts with the file.\n",
    "\n",
    "To create a ZipFile object, call the zipfile.ZipFile() function, passing it a\n",
    "string of the .zip file’s filename. \n",
    "\n",
    "Note that zipfile is the name of the Python module, and ZipFile() is the name of the function.\n",
    "\n",
    "For example, enter the following into the interactive shell:"
   ]
  },
  {
   "cell_type": "code",
   "execution_count": null,
   "metadata": {
    "id": "znk0Zrb4MiNQ"
   },
   "outputs": [],
   "source": [
    "import zipfile, os\n",
    "os.chdir('C:\\\\') # move to the folder with example.zip\n",
    "exampleZip = zipfile.ZipFile('example.zip')\n",
    "exampleZip.namelist()\n",
    "\n",
    "spamInfo = exampleZip.getinfo('spam.txt')\n",
    "spamInfo.file_size\n",
    "\n",
    "spamInfo.compress_size\n",
    "\n",
    "'Compressed file is %sx smaller!' % (round(spamInfo.file_size / spamInfo.compress_size, 2)) #1\n",
    "\n",
    "exampleZip.close()"
   ]
  },
  {
   "cell_type": "markdown",
   "metadata": {
    "id": "uSBBtDD5bgXx"
   },
   "source": [
    "**Explanation**: A ZipFile object has a **namelist()** method that returns a list of strings for all the files and folders contained in the ZIP file. \n",
    "\n",
    "These strings can be passed to the **getinfo()** ZipFile method to return a ZipInfo object about that particular file. \n",
    "\n",
    "ZipInfo objects have their own attributes, such as file_size and compress_size in bytes, which hold integers of the original file size and compressed file size, respectively. \n",
    "\n",
    "While a ZipFile object represents an entire archive file, a ZipInfo object holds useful information about a single file in the archive.\n",
    "\n",
    "The command at **#1** calculates how efficiently example.zip is compressed by dividing the original file size by the compressed file size and prints this\n",
    "information using a string formatted with **%s**."
   ]
  },
  {
   "cell_type": "markdown",
   "metadata": {
    "id": "wNTpPZhIceXn"
   },
   "source": [
    "# **Extracting from ZIP Files**\n",
    "The **extractall()** method for ZipFile objects extracts all the files and folders from a ZIP file into the current working directory."
   ]
  },
  {
   "cell_type": "code",
   "execution_count": null,
   "metadata": {
    "id": "YD90JfWekOGG"
   },
   "outputs": [],
   "source": [
    "import zipfile, os\n",
    "os.chdir('C:\\\\') # move to the folder with example.zip\n",
    "exampleZip = zipfile.ZipFile('example.zip')\n",
    "exampleZip.extractall() #1\n",
    "exampleZip.close()"
   ]
  },
  {
   "cell_type": "markdown",
   "metadata": {
    "id": "g_31jDJgmSNV"
   },
   "source": [
    "**Explanation:** \n",
    "After running this code, the contents of example.zip will be extracted\n",
    "to C:\\. \n",
    "\n",
    "Optionally, a folder name can be passed  to **extractall()** to have it extract the files into a folder other than the current working directory. \n",
    "\n",
    "If the folder passed to the **extractall()** method does not exist, it will be created.\n",
    "\n",
    "For instance, if the call at **#1** is replaced with **exampleZip.extractall('C:\\\\delicious')** , the code would extract the files from example.zip into a newly created **C:\\delicious** folder.\n",
    "\n",
    "The **extract()** method for ZipFile objects will extract a single file from\n",
    "the ZIP file. \n",
    "\n",
    "Continue the interactive shell example:"
   ]
  },
  {
   "cell_type": "code",
   "execution_count": null,
   "metadata": {
    "id": "CNr9SOIsnTO9"
   },
   "outputs": [],
   "source": [
    "exampleZip.extract('spam.txt')\n",
    "\n",
    "exampleZip.extract('spam.txt', 'C:\\\\some\\\\new\\\\folders')\n",
    "\n",
    "#'C:\\\\some\\\\new\\\\folders\\\\spam.txt'\n",
    "\n",
    "exampleZip.close()"
   ]
  },
  {
   "cell_type": "markdown",
   "metadata": {
    "id": "2qhgvvxEvgbW"
   },
   "source": [
    "# **Creating and Adding to ZIP Files**\n",
    "To create a compressed ZIP files, the ZipFile object  must be opened  in write mode by passing **'w'** as the second argument. \n",
    "\n",
    "**Note**: This is similar to opening a text file in write mode by passing 'w' to the **open()** function.\n",
    "\n",
    "When a path is passed  to the **write()** method of a ZipFile object, Python will compress the file at that path and add it into the ZIP file. \n",
    "\n",
    "The **write()** method’s first argument is a string of the filename to add. \n",
    "\n",
    "The second argument is the compression type parameter, which tells the computer what algorithm it should use to compress the files; which can always be just set this value to zipfile.ZIP_DEFLATED. \n",
    "\n",
    "\n",
    "**Note**: This specifies the deflate compression algorithm, which works well on all types of data. \n",
    "\n",
    "Enter the following into the interactive shell:"
   ]
  },
  {
   "cell_type": "code",
   "execution_count": null,
   "metadata": {
    "id": "5YG2Onj2wld2"
   },
   "outputs": [],
   "source": [
    "import zipfile\n",
    "\n",
    "newZip = zipfile.ZipFile('new.zip', 'w')\n",
    "\n",
    "newZip.write('spam.txt', compress_type=zipfile.ZIP_DEFLATED)\n",
    "\n",
    "newZip.close()"
   ]
  }
 ],
 "metadata": {
  "colab": {
   "collapsed_sections": [],
   "name": "Copy of Module3_Session8and9_Files.ipynb",
   "provenance": [
    {
     "file_id": "1spiwJXkU_sEGqjLGJkQ9DRFoeXVKnWfg",
     "timestamp": 1606374921756
    }
   ]
  },
  "kernelspec": {
   "display_name": "Python 3 (ipykernel)",
   "language": "python",
   "name": "python3"
  },
  "language_info": {
   "codemirror_mode": {
    "name": "ipython",
    "version": 3
   },
   "file_extension": ".py",
   "mimetype": "text/x-python",
   "name": "python",
   "nbconvert_exporter": "python",
   "pygments_lexer": "ipython3",
   "version": "3.9.13"
  }
 },
 "nbformat": 4,
 "nbformat_minor": 1
}

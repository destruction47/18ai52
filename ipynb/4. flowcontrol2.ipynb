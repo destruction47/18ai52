{
  "nbformat": 4,
  "nbformat_minor": 0,
  "metadata": {
    "colab": {
      "name": "Copy of flowcontrol2.ipynb",
      "provenance": []
    },
    "kernelspec": {
      "name": "python3",
      "display_name": "Python 3"
    }
  },
  "cells": [
    {
      "cell_type": "markdown",
      "metadata": {
        "id": "xqcqeJk8JQEB",
        "colab_type": "text"
      },
      "source": [
        "\n",
        "\n",
        "### *   while loop:- Syntax\n",
        "### *   Use of Break and continue statements\n",
        "### *   For loop :- syntax\n",
        "\n"
      ]
    },
    {
      "cell_type": "markdown",
      "metadata": {
        "id": "QxPiFbEGJ2z-",
        "colab_type": "text"
      },
      "source": [
        "Python has two primitive loop statements\n",
        "1. while loop\n",
        "\n",
        "while condition:\n",
        "  statement(s)\n"
      ]
    },
    {
      "cell_type": "code",
      "metadata": {
        "id": "j3BP1cfUKCVt",
        "colab_type": "code",
        "colab": {}
      },
      "source": [
        "#What is the output of this code?\n",
        "spam = 0\n",
        "if spam < 5:\n",
        "  print('Hello, world.')\n",
        "  spam = spam + 1\n",
        "print(spam)"
      ],
      "execution_count": null,
      "outputs": []
    },
    {
      "cell_type": "code",
      "metadata": {
        "id": "EZbnxoa5KTj8",
        "colab_type": "code",
        "colab": {}
      },
      "source": [
        "#What is the output of this code?\n",
        "spam = 0\n",
        "while spam < 5:\n",
        "  print('Hello, world.')\n",
        "  spam = spam + 1\n",
        "print(spam)"
      ],
      "execution_count": null,
      "outputs": []
    },
    {
      "cell_type": "code",
      "metadata": {
        "id": "lg2lnLl_JEIZ",
        "colab_type": "code",
        "colab": {}
      },
      "source": [
        "#What is the output of this code?\n",
        "i = 1\n",
        "while i < 6:\n",
        "  print(i)\n",
        "  i += 1"
      ],
      "execution_count": null,
      "outputs": []
    },
    {
      "cell_type": "code",
      "metadata": {
        "id": "Cg0itWWRNBfh",
        "colab_type": "code",
        "colab": {}
      },
      "source": [
        "#Is it not annoying???\n",
        "name = ''\n",
        "while name != 'your name':\n",
        "  print('Please type your name.')\n",
        "  name = input()\n",
        "print('Thank you!')"
      ],
      "execution_count": null,
      "outputs": []
    },
    {
      "cell_type": "code",
      "metadata": {
        "id": "zPgtb3dNOMFe",
        "colab_type": "code",
        "colab": {}
      },
      "source": [
        "#Check this code!!!!!!\n",
        "while True:\n",
        "  print('Please type your name.')\n",
        "  name = input()\n",
        "  if name == 'your name':\n",
        "    break\n",
        "print('Thank you!')"
      ],
      "execution_count": null,
      "outputs": []
    },
    {
      "cell_type": "markdown",
      "metadata": {
        "id": "yBpfN6jUOvwZ",
        "colab_type": "text"
      },
      "source": [
        "Break statement in Python is used to bring the control out of the loop when some external condition is triggered. Break statement is put inside the loop body (generally after if condition)."
      ]
    },
    {
      "cell_type": "code",
      "metadata": {
        "id": "bjIBpmeVOzsD",
        "colab_type": "code",
        "colab": {}
      },
      "source": [
        "i = 1\n",
        "while i < 6:\n",
        "  print(i)\n",
        "  if i == 4:\n",
        "    break\n",
        "  i += 1   # Exit the loop when i == 3"
      ],
      "execution_count": null,
      "outputs": []
    },
    {
      "cell_type": "markdown",
      "metadata": {
        "id": "CnNexh_vVedz",
        "colab_type": "text"
      },
      "source": [
        "accept a number and if it is not 4, then request for the next number\n"
      ]
    },
    {
      "cell_type": "code",
      "metadata": {
        "id": "BAst40ruWr5l",
        "colab_type": "code",
        "colab": {}
      },
      "source": [
        "while True:\n",
        "    n=int(input())\n",
        "    if n==2:\n",
        "        print('You have entered the right number!!!!')\n",
        "        break\n",
        "    else:\n",
        "        print(\"pls enter the right  number\")\n"
      ],
      "execution_count": null,
      "outputs": []
    },
    {
      "cell_type": "markdown",
      "metadata": {
        "id": "5VepFztcPJR2",
        "colab_type": "text"
      },
      "source": [
        "With the **continue statement** we can stop the current iteration, and continue with the next:"
      ]
    },
    {
      "cell_type": "code",
      "metadata": {
        "id": "aGBWQVCSPRlO",
        "colab_type": "code",
        "colab": {
          "base_uri": "https://localhost:8080/",
          "height": 102
        },
        "outputId": "189c6be8-759a-4736-9393-469003a53e5e"
      },
      "source": [
        "i = 0\n",
        "while i < 6:\n",
        "  i += 1\n",
        "  if i == 4:\n",
        "    continue\n",
        "  print(i)"
      ],
      "execution_count": null,
      "outputs": [
        {
          "output_type": "stream",
          "text": [
            "1\n",
            "2\n",
            "3\n",
            "5\n",
            "6\n"
          ],
          "name": "stdout"
        }
      ]
    },
    {
      "cell_type": "code",
      "metadata": {
        "id": "V7O94J8YPvu7",
        "colab_type": "code",
        "colab": {
          "base_uri": "https://localhost:8080/",
          "height": 136
        },
        "outputId": "6eecd75b-ef61-43af-ef1f-ff98ccc0460c"
      },
      "source": [
        "while True:\n",
        "  print('Who are you?')\n",
        "  name = input()\n",
        "  if name != 'Joe':\n",
        "    continue\n",
        "  print('Hello, Joe. What is the password? (It is a fish.)')\n",
        "  password = input()\n",
        "  if password == 'swordfish':\n",
        "     break\n",
        "print('Access granted.')"
      ],
      "execution_count": null,
      "outputs": [
        {
          "output_type": "stream",
          "text": [
            "Who are you?\n",
            "janardhan\n",
            "Who are you?\n",
            "Joe\n",
            "Hello, Joe. What is the password? (It is a fish.)\n",
            "swordfish\n",
            "Access granted.\n"
          ],
          "name": "stdout"
        }
      ]
    },
    {
      "cell_type": "code",
      "metadata": {
        "id": "8lYQap28p4Gi",
        "colab_type": "code",
        "colab": {}
      },
      "source": [
        "name = ''\n",
        "while not name:\n",
        "  print('Enter your name:')\n",
        "  name = input()\n",
        "print('How many guests will you have?')\n",
        "numOfGuests = int(input())\n",
        "if numOfGuests:\n",
        "  print('Be sure to have enough room for all your guests.')\n",
        "print('Done')"
      ],
      "execution_count": null,
      "outputs": []
    },
    {
      "cell_type": "markdown",
      "metadata": {
        "id": "ZOUWj9qOQvGC",
        "colab_type": "text"
      },
      "source": [
        "**range()   #function**\n",
        "\n",
        "The range() function returns a list or sequence of numbers \n",
        "\n",
        "The range() function can be represented in three different ways:\n",
        "\n",
        "  **range(stop_value):** By default considers the starting point as zero.\n",
        "\n",
        "  **range(start_value, stop_value):**generates the sequence based on the start and stop value.\n",
        "\n",
        "  **range(start_value, stop_value, step_size):**generates the sequence by incrementing the start value using the step size until it reaches the stop value."
      ]
    },
    {
      "cell_type": "code",
      "metadata": {
        "id": "w7hvUrwDQzX7",
        "colab_type": "code",
        "colab": {
          "base_uri": "https://localhost:8080/",
          "height": 35
        },
        "outputId": "b32336a8-af60-4bcb-ae50-b6a310aeb15a"
      },
      "source": [
        "range(5)"
      ],
      "execution_count": null,
      "outputs": [
        {
          "output_type": "execute_result",
          "data": {
            "text/plain": [
              "range(0, 5)"
            ]
          },
          "metadata": {
            "tags": []
          },
          "execution_count": 1
        }
      ]
    },
    {
      "cell_type": "code",
      "metadata": {
        "id": "LSySe1jGQ3yV",
        "colab_type": "code",
        "colab": {
          "base_uri": "https://localhost:8080/",
          "height": 34
        },
        "outputId": "7da76323-b97f-49ba-b946-56208784df7e"
      },
      "source": [
        "range(1,5)"
      ],
      "execution_count": null,
      "outputs": [
        {
          "output_type": "execute_result",
          "data": {
            "text/plain": [
              "range(1, 5)"
            ]
          },
          "metadata": {
            "tags": []
          },
          "execution_count": 15
        }
      ]
    },
    {
      "cell_type": "markdown",
      "metadata": {
        "id": "XYcplF5CPk2-",
        "colab_type": "text"
      },
      "source": [
        "**for loop statement**"
      ]
    },
    {
      "cell_type": "code",
      "metadata": {
        "id": "Mez_8TxaSSd7",
        "colab_type": "code",
        "colab": {}
      },
      "source": [
        "for i in range(5):\n",
        "  print(i)"
      ],
      "execution_count": null,
      "outputs": []
    },
    {
      "cell_type": "code",
      "metadata": {
        "id": "C8HU2s76Pjmu",
        "colab_type": "code",
        "colab": {}
      },
      "source": [
        "print('My name is')\n",
        "for i in range(5):\n",
        "  print('Jimmy Five Times (' + str(i) + ')')"
      ],
      "execution_count": null,
      "outputs": []
    },
    {
      "cell_type": "code",
      "metadata": {
        "id": "dSHHg_KXSiwP",
        "colab_type": "code",
        "colab": {}
      },
      "source": [
        "total = 0\n",
        "for num in range(101):\n",
        "  total = total + num\n",
        "print(total) # Find its equivalent while loop"
      ],
      "execution_count": null,
      "outputs": []
    },
    {
      "cell_type": "markdown",
      "metadata": {
        "id": "LvGJC58ivDBb",
        "colab_type": "text"
      },
      "source": [
        "#for loop\n",
        "\n",
        "Handling the number of iteration can be effectively control using for loop\n"
      ]
    },
    {
      "cell_type": "code",
      "metadata": {
        "id": "mkVXWnpzvYLM",
        "colab_type": "code",
        "colab": {
          "base_uri": "https://localhost:8080/",
          "height": 119
        },
        "outputId": "4793b3d0-c88f-4f78-86a5-1775f31ea0f1"
      },
      "source": [
        "print('My name is')\n",
        "for i in range(5):\n",
        "  print('Jimmy Five Times (' + str(i) + ')')"
      ],
      "execution_count": null,
      "outputs": [
        {
          "output_type": "stream",
          "text": [
            "My name is\n",
            "Jimmy Five Times (0)\n",
            "Jimmy Five Times (1)\n",
            "Jimmy Five Times (2)\n",
            "Jimmy Five Times (3)\n",
            "Jimmy Five Times (4)\n"
          ],
          "name": "stdout"
        }
      ]
    },
    {
      "cell_type": "markdown",
      "metadata": {
        "id": "jNHvGzMPQn87",
        "colab_type": "text"
      },
      "source": [
        "break and continue have similar behaviour as they are in while\n"
      ]
    },
    {
      "cell_type": "code",
      "metadata": {
        "id": "0wYACwj1aWdr",
        "colab_type": "code",
        "colab": {}
      },
      "source": [
        "for i in range(0,10):\n",
        "  print(i)"
      ],
      "execution_count": null,
      "outputs": []
    },
    {
      "cell_type": "code",
      "metadata": {
        "id": "JhfhltsNQ-yt",
        "colab_type": "code",
        "colab": {}
      },
      "source": [
        "for i in range(0, 10, 2):\n",
        "  print(i)"
      ],
      "execution_count": null,
      "outputs": []
    },
    {
      "cell_type": "code",
      "metadata": {
        "id": "PjIai2vzRDCY",
        "colab_type": "code",
        "colab": {}
      },
      "source": [
        "for i in range(5, -1, -1):\n",
        "  print(i)"
      ],
      "execution_count": null,
      "outputs": []
    },
    {
      "cell_type": "markdown",
      "metadata": {
        "id": "hgREPzCQRZl-",
        "colab_type": "text"
      },
      "source": [
        "Importing Random number related functions"
      ]
    },
    {
      "cell_type": "code",
      "metadata": {
        "id": "TSe7uEFeRiOb",
        "colab_type": "code",
        "colab": {}
      },
      "source": [
        "import random\n",
        "for i in range(5):\n",
        "  print(random.randint(1,10))"
      ],
      "execution_count": null,
      "outputs": []
    },
    {
      "cell_type": "markdown",
      "metadata": {
        "id": "nwQYx6jRSuJD",
        "colab_type": "text"
      },
      "source": [
        "#Ending a Program Early with sys.exit()\n",
        "\n",
        "For terminating the program, exit() function can be called with module sys"
      ]
    },
    {
      "cell_type": "code",
      "metadata": {
        "id": "wJOIQtJmTDGx",
        "colab_type": "code",
        "colab": {}
      },
      "source": [
        "import sys\n",
        "while True:\n",
        "  print('Type exit to exit.')\n",
        "  response = input()\n",
        "  if response == 'exit':\n",
        "    sys.exit()\n",
        "  print('You typed ' + response + '.')"
      ],
      "execution_count": null,
      "outputs": []
    },
    {
      "cell_type": "markdown",
      "metadata": {
        "id": "PZsARe46Tv_2",
        "colab_type": "text"
      },
      "source": [
        "#Activity\n",
        "\n",
        "1) What is the difference between range(10), range(0, 10), and range(0, 10, 1) in a for loop?\n",
        "\n",
        "2) Write a short program that prints the numbers 1 to 10 using a for loop. Then write an equivalent program that prints the numbers 1 to 10 using a while loop.\n",
        "\n",
        "3) For loop with else block"
      ]
    },
    {
      "cell_type": "code",
      "metadata": {
        "id": "pnbs-b0Acq_j",
        "colab_type": "code",
        "colab": {
          "base_uri": "https://localhost:8080/",
          "height": 187
        },
        "outputId": "2e485841-2b51-4b0c-9bd7-360e51d7708a"
      },
      "source": [
        "i=1\n",
        "while(i<=10):\n",
        "    print(i)\n",
        "    i += 1\n",
        "\n"
      ],
      "execution_count": null,
      "outputs": [
        {
          "output_type": "stream",
          "text": [
            "1\n",
            "2\n",
            "3\n",
            "4\n",
            "5\n",
            "6\n",
            "7\n",
            "8\n",
            "9\n",
            "10\n"
          ],
          "name": "stdout"
        }
      ]
    },
    {
      "cell_type": "code",
      "metadata": {
        "id": "zmo2_hu-VMMX",
        "colab_type": "code",
        "colab": {}
      },
      "source": [
        "for val in range(5):\n",
        "\tprint(val)\n",
        "else:\n",
        "\tprint(\"The loop has completed execution\")"
      ],
      "execution_count": null,
      "outputs": []
    },
    {
      "cell_type": "markdown",
      "metadata": {
        "id": "lOKF51AmWtYR",
        "colab_type": "text"
      },
      "source": [
        "Nested For loop in Python"
      ]
    },
    {
      "cell_type": "code",
      "metadata": {
        "id": "2vSHStWgdhuz",
        "colab_type": "code",
        "colab": {
          "base_uri": "https://localhost:8080/",
          "height": 221
        },
        "outputId": "7f955ed0-5f4c-4195-e67c-e197d99d0090"
      },
      "source": [
        "for i in range(3):\n",
        "  for j in range(3):\n",
        "    print(str(i)+ ' ' +str(j))\n",
        "  print(\"hello\")"
      ],
      "execution_count": null,
      "outputs": [
        {
          "output_type": "stream",
          "text": [
            "0 0\n",
            "0 1\n",
            "0 2\n",
            "hello\n",
            "1 0\n",
            "1 1\n",
            "1 2\n",
            "hello\n",
            "2 0\n",
            "2 1\n",
            "2 2\n",
            "hello\n"
          ],
          "name": "stdout"
        }
      ]
    }
  ]
}
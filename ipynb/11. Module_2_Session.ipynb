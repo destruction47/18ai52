{
  "nbformat": 4,
  "nbformat_minor": 0,
  "metadata": {
    "colab": {
      "name": "Module 2: Session 14.ipynb",
      "provenance": []
    },
    "kernelspec": {
      "name": "python3",
      "display_name": "Python 3"
    }
  },
  "cells": [
    {
      "cell_type": "markdown",
      "metadata": {
        "id": "s_tFpQ50G0wL",
        "colab_type": "text"
      },
      "source": [
        "#**Using Data Structures to Model Real-World Things**\n",
        "\n",
        "##A Tic-Tac-Toe Board\n",
        "\n",
        "![image.png](data:image/png;base64,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)\n",
        "\n",
        "Each Cell can have either 'X', 'O', ' '\n",
        "\n",
        "The appropriate data structure is Dictionary"
      ]
    },
    {
      "cell_type": "code",
      "metadata": {
        "id": "PeJ0Q5DzGvMG",
        "colab_type": "code",
        "colab": {}
      },
      "source": [
        "theBoard = {'top-L': ' ', 'top-M': ' ', 'top-R': ' ',\n",
        "            'mid-L': ' ', 'mid-M': ' ', 'mid-R': ' ',\n",
        "            'low-L': ' ', 'low-M': ' ', 'low-R': ' '}"
      ],
      "execution_count": null,
      "outputs": []
    },
    {
      "cell_type": "markdown",
      "metadata": {
        "id": "tFwzZ_kjRM9A",
        "colab_type": "text"
      },
      "source": [
        "Empty board\n",
        "\n",
        "![image.png](data:image/png;base64,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)\n",
        "\n"
      ]
    },
    {
      "cell_type": "code",
      "metadata": {
        "id": "1QJgzlqZRW6x",
        "colab_type": "code",
        "colab": {}
      },
      "source": [
        "theBoard = {'top-L': ' ', 'top-M': ' ', 'top-R': ' ',\n",
        "            'mid-L': ' ', 'mid-M': 'X', 'mid-R': ' ',\n",
        "            'low-L': ' ', 'low-M': ' ', 'low-R': ' '}"
      ],
      "execution_count": null,
      "outputs": []
    },
    {
      "cell_type": "markdown",
      "metadata": {
        "id": "GsrS2m2QRcdv",
        "colab_type": "text"
      },
      "source": [
        "First move\n",
        "\n",
        "![image.png](data:image/png;base64,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)\n"
      ]
    },
    {
      "cell_type": "markdown",
      "metadata": {
        "id": "7i3UGGxwRtVQ",
        "colab_type": "text"
      },
      "source": [
        "A board where player O has won by placing Os across the top might look like this:"
      ]
    },
    {
      "cell_type": "code",
      "metadata": {
        "id": "78ipeNg4RlnK",
        "colab_type": "code",
        "colab": {}
      },
      "source": [
        "theBoard = {'top-L': 'O', 'top-M': 'O', 'top-R': 'O',\n",
        "            'mid-L': 'X', 'mid-M': 'X', 'mid-R': ' ',\n",
        "            'low-L': ' ', 'low-M': ' ', 'low-R': 'X'}"
      ],
      "execution_count": null,
      "outputs": []
    },
    {
      "cell_type": "markdown",
      "metadata": {
        "id": "i7BwIFygR06Z",
        "colab_type": "text"
      },
      "source": [
        "![image.png](data:image/png;base64,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)\n",
        "\n",
        "Let’s create a function to print the board dictionary onto the screen."
      ]
    },
    {
      "cell_type": "code",
      "metadata": {
        "id": "vnwrQ1asSH_M",
        "colab_type": "code",
        "colab": {
          "base_uri": "https://localhost:8080/",
          "height": 102
        },
        "outputId": "252d7235-2988-44c0-ad2b-dadaa965b76c"
      },
      "source": [
        "def printBoard(board):\n",
        "  print(board['top-L'] + '|' + board['top-M'] + '|' + board['top-R'])\n",
        "  print('-+-+-')\n",
        "  print(board['mid-L'] + '|' + board['mid-M'] + '|' + board['mid-R'])\n",
        "  print('-+-+-')\n",
        "  print(board['low-L'] + '|' + board['low-M'] + '|' + board['low-R'])\n",
        "\n",
        "printBoard(theBoard)"
      ],
      "execution_count": null,
      "outputs": [
        {
          "output_type": "stream",
          "text": [
            " | | \n",
            "-+-+-\n",
            " | | \n",
            "-+-+-\n",
            " | | \n"
          ],
          "name": "stdout"
        }
      ]
    },
    {
      "cell_type": "code",
      "metadata": {
        "id": "099q8QzHScyz",
        "colab_type": "code",
        "colab": {
          "base_uri": "https://localhost:8080/",
          "height": 102
        },
        "outputId": "9a1f4846-3800-42ef-9be6-7e97721c6521"
      },
      "source": [
        "theBoard = {'top-L': 'O', 'top-M': 'O', 'top-R': 'O', 'mid-L': 'X', 'mid-M':\n",
        "'X', 'mid-R': ' ', 'low-L': ' ', 'low-M': ' ', 'low-R': 'X'}\n",
        "printBoard(theBoard)"
      ],
      "execution_count": null,
      "outputs": [
        {
          "output_type": "stream",
          "text": [
            "O|O|O\n",
            "-+-+-\n",
            "X|X| \n",
            "-+-+-\n",
            " | |X\n"
          ],
          "name": "stdout"
        }
      ]
    },
    {
      "cell_type": "code",
      "metadata": {
        "id": "PBc6XZbDUJ37",
        "colab_type": "code",
        "colab": {}
      },
      "source": [
        "theBoard = {'top-L': ' ', 'top-M': ' ', 'top-R': ' ',\n",
        "            'mid-L': ' ', 'mid-M': ' ', 'mid-R': ' ',\n",
        "            'low-L': ' ', 'low-M': ' ', 'low-R': ' '}\n",
        "turn='X'\n",
        "for i in range(9):\n",
        "  printBoard(theBoard)\n",
        "  print('Turn for ' + turn + '. Move on which space?')\n",
        "  move = input()\n",
        "  theBoard[move] = turn\n",
        "  if turn == 'X':\n",
        "    turn = 'O'\n",
        "  else:\n",
        "    turn = 'X'\n",
        "printBoard(theBoard)  "
      ],
      "execution_count": null,
      "outputs": []
    }
  ]
}
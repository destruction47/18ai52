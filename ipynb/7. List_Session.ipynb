{
  "nbformat": 4,
  "nbformat_minor": 0,
  "metadata": {
    "colab": {
      "name": "List_Session_10.ipynb",
      "provenance": [],
      "collapsed_sections": []
    },
    "kernelspec": {
      "name": "python3",
      "display_name": "Python 3"
    }
  },
  "cells": [
    {
      "cell_type": "markdown",
      "metadata": {
        "id": "m3GOiSeR_xTQ",
        "colab_type": "text"
      },
      "source": [
        "#List\n",
        "Lists and tuples can contain multiple values, which makes it easier to write programs that handle large amounts of data. we can use them to arrange data into hierarchical structures\n",
        "\n",
        "List is a value that contains multiple values in an ordered sequence\n",
        "\n",
        "Example: ['cat', 'bat', 'rat', 'elephant']\n",
        "\n",
        "A list begins with an opening square bracket and\n",
        "ends with a closing square bracket, [ ]\n",
        "\n",
        "Values inside the list are also called items, separated with commas"
      ]
    },
    {
      "cell_type": "code",
      "metadata": {
        "id": "Zu2zJ37aRhLw",
        "colab_type": "code",
        "colab": {}
      },
      "source": [
        "[1, 2, 3]"
      ],
      "execution_count": null,
      "outputs": []
    },
    {
      "cell_type": "code",
      "metadata": {
        "id": "Ss97JjGsR08r",
        "colab_type": "code",
        "colab": {}
      },
      "source": [
        "['cat', 'bat', 'rat', 'elephant']"
      ],
      "execution_count": null,
      "outputs": []
    },
    {
      "cell_type": "code",
      "metadata": {
        "id": "O5HPLNLOSe6n",
        "colab_type": "code",
        "colab": {}
      },
      "source": [
        "['hello', 3.1415, True, None, 42]"
      ],
      "execution_count": null,
      "outputs": []
    },
    {
      "cell_type": "code",
      "metadata": {
        "id": "KAVjKfBbSe5j",
        "colab_type": "code",
        "colab": {}
      },
      "source": [
        "spam = ['cat', 'bat', 'rat', 'elephant']"
      ],
      "execution_count": null,
      "outputs": []
    },
    {
      "cell_type": "code",
      "metadata": {
        "id": "m12RDRiLC58J",
        "colab_type": "code",
        "colab": {}
      },
      "source": [
        "spam"
      ],
      "execution_count": null,
      "outputs": []
    },
    {
      "cell_type": "markdown",
      "metadata": {
        "id": "1i0VuN9UDkJy",
        "colab_type": "text"
      },
      "source": [
        "#Getting Individual Values in a List with Indexes\n",
        "![image.png](data:image/png;base64,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)"
      ]
    },
    {
      "cell_type": "code",
      "metadata": {
        "id": "J3JDLTvYCxuH",
        "colab_type": "code",
        "colab": {}
      },
      "source": [
        "spam = ['cat', 'bat', 'rat', 'elephant']\n",
        "#spam[0]\n",
        "#spam[3]\n",
        "spam[1]"
      ],
      "execution_count": null,
      "outputs": []
    },
    {
      "cell_type": "code",
      "metadata": {
        "id": "DFHBptxRETv-",
        "colab_type": "code",
        "colab": {}
      },
      "source": [
        "spam[1000]\n"
      ],
      "execution_count": null,
      "outputs": []
    },
    {
      "cell_type": "markdown",
      "metadata": {
        "id": "pY3ZgYUBHaU8",
        "colab_type": "text"
      },
      "source": [
        "Lists can also contain other list values. The values in these lists of lists\n",
        "can be accessed using multiple indexes"
      ]
    },
    {
      "cell_type": "code",
      "metadata": {
        "id": "7BB84mAOHdIJ",
        "colab_type": "code",
        "colab": {}
      },
      "source": [
        "spam = [['cat', 'bat'], [10, 20, 30, 40, 50]]\n",
        "spam[0]"
      ],
      "execution_count": null,
      "outputs": []
    },
    {
      "cell_type": "code",
      "metadata": {
        "id": "vwVmDW5HHvd7",
        "colab_type": "code",
        "colab": {}
      },
      "source": [
        "spam[0][1]"
      ],
      "execution_count": null,
      "outputs": []
    },
    {
      "cell_type": "code",
      "metadata": {
        "id": "6GZsvwvjH1K0",
        "colab_type": "code",
        "colab": {}
      },
      "source": [
        "spam[1][4]"
      ],
      "execution_count": null,
      "outputs": []
    },
    {
      "cell_type": "markdown",
      "metadata": {
        "id": "LnzmOjkPIFDl",
        "colab_type": "text"
      },
      "source": [
        "#Negative Indexes\n",
        "The integer value -1 refers to the last index in a list, the value -2\n",
        "refers to the second-to-last index in a list, and so on."
      ]
    },
    {
      "cell_type": "code",
      "metadata": {
        "id": "e46s29tlINg5",
        "colab_type": "code",
        "colab": {
          "base_uri": "https://localhost:8080/",
          "height": 35
        },
        "outputId": "3f8a4c6e-8f55-4222-f3c2-9cae00762ef6"
      },
      "source": [
        "spam = ['cat', 'bat', 'rat', 'elephant']\n",
        "spam[-1]"
      ],
      "execution_count": null,
      "outputs": [
        {
          "output_type": "execute_result",
          "data": {
            "application/vnd.google.colaboratory.intrinsic+json": {
              "type": "string"
            },
            "text/plain": [
              "'elephant'"
            ]
          },
          "metadata": {
            "tags": []
          },
          "execution_count": 8
        }
      ]
    },
    {
      "cell_type": "code",
      "metadata": {
        "id": "C5DU1GcnIStS",
        "colab_type": "code",
        "colab": {}
      },
      "source": [
        "spam[-3]"
      ],
      "execution_count": null,
      "outputs": []
    },
    {
      "cell_type": "code",
      "metadata": {
        "id": "SMKDr136IasQ",
        "colab_type": "code",
        "colab": {}
      },
      "source": [
        "'The ' + spam[-1] + ' is afraid of the ' + spam[-3] + '.'"
      ],
      "execution_count": null,
      "outputs": []
    },
    {
      "cell_type": "markdown",
      "metadata": {
        "id": "FFHDgSH6LNLK",
        "colab_type": "text"
      },
      "source": [
        "#Getting Sublists with Slices\n",
        "A slice can get several values from a list, in the form of a new list\n",
        "A slice is typed between square brackets, like an index, but it has two integers separated by a colon\n"
      ]
    },
    {
      "cell_type": "code",
      "metadata": {
        "id": "f5HJP7bEY-ZY",
        "colab_type": "code",
        "colab": {}
      },
      "source": [
        "spam[1:4]"
      ],
      "execution_count": null,
      "outputs": []
    },
    {
      "cell_type": "markdown",
      "metadata": {
        "id": "1t9ouNy2ZT63",
        "colab_type": "text"
      },
      "source": [
        "In a slice, the first integer is the index where the slice starts. The second\n",
        "integer is the index where the slice ends. A slice goes up to, but will not\n",
        "include, the value at the second index."
      ]
    },
    {
      "cell_type": "code",
      "metadata": {
        "id": "jts0zmy4ZjOx",
        "colab_type": "code",
        "colab": {}
      },
      "source": [
        "spam = ['cat', 'bat', 'rat', 'elephant']\n",
        "spam[1:3]"
      ],
      "execution_count": null,
      "outputs": []
    },
    {
      "cell_type": "code",
      "metadata": {
        "id": "VkCnmNp4Zt9x",
        "colab_type": "code",
        "colab": {}
      },
      "source": [
        "spam[0:-1]"
      ],
      "execution_count": null,
      "outputs": []
    },
    {
      "cell_type": "markdown",
      "metadata": {
        "id": "0Uk9n2gaaAvO",
        "colab_type": "text"
      },
      "source": [
        "#Skipping one end\n",
        "Missing starting index  implies its from the begining of the list\n",
        "\n",
        "Missing end index implies till the end of the list"
      ]
    },
    {
      "cell_type": "code",
      "metadata": {
        "id": "IDHX6ONKZ8gc",
        "colab_type": "code",
        "colab": {}
      },
      "source": [
        "spam[:2]"
      ],
      "execution_count": null,
      "outputs": []
    },
    {
      "cell_type": "code",
      "metadata": {
        "id": "sPxgCwPFZ906",
        "colab_type": "code",
        "colab": {}
      },
      "source": [
        "spam[1:]"
      ],
      "execution_count": null,
      "outputs": []
    },
    {
      "cell_type": "code",
      "metadata": {
        "id": "M_zyR_qiay62",
        "colab_type": "code",
        "colab": {}
      },
      "source": [
        "spam[:]"
      ],
      "execution_count": null,
      "outputs": []
    },
    {
      "cell_type": "markdown",
      "metadata": {
        "id": "2-1nV2jma4OA",
        "colab_type": "text"
      },
      "source": [
        "#Getting a List’s Length with len()"
      ]
    },
    {
      "cell_type": "code",
      "metadata": {
        "id": "fICvvBBQa6qH",
        "colab_type": "code",
        "colab": {}
      },
      "source": [
        "len(spam)"
      ],
      "execution_count": null,
      "outputs": []
    },
    {
      "cell_type": "markdown",
      "metadata": {
        "id": "8nENapYTbBnV",
        "colab_type": "text"
      },
      "source": [
        "#Changing Values in a List with Indexes"
      ]
    },
    {
      "cell_type": "code",
      "metadata": {
        "id": "bz-0XYqEcwMB",
        "colab_type": "code",
        "colab": {}
      },
      "source": [
        "spam[1] = 'aardvark'\n",
        "spam"
      ],
      "execution_count": null,
      "outputs": []
    },
    {
      "cell_type": "code",
      "metadata": {
        "id": "LJvP0JtXc3r8",
        "colab_type": "code",
        "colab": {}
      },
      "source": [
        "spam[2] = spam[1]\n",
        "spam"
      ],
      "execution_count": null,
      "outputs": []
    },
    {
      "cell_type": "code",
      "metadata": {
        "id": "QHwtE3I-c86f",
        "colab_type": "code",
        "colab": {}
      },
      "source": [
        "spam[-1] = 12345\n",
        "spam"
      ],
      "execution_count": null,
      "outputs": []
    },
    {
      "cell_type": "markdown",
      "metadata": {
        "id": "x70LvG3VdClx",
        "colab_type": "text"
      },
      "source": [
        "#List Concatenation and List Replication\n",
        "\n",
        "+operator can combine two lists to create a new list value\n",
        "\n",
        "*operator can be used with a list and an integer value to replicate the list"
      ]
    },
    {
      "cell_type": "code",
      "metadata": {
        "id": "Klj7-ZgzdaWH",
        "colab_type": "code",
        "colab": {}
      },
      "source": [
        "[1, 2, 3] + ['A', 'B', 'C']"
      ],
      "execution_count": null,
      "outputs": []
    },
    {
      "cell_type": "code",
      "metadata": {
        "id": "taYEePIFdf2p",
        "colab_type": "code",
        "colab": {}
      },
      "source": [
        "['X', 'Y', 'Z'] * 3"
      ],
      "execution_count": null,
      "outputs": []
    },
    {
      "cell_type": "code",
      "metadata": {
        "id": "K1Bt9ajqdmS5",
        "colab_type": "code",
        "colab": {}
      },
      "source": [
        "spam = [1, 2, 3]\n",
        "spam = spam + ['A', 'B', 'C']\n",
        "spam"
      ],
      "execution_count": null,
      "outputs": []
    },
    {
      "cell_type": "markdown",
      "metadata": {
        "id": "xTBTd_gEdwvx",
        "colab_type": "text"
      },
      "source": [
        "#Removing Values from Lists with del Statements\n",
        "\n",
        "del statement will delete values at an index in a list"
      ]
    },
    {
      "cell_type": "code",
      "metadata": {
        "id": "AmqRpW3Wd8ZD",
        "colab_type": "code",
        "colab": {}
      },
      "source": [
        "spam = ['cat', 'bat', 'rat', 'elephant']\n",
        "del spam[2]\n",
        "spam"
      ],
      "execution_count": null,
      "outputs": []
    },
    {
      "cell_type": "code",
      "metadata": {
        "id": "KGXLOcUVeN4B",
        "colab_type": "code",
        "colab": {}
      },
      "source": [
        "del spam[2]\n",
        "spam"
      ],
      "execution_count": null,
      "outputs": []
    },
    {
      "cell_type": "code",
      "metadata": {
        "id": "aHBhc8_RfaLu",
        "colab_type": "code",
        "colab": {}
      },
      "source": [
        "spam = ['cat', 'bat', 'rat', 'elephant']\n",
        "del spam"
      ],
      "execution_count": null,
      "outputs": []
    },
    {
      "cell_type": "markdown",
      "metadata": {
        "id": "9XnmkPfZgIe6",
        "colab_type": "text"
      },
      "source": [
        "NameError error because the variable no longer exists"
      ]
    },
    {
      "cell_type": "markdown",
      "metadata": {
        "id": "wn-6sp3ygZSi",
        "colab_type": "text"
      },
      "source": [
        "#Working with Lists\n",
        "Write a python program to accepts name of the cat\n"
      ]
    },
    {
      "cell_type": "code",
      "metadata": {
        "id": "tQWggtARhRsc",
        "colab_type": "code",
        "colab": {
          "base_uri": "https://localhost:8080/",
          "height": 121
        },
        "outputId": "1e1b8ec1-5d16-4ef8-e0fe-9cc58e128eb7"
      },
      "source": [
        "catNames = []\n",
        "while True:\n",
        "  print('Enter the name of cat ' + str(len(catNames) + 1) + ' (Or enter nothing to stop.):')\n",
        "  name = input()\n",
        "  if name == '':\n",
        "    break\n",
        "  catNames = catNames + [name] # list concatenation\n",
        "  print('The cat names are:')\n",
        "  for name in catNames:\n",
        "    print(' ' + name)"
      ],
      "execution_count": null,
      "outputs": [
        {
          "output_type": "stream",
          "text": [
            "Enter the name of cat 1 (Or enter nothing to stop.):\n",
            "3\n",
            "The cat names are:\n",
            " 3\n",
            "Enter the name of cat 2 (Or enter nothing to stop.):\n"
          ],
          "name": "stdout"
        }
      ]
    },
    {
      "cell_type": "markdown",
      "metadata": {
        "id": "KHAIJ02XiKXz",
        "colab_type": "text"
      },
      "source": [
        "#Using for Loops with Lists"
      ]
    },
    {
      "cell_type": "code",
      "metadata": {
        "id": "nHMOmXTwidPZ",
        "colab_type": "code",
        "colab": {}
      },
      "source": [
        "for i in [0, 1, 2, 3]:\n",
        "  print(i)"
      ],
      "execution_count": null,
      "outputs": []
    },
    {
      "cell_type": "markdown",
      "metadata": {
        "id": "-fVJdgrhjYF_",
        "colab_type": "text"
      },
      "source": [
        "use of range method"
      ]
    },
    {
      "cell_type": "code",
      "metadata": {
        "id": "Up1CfKnIja7L",
        "colab_type": "code",
        "colab": {}
      },
      "source": [
        "supplies = ['pens', 'staplers', 'flame-throwers', 'binders']\n",
        "for i in range(len(supplies)):\n",
        "  print('Index ' + str(i) + ' in supplies is: ' + supplies[i])"
      ],
      "execution_count": null,
      "outputs": []
    },
    {
      "cell_type": "markdown",
      "metadata": {
        "id": "O_Fiyh7HkjVl",
        "colab_type": "text"
      },
      "source": [
        "#The in and not in Operators\n",
        "in and not in are used in expressions and\n",
        "connect two values: return boolean value of true/false"
      ]
    },
    {
      "cell_type": "code",
      "metadata": {
        "id": "WGACBieck0AC",
        "colab_type": "code",
        "colab": {}
      },
      "source": [
        "'howdy' in ['hello', 'hi', 'howdy', 'heyas']"
      ],
      "execution_count": null,
      "outputs": []
    },
    {
      "cell_type": "code",
      "metadata": {
        "id": "rNokZUqjk5qh",
        "colab_type": "code",
        "colab": {}
      },
      "source": [
        "spam = ['hello', 'hi', 'howdy', 'heyas']\n",
        "'cat' in spam"
      ],
      "execution_count": null,
      "outputs": []
    },
    {
      "cell_type": "code",
      "metadata": {
        "id": "uJDOo5s_lAKe",
        "colab_type": "code",
        "colab": {}
      },
      "source": [
        "'howdy' not in spam"
      ],
      "execution_count": null,
      "outputs": []
    },
    {
      "cell_type": "code",
      "metadata": {
        "id": "VTV6hhqWlC0G",
        "colab_type": "code",
        "colab": {}
      },
      "source": [
        "'cat' not in spam"
      ],
      "execution_count": null,
      "outputs": []
    },
    {
      "cell_type": "markdown",
      "metadata": {
        "id": "h2Kpvj8SlTPR",
        "colab_type": "text"
      },
      "source": [
        "Example:"
      ]
    },
    {
      "cell_type": "code",
      "metadata": {
        "id": "PX6Omrg4lWS3",
        "colab_type": "code",
        "colab": {}
      },
      "source": [
        "myPets = ['Zophie', 'Pooka', 'Fat-tail']\n",
        "print('Enter a pet name:')\n",
        "name = input()\n",
        "if name not in myPets:\n",
        "  print('I do not have a pet named ' + name)\n",
        "else:\n",
        "  print(name + ' is my pet.')"
      ],
      "execution_count": null,
      "outputs": []
    },
    {
      "cell_type": "markdown",
      "metadata": {
        "id": "k6h3b-vJmGcS",
        "colab_type": "text"
      },
      "source": [
        "#The Multiple Assignment Trick"
      ]
    },
    {
      "cell_type": "code",
      "metadata": {
        "id": "uvmzVTZOmJnF",
        "colab_type": "code",
        "colab": {}
      },
      "source": [
        "cat = ['fat', 'black', 'loud']\n",
        "size = cat[0]\n",
        "color = cat[1]\n",
        "disposition = cat[2]"
      ],
      "execution_count": null,
      "outputs": []
    },
    {
      "cell_type": "markdown",
      "metadata": {
        "id": "kHYgwaiCmPwy",
        "colab_type": "text"
      },
      "source": [
        "the above code can be modified as"
      ]
    },
    {
      "cell_type": "code",
      "metadata": {
        "id": "431EorIRmPAx",
        "colab_type": "code",
        "colab": {}
      },
      "source": [
        "cat = ['fat', 'black', 'loud']\n",
        "size, color, disposition = cat\n",
        "size\n",
        "color\n",
        "disposition"
      ],
      "execution_count": null,
      "outputs": []
    },
    {
      "cell_type": "markdown",
      "metadata": {
        "id": "LFEUoi-vm1VP",
        "colab_type": "text"
      },
      "source": [
        "#Augmented Assignment Operators\n",
        "Augmented assignment operation enable short hand operator concepts of C/C++\n",
        "\n",
        "Augmented assignment supports +, -, *, /, and %\n",
        "\n",
        "![image.png](data:image/png;base64,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)"
      ]
    },
    {
      "cell_type": "code",
      "metadata": {
        "id": "ntT2HERPnoyG",
        "colab_type": "code",
        "colab": {}
      },
      "source": [
        "spam = 42\n",
        "spam += 1\n",
        "spam"
      ],
      "execution_count": null,
      "outputs": []
    },
    {
      "cell_type": "markdown",
      "metadata": {
        "id": "hLxpdil4n0oh",
        "colab_type": "text"
      },
      "source": [
        "The += operator can do string and list concatenation\n",
        "\n",
        "The *= operator can do string and list replication."
      ]
    },
    {
      "cell_type": "code",
      "metadata": {
        "id": "wGXu-P_rn-_9",
        "colab_type": "code",
        "colab": {}
      },
      "source": [
        "spam = 'Hello'\n",
        "spam += ' world!'\n",
        "spam"
      ],
      "execution_count": null,
      "outputs": []
    },
    {
      "cell_type": "code",
      "metadata": {
        "id": "Qp3quSlQoG9V",
        "colab_type": "code",
        "colab": {}
      },
      "source": [
        "spam = 'Hello'\n",
        "spam *= 3\n",
        "spam"
      ],
      "execution_count": null,
      "outputs": []
    },
    {
      "cell_type": "code",
      "metadata": {
        "id": "_pKx1vjOor2n",
        "colab_type": "code",
        "colab": {}
      },
      "source": [
        "bacon = ['Zophie']\n",
        "bacon *= 3\n",
        "bacon"
      ],
      "execution_count": null,
      "outputs": []
    }
  ]
}
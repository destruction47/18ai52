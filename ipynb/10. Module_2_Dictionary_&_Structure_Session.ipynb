{
  "nbformat": 4,
  "nbformat_minor": 0,
  "metadata": {
    "colab": {
      "name": "Module 2: Dictionary & Structure: Session 13.ipynb",
      "provenance": []
    },
    "kernelspec": {
      "name": "python3",
      "display_name": "Python 3"
    }
  },
  "cells": [
    {
      "cell_type": "markdown",
      "metadata": {
        "id": "G1mbcght-gAW",
        "colab_type": "text"
      },
      "source": [
        "##Chapter 5\n",
        "#**Dictionaries and Structuring Data**\n",
        "\n",
        "##**The Dictionary Data Type**\n",
        "\n",
        "Like a list, a dictionary is a collection of many values. \n",
        "\n",
        "Storage in Dictionary are in the form of *Key-Value* pair.\n",
        "\n",
        "A dictionary is typed with braces {}."
      ]
    },
    {
      "cell_type": "code",
      "metadata": {
        "id": "CgcMaLG9-eDA",
        "colab_type": "code",
        "colab": {}
      },
      "source": [
        "myCat = {'size': 'fat', 'color': 'gray', 'disposition': 'loud'}\n",
        "myCat"
      ],
      "execution_count": null,
      "outputs": []
    },
    {
      "cell_type": "markdown",
      "metadata": {
        "id": "G20tTvqlAJnY",
        "colab_type": "text"
      },
      "source": [
        "In the above example, \n",
        "![image.png](data:image/png;base64,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)\n",
        "\n",
        "Key-value pair are separated by colon (:)\n",
        "\n",
        "Accessing Value can be through corresponding key"
      ]
    },
    {
      "cell_type": "code",
      "metadata": {
        "id": "-s2Jf3pMBaMa",
        "colab_type": "code",
        "colab": {}
      },
      "source": [
        "myCat['size']"
      ],
      "execution_count": null,
      "outputs": []
    },
    {
      "cell_type": "code",
      "metadata": {
        "id": "mc8x7c9nBrQR",
        "colab_type": "code",
        "colab": {}
      },
      "source": [
        "'My cat has ' + myCat['color'] + ' fur.'"
      ],
      "execution_count": null,
      "outputs": []
    },
    {
      "cell_type": "markdown",
      "metadata": {
        "id": "uLGMF2T1BULc",
        "colab_type": "text"
      },
      "source": [
        "Keys can be string as well as integer"
      ]
    },
    {
      "cell_type": "code",
      "metadata": {
        "id": "XXGYFlk4CB-K",
        "colab_type": "code",
        "colab": {}
      },
      "source": [
        "spam = {12345: 'Luggage Combination', 42: 'The Answer'}\n",
        "spam[12345]"
      ],
      "execution_count": null,
      "outputs": []
    },
    {
      "cell_type": "markdown",
      "metadata": {
        "id": "oaXSJmOxCRoX",
        "colab_type": "text"
      },
      "source": [
        "Dictionaries vs. Lists\n",
        "\n",
        "![image.png](data:image/png;base64,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)"
      ]
    },
    {
      "cell_type": "code",
      "metadata": {
        "id": "4tsJux0SFEUF",
        "colab_type": "code",
        "colab": {}
      },
      "source": [
        "spam = ['cats', 'dogs', 'moose']\n",
        "bacon = ['dogs', 'moose', 'cats']\n",
        "spam == bacon"
      ],
      "execution_count": null,
      "outputs": []
    },
    {
      "cell_type": "code",
      "metadata": {
        "id": "6Z3aJEy5FLjH",
        "colab_type": "code",
        "colab": {}
      },
      "source": [
        "eggs = {'name': 'Zophie', 'species': 'cat', 'age': '8'}\n",
        "ham = {'species': 'cat', 'age': '8', 'name': 'Zophie'}\n",
        "eggs == ham"
      ],
      "execution_count": null,
      "outputs": []
    },
    {
      "cell_type": "code",
      "metadata": {
        "id": "qTcA1vetFZ9v",
        "colab_type": "code",
        "colab": {}
      },
      "source": [
        "spam[100]"
      ],
      "execution_count": null,
      "outputs": []
    },
    {
      "cell_type": "code",
      "metadata": {
        "id": "_9o9CVEPHF2n",
        "colab_type": "code",
        "colab": {}
      },
      "source": [
        "spam = {'name': 'Zophie', 'age': 7}\n",
        "spam['color']"
      ],
      "execution_count": null,
      "outputs": []
    },
    {
      "cell_type": "code",
      "metadata": {
        "id": "iK7uRaGPHIsQ",
        "colab_type": "code",
        "colab": {}
      },
      "source": [
        "birthdays = {'Alice': 'Apr 1', 'Bob': 'Dec 12', 'Carol': 'Mar 4'}\n",
        "while True:\n",
        "  print('Enter a name: (blank to quit)')\n",
        "  name = input()\n",
        "  if name == '':\n",
        "    break\n",
        "  if name in birthdays:\n",
        "    print(birthdays[name] + ' is the birthday of ' + name)\n",
        "  else:\n",
        "    print('I do not have birthday information for ' + name)\n",
        "    print('What is their birthday?')\n",
        "    bday = input()\n",
        "    birthdays[name] = bday\n",
        "    print('Birthday database updated.')"
      ],
      "execution_count": null,
      "outputs": []
    },
    {
      "cell_type": "markdown",
      "metadata": {
        "id": "Y9sz0qaUH-Ja",
        "colab_type": "text"
      },
      "source": [
        "**The keys(), values(), and items() Methods**\n",
        "\n",
        "keys(): returns list-like(dict_keys) of keys of a dictionary\n",
        "\n",
        "values(): returns list-like(dict_values) of value of a dictionary\n",
        "\n",
        "items(): returns list-like(dict_items) of key-value pairs of a dictionary"
      ]
    },
    {
      "cell_type": "code",
      "metadata": {
        "id": "EPvzSkQYI_b6",
        "colab_type": "code",
        "colab": {}
      },
      "source": [
        "birthdays.keys()"
      ],
      "execution_count": null,
      "outputs": []
    },
    {
      "cell_type": "code",
      "metadata": {
        "id": "1K22tBDOJDN_",
        "colab_type": "code",
        "colab": {}
      },
      "source": [
        "birthdays.values()"
      ],
      "execution_count": null,
      "outputs": []
    },
    {
      "cell_type": "code",
      "metadata": {
        "id": "AqP_zvl-Is90",
        "colab_type": "code",
        "colab": {}
      },
      "source": [
        "birthdays.items()"
      ],
      "execution_count": null,
      "outputs": []
    },
    {
      "cell_type": "markdown",
      "metadata": {
        "id": "JcSHxiX0JmEW",
        "colab_type": "text"
      },
      "source": [
        "These can be used in for loops"
      ]
    },
    {
      "cell_type": "code",
      "metadata": {
        "id": "UY-GacQuJqCD",
        "colab_type": "code",
        "colab": {}
      },
      "source": [
        "spam = {'color': 'red', 'age': 42}\n",
        "for v in spam.values():\n",
        "  print(v)"
      ],
      "execution_count": null,
      "outputs": []
    },
    {
      "cell_type": "code",
      "metadata": {
        "id": "hwCmDOOpJ2lO",
        "colab_type": "code",
        "colab": {}
      },
      "source": [
        "for k in spam.keys():\n",
        "  print(k)"
      ],
      "execution_count": null,
      "outputs": []
    },
    {
      "cell_type": "code",
      "metadata": {
        "id": "IujCQV6kJ5-s",
        "colab_type": "code",
        "colab": {}
      },
      "source": [
        "for i in spam.items():\n",
        "  print(i)"
      ],
      "execution_count": null,
      "outputs": []
    },
    {
      "cell_type": "markdown",
      "metadata": {
        "id": "0SYMB2hAKM8c",
        "colab_type": "text"
      },
      "source": [
        "The return values of keys(), values(), items() can be converted into list by: "
      ]
    },
    {
      "cell_type": "code",
      "metadata": {
        "id": "jS_fp4R_KXIs",
        "colab_type": "code",
        "colab": {}
      },
      "source": [
        "list(spam.keys())"
      ],
      "execution_count": null,
      "outputs": []
    },
    {
      "cell_type": "markdown",
      "metadata": {
        "id": "JrpfKUwZKyeF",
        "colab_type": "text"
      },
      "source": [
        "We can also use the multiple assignment trick in a for loop to assign the key and value to separate variables:"
      ]
    },
    {
      "cell_type": "code",
      "metadata": {
        "id": "tPsglVqfK3MT",
        "colab_type": "code",
        "colab": {}
      },
      "source": [
        "spam = {'color': 'red', 'age': 42}\n",
        "for k, v in spam.items():\n",
        "  print('Key: ' + k + ' Value: ' + str(v))"
      ],
      "execution_count": null,
      "outputs": []
    },
    {
      "cell_type": "markdown",
      "metadata": {
        "id": "-O8NDsGfLdFg",
        "colab_type": "text"
      },
      "source": [
        "**Checking Whether a Key or Value Exists in a Dictionary**\n",
        "\n",
        "Use of in and not in operators can be used with dictionary"
      ]
    },
    {
      "cell_type": "code",
      "metadata": {
        "id": "RY6kJoeqLpAq",
        "colab_type": "code",
        "colab": {}
      },
      "source": [
        "spam = {'name': 'Zophie', 'age': 7}\n",
        "'name' in spam.keys()"
      ],
      "execution_count": null,
      "outputs": []
    },
    {
      "cell_type": "code",
      "metadata": {
        "id": "0duY5ivJLtIv",
        "colab_type": "code",
        "colab": {}
      },
      "source": [
        "'Zophie' in spam.values()"
      ],
      "execution_count": null,
      "outputs": []
    },
    {
      "cell_type": "code",
      "metadata": {
        "id": "dTHwjDeBL7lp",
        "colab_type": "code",
        "colab": {}
      },
      "source": [
        "'color' not in spam.keys()"
      ],
      "execution_count": null,
      "outputs": []
    },
    {
      "cell_type": "code",
      "metadata": {
        "id": "RyqrM62JMG-x",
        "colab_type": "code",
        "colab": {}
      },
      "source": [
        "'color' in spam"
      ],
      "execution_count": null,
      "outputs": []
    },
    {
      "cell_type": "markdown",
      "metadata": {
        "id": "SU8CdS48MQ-i",
        "colab_type": "text"
      },
      "source": [
        "The above example is shown as short form of searching a key in dictionary"
      ]
    },
    {
      "cell_type": "code",
      "metadata": {
        "id": "h3ItUOOsMiGC",
        "colab_type": "code",
        "colab": {}
      },
      "source": [
        "'name' in spam"
      ],
      "execution_count": null,
      "outputs": []
    },
    {
      "cell_type": "markdown",
      "metadata": {
        "id": "PUt42G7eM3WD",
        "colab_type": "text"
      },
      "source": [
        "##The **get()** Method\n",
        "\n",
        "It return a value associated with the given key, else it return the 2nd parameter"
      ]
    },
    {
      "cell_type": "code",
      "metadata": {
        "id": "sqW_qdqhNbAQ",
        "colab_type": "code",
        "colab": {}
      },
      "source": [
        "picnicItems = {'apples': 5, 'cups': 2}\n",
        "'I am bringing ' + str(picnicItems.get('cups', 0)) + ' cups.'"
      ],
      "execution_count": null,
      "outputs": []
    },
    {
      "cell_type": "code",
      "metadata": {
        "id": "BpdimrncNjrY",
        "colab_type": "code",
        "colab": {}
      },
      "source": [
        "'I am bringing ' + str(picnicItems.get('eggs', 0)) + ' eggs.'"
      ],
      "execution_count": null,
      "outputs": []
    },
    {
      "cell_type": "markdown",
      "metadata": {
        "id": "rqVH7-vVN33X",
        "colab_type": "text"
      },
      "source": [
        "Without using get(), the code would have caused an error message if the key is not found in the dictionary\n",
        "\n",
        "Example:"
      ]
    },
    {
      "cell_type": "code",
      "metadata": {
        "id": "H38qYgr-N_A-",
        "colab_type": "code",
        "colab": {}
      },
      "source": [
        "picnicItems = {'apples': 5, 'cups': 2}\n",
        "'I am bringing ' + str(picnicItems['eggs']) + ' eggs.'"
      ],
      "execution_count": null,
      "outputs": []
    },
    {
      "cell_type": "markdown",
      "metadata": {
        "id": "qyvHW2B5OQo0",
        "colab_type": "text"
      },
      "source": [
        "##The **setdefault()** Method\n",
        "\n",
        "If the key is not found in the list and if the user wants a default value to be assigned, then we can use setdefualt() method, if the key is already exist, then, function returns existing value of the key in dictionary."
      ]
    },
    {
      "cell_type": "code",
      "metadata": {
        "id": "arL3X3zXPqSF",
        "colab_type": "code",
        "colab": {}
      },
      "source": [
        "spam = {'name': 'Pooka', 'age': 5}\n",
        "spam.setdefault('color', 'black')"
      ],
      "execution_count": null,
      "outputs": []
    },
    {
      "cell_type": "code",
      "metadata": {
        "id": "NXDWZVAnPwM3",
        "colab_type": "code",
        "colab": {}
      },
      "source": [
        "spam"
      ],
      "execution_count": null,
      "outputs": []
    },
    {
      "cell_type": "code",
      "metadata": {
        "id": "RXh_U3ziP1Iu",
        "colab_type": "code",
        "colab": {}
      },
      "source": [
        "spam.setdefault('color', 'white')"
      ],
      "execution_count": null,
      "outputs": []
    },
    {
      "cell_type": "markdown",
      "metadata": {
        "id": "aCNCtB5aQFwJ",
        "colab_type": "text"
      },
      "source": [
        "The setdefault() method is a nice shortcut to ensure that a key exists.\n",
        "\n",
        "Example: To Create dictionary containing every character in a given text with number of times it appears in a text."
      ]
    },
    {
      "cell_type": "code",
      "metadata": {
        "id": "mDIAxBB5QIRH",
        "colab_type": "code",
        "colab": {}
      },
      "source": [
        "message = 'It was a bright cold day in April, and the clocks were striking thirteen.'\n",
        "count = {}\n",
        "for character in message:\n",
        "  count.setdefault(character, 0)\n",
        "  count[character] = count[character] + 1\n",
        "print(count)"
      ],
      "execution_count": null,
      "outputs": []
    },
    {
      "cell_type": "markdown",
      "metadata": {
        "id": "rAwHlwAeRZ9d",
        "colab_type": "text"
      },
      "source": [
        "##**Pretty Printing**\n",
        "*pprint()* and *pformat()* functions that will “pretty print” a dictionary’s\n",
        "values. This is helpful when you want a cleaner display of the items in a\n",
        "dictionary than what print() provides.\n",
        "\n"
      ]
    },
    {
      "cell_type": "code",
      "metadata": {
        "id": "eMd3ufnsRtO7",
        "colab_type": "code",
        "colab": {}
      },
      "source": [
        "import pprint\n",
        "message = 'It was a bright cold day in April, and the clocks were striking thirteen.'\n",
        "count = {}\n",
        "for character in message:\n",
        "  count.setdefault(character, 0)\n",
        "  count[character] = count[character] + 1\n",
        "pprint.pprint(count)"
      ],
      "execution_count": null,
      "outputs": []
    },
    {
      "cell_type": "markdown",
      "metadata": {
        "id": "tp77ZkFrSIEl",
        "colab_type": "text"
      },
      "source": [
        "The pprint.pprint() function is especially helpful when the dictionary itself contains nested lists or dictionaries.\n",
        "\n",
        "To obtain pprint() in a string like format (instead on printing), we can use \n",
        "pprint.pformat() method"
      ]
    },
    {
      "cell_type": "code",
      "metadata": {
        "id": "wl5kJjsbSdK8",
        "colab_type": "code",
        "colab": {
          "base_uri": "https://localhost:8080/",
          "height": 799
        },
        "outputId": "d8990171-e159-4849-e56e-2b5b1627985b"
      },
      "source": [
        "pprint.pprint(count)\n",
        "print(pprint.pformat(count))"
      ],
      "execution_count": null,
      "outputs": [
        {
          "output_type": "stream",
          "text": [
            "{' ': 13,\n",
            " ',': 1,\n",
            " '.': 1,\n",
            " 'A': 1,\n",
            " 'I': 1,\n",
            " 'a': 4,\n",
            " 'b': 1,\n",
            " 'c': 3,\n",
            " 'd': 3,\n",
            " 'e': 5,\n",
            " 'g': 2,\n",
            " 'h': 3,\n",
            " 'i': 6,\n",
            " 'k': 2,\n",
            " 'l': 3,\n",
            " 'n': 4,\n",
            " 'o': 2,\n",
            " 'p': 1,\n",
            " 'r': 5,\n",
            " 's': 3,\n",
            " 't': 6,\n",
            " 'w': 2,\n",
            " 'y': 1}\n",
            "{' ': 13,\n",
            " ',': 1,\n",
            " '.': 1,\n",
            " 'A': 1,\n",
            " 'I': 1,\n",
            " 'a': 4,\n",
            " 'b': 1,\n",
            " 'c': 3,\n",
            " 'd': 3,\n",
            " 'e': 5,\n",
            " 'g': 2,\n",
            " 'h': 3,\n",
            " 'i': 6,\n",
            " 'k': 2,\n",
            " 'l': 3,\n",
            " 'n': 4,\n",
            " 'o': 2,\n",
            " 'p': 1,\n",
            " 'r': 5,\n",
            " 's': 3,\n",
            " 't': 6,\n",
            " 'w': 2,\n",
            " 'y': 1}\n"
          ],
          "name": "stdout"
        }
      ]
    }
  ]
}
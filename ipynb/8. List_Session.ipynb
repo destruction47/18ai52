{
  "nbformat": 4,
  "nbformat_minor": 0,
  "metadata": {
    "colab": {
      "name": "List_Session_11.ipynb",
      "provenance": []
    },
    "kernelspec": {
      "name": "python3",
      "display_name": "Python 3"
    }
  },
  "cells": [
    {
      "cell_type": "markdown",
      "metadata": {
        "id": "I3umsw8sL0IS",
        "colab_type": "text"
      },
      "source": [
        "#**Methods**\n",
        "Function called from List object are called methods\n",
        "\n",
        "##Finding a Value in a List with the **index()** Method\n",
        "\n",
        "It returns the index of the passed value if it is found in the list, else ValueError is thrown\n",
        "\n",
        "When there are duplicates of the value in the list, the index of its first\n",
        "appearance is returned"
      ]
    },
    {
      "cell_type": "code",
      "metadata": {
        "id": "B5ktl6iBM21E",
        "colab_type": "code",
        "colab": {}
      },
      "source": [
        "spam = ['hello', 'hi', 'howdy', 'heyas']\n",
        "spam.index('hello')"
      ],
      "execution_count": null,
      "outputs": []
    },
    {
      "cell_type": "code",
      "metadata": {
        "id": "GFTCLpzuM_ob",
        "colab_type": "code",
        "colab": {}
      },
      "source": [
        "spam.index('heyas')"
      ],
      "execution_count": null,
      "outputs": []
    },
    {
      "cell_type": "code",
      "metadata": {
        "id": "-bwuEUTSNDT1",
        "colab_type": "code",
        "colab": {}
      },
      "source": [
        "spam.index('howdy howdy howdy')"
      ],
      "execution_count": null,
      "outputs": []
    },
    {
      "cell_type": "code",
      "metadata": {
        "id": "DkU1Hx9LNUxe",
        "colab_type": "code",
        "colab": {}
      },
      "source": [
        "spam = ['Zophie', 'Pooka', 'Fat-tail', 'Pooka']\n",
        "spam.index('Pooka')"
      ],
      "execution_count": null,
      "outputs": []
    },
    {
      "cell_type": "markdown",
      "metadata": {
        "id": "-ZplNJ1_NeH3",
        "colab_type": "text"
      },
      "source": [
        "##Adding Values to Lists with the **append()** and **insert()** Methods\n",
        "\n",
        "append() method adds new value to the **end** of the list\n",
        "\n",
        "insert() method adds new value to the **specified position** in the list\n",
        "\n",
        "Both will **not return** any new list"
      ]
    },
    {
      "cell_type": "code",
      "metadata": {
        "id": "TmcJVqG-OwQx",
        "colab_type": "code",
        "colab": {}
      },
      "source": [
        "spam = ['cat', 'dog', 'bat']\n",
        "spam.append('moose')\n",
        "spam"
      ],
      "execution_count": null,
      "outputs": []
    },
    {
      "cell_type": "code",
      "metadata": {
        "id": "bwM5Zt04O7fj",
        "colab_type": "code",
        "colab": {}
      },
      "source": [
        "spam = ['cat', 'dog', 'bat']\n",
        "spam.insert(1, 'chicken')\n",
        "spam"
      ],
      "execution_count": null,
      "outputs": []
    },
    {
      "cell_type": "markdown",
      "metadata": {
        "id": "4ENncFvAPKPC",
        "colab_type": "text"
      },
      "source": [
        "In insert() if the index position beyond range, then, new value will be inserted at the end of the list (if position is positive) or begining of the list (if the position is negative)"
      ]
    },
    {
      "cell_type": "code",
      "metadata": {
        "id": "HS8Bw3TFPAfh",
        "colab_type": "code",
        "colab": {}
      },
      "source": [
        "spam.insert(-10, 'rat')\n",
        "spam"
      ],
      "execution_count": null,
      "outputs": []
    },
    {
      "cell_type": "markdown",
      "metadata": {
        "id": "5yvHrz2jQcjB",
        "colab_type": "text"
      },
      "source": [
        "##Removing Values from Lists with **remove()**\n",
        "\n",
        "remove() method is used to remove a value from the list"
      ]
    },
    {
      "cell_type": "code",
      "metadata": {
        "id": "G9P4r81dQs3X",
        "colab_type": "code",
        "colab": {}
      },
      "source": [
        "spam = ['cat', 'bat', 'rat', 'elephant']\n",
        "spam.remove('bat')\n",
        "spam"
      ],
      "execution_count": null,
      "outputs": []
    },
    {
      "cell_type": "markdown",
      "metadata": {
        "id": "pFOmVvy8Q_sS",
        "colab_type": "text"
      },
      "source": [
        "Attempting to delete a value that does not exist in the list will result in\n",
        "a **ValueError** error"
      ]
    },
    {
      "cell_type": "code",
      "metadata": {
        "id": "yFabVplTRDUT",
        "colab_type": "code",
        "colab": {}
      },
      "source": [
        "spam = ['cat', 'bat', 'rat', 'elephant']\n",
        "spam.remove('chicken')"
      ],
      "execution_count": null,
      "outputs": []
    },
    {
      "cell_type": "markdown",
      "metadata": {
        "id": "VmGGilRPRIoy",
        "colab_type": "text"
      },
      "source": [
        "If the value appears multiple times in the list, only the **first instance** of\n",
        "the value will be removed"
      ]
    },
    {
      "cell_type": "code",
      "metadata": {
        "id": "PChXMvGyRRA6",
        "colab_type": "code",
        "colab": {}
      },
      "source": [
        "spam = ['cat', 'bat', 'rat', 'cat', 'hat', 'cat']\n",
        "spam.remove('cat')\n",
        "spam"
      ],
      "execution_count": null,
      "outputs": []
    },
    {
      "cell_type": "markdown",
      "metadata": {
        "id": "H8qiMqJKU90c",
        "colab_type": "text"
      },
      "source": [
        "*del can replace remove by using following way*"
      ]
    },
    {
      "cell_type": "code",
      "metadata": {
        "id": "fVJSmqisSZlP",
        "colab_type": "code",
        "colab": {}
      },
      "source": [
        "del spam[0]\n",
        "spam"
      ],
      "execution_count": null,
      "outputs": []
    },
    {
      "cell_type": "markdown",
      "metadata": {
        "id": "QNicRRUrRxHc",
        "colab_type": "text"
      },
      "source": [
        "##Sorting the Values in a List with the **sort()** Method\n"
      ]
    },
    {
      "cell_type": "code",
      "metadata": {
        "id": "owGgbHRLVbfb",
        "colab_type": "code",
        "colab": {}
      },
      "source": [
        "spam = [2, 5, 3.14, 1, -7]\n",
        "spam.sort()\n",
        "spam"
      ],
      "execution_count": null,
      "outputs": []
    },
    {
      "cell_type": "code",
      "metadata": {
        "id": "2vhGJSKyVemL",
        "colab_type": "code",
        "colab": {}
      },
      "source": [
        "spam = ['ants', 'cats', 'dogs', 'badgers', 'elephants']\n",
        "spam.sort()\n",
        "spam"
      ],
      "execution_count": null,
      "outputs": []
    },
    {
      "cell_type": "markdown",
      "metadata": {
        "id": "7S4gfMabVt2B",
        "colab_type": "text"
      },
      "source": [
        "You can also pass **True** for the *reverse* keyword argument to have sort()\n",
        "sort the values in `reverse order`"
      ]
    },
    {
      "cell_type": "code",
      "metadata": {
        "id": "l7T17ZlmV_y0",
        "colab_type": "code",
        "colab": {}
      },
      "source": [
        "spam.sort(reverse=True)\n",
        "spam"
      ],
      "execution_count": null,
      "outputs": []
    },
    {
      "cell_type": "markdown",
      "metadata": {
        "id": "A4g-S1SRWZgW",
        "colab_type": "text"
      },
      "source": [
        "There are three things you should note about the **sort()** method\n",
        "\n",
        "\n",
        "1.   sort() method sorts the list `in-place` (in the same list)\n",
        "2.   `cannot sort` lists that have both number values and string values in them\n",
        "\n"
      ]
    },
    {
      "cell_type": "code",
      "metadata": {
        "id": "cqpcNtCYXAtK",
        "colab_type": "code",
        "colab": {}
      },
      "source": [
        "spam = [1, 3, 2, 4, 'Alice', 'Bob']\n",
        "spam.sort()"
      ],
      "execution_count": null,
      "outputs": []
    },
    {
      "cell_type": "markdown",
      "metadata": {
        "id": "hUBVL0JIXF7v",
        "colab_type": "text"
      },
      "source": [
        "\n",
        "\n",
        "3.   sort() uses “**ASCIIbetical order**” rather than actual alphabetical order for sorting strings (upper case alphabets comes ahead of lower case)\n"
      ]
    },
    {
      "cell_type": "code",
      "metadata": {
        "id": "0MnXS3sZXiFT",
        "colab_type": "code",
        "colab": {}
      },
      "source": [
        "spam = ['Alice', 'ants', 'Bob', 'badgers', 'Carol', 'cats']\n",
        "spam.sort()\n",
        "spam"
      ],
      "execution_count": null,
      "outputs": []
    },
    {
      "cell_type": "markdown",
      "metadata": {
        "id": "AywyH2qGXskA",
        "colab_type": "text"
      },
      "source": [
        "If you need to sort the values in regular alphabetical order, pass str.\n",
        "`lower` for the `key` keyword argument in the sort() method call. This causes the sort() function to treat all the items in the list as if they\n",
        "were lowercase without actually changing the values in the list."
      ]
    },
    {
      "cell_type": "code",
      "metadata": {
        "id": "O2ahD_J8YE66",
        "colab_type": "code",
        "colab": {}
      },
      "source": [
        "spam = ['a', 'z', 'A', 'Z']\n",
        "spam.sort(key=str.lower)\n",
        "spam"
      ],
      "execution_count": null,
      "outputs": []
    },
    {
      "cell_type": "markdown",
      "metadata": {
        "id": "eZw7Rb47YOII",
        "colab_type": "text"
      },
      "source": [
        "#Example Program: **Magic 8 Ball** with a List"
      ]
    },
    {
      "cell_type": "code",
      "metadata": {
        "id": "Hkll5uhOZlx1",
        "colab_type": "code",
        "colab": {
          "base_uri": "https://localhost:8080/",
          "height": 35
        },
        "outputId": "d5d70c6b-ea35-4c57-9cc2-72cec642ccce"
      },
      "source": [
        "import random\n",
        "messages = ['It is certain',\n",
        "            'It is decidedly so',\n",
        "            'Yes definitely',\n",
        "            'Reply hazy try again',\n",
        "            'Ask again later',\n",
        "            'Concentrate and ask again',\n",
        "            'My reply is no',\n",
        "            'Outlook not so good',\n",
        "            'Very doubtful']\n",
        "print(messages[random.randint(0, len(messages) - 1)])"
      ],
      "execution_count": null,
      "outputs": [
        {
          "output_type": "stream",
          "text": [
            "Yes definitely\n"
          ],
          "name": "stdout"
        }
      ]
    },
    {
      "cell_type": "code",
      "metadata": {
        "id": "eHJRNX88e-we",
        "colab_type": "code",
        "colab": {}
      },
      "source": [
        "x=10-12"
      ],
      "execution_count": null,
      "outputs": []
    },
    {
      "cell_type": "code",
      "metadata": {
        "id": "cJ5ZXnIKfWAA",
        "colab_type": "code",
        "colab": {}
      },
      "source": [
        "print(x)"
      ],
      "execution_count": null,
      "outputs": []
    }
  ]
}